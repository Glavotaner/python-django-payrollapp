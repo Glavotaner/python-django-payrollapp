{
 "metadata": {
  "language_info": {
   "codemirror_mode": {
    "name": "ipython",
    "version": 3
   },
   "file_extension": ".py",
   "mimetype": "text/x-python",
   "name": "python",
   "nbconvert_exporter": "python",
   "pygments_lexer": "ipython3",
   "version": "3.7.8-final"
  },
  "orig_nbformat": 2,
  "kernelspec": {
   "name": "python37864bitenvvenv44c0b1118a5e4d87a8266863ec612987",
   "display_name": "Python 3.7.8 64-bit ('env': venv)"
  }
 },
 "nbformat": 4,
 "nbformat_minor": 2,
 "cells": [
  {
   "cell_type": "code",
   "execution_count": 4,
   "metadata": {
    "tags": []
   },
   "outputs": [
    {
     "output_type": "stream",
     "name": "stdout",
     "text": "Collecting pandasNote: you may need to restart the kernel to use updated packages.\n\nWARNING: You are using pip version 20.1.1; however, version 20.2.2 is available.\nYou should consider upgrading via the 'a:\\Programiranje\\Kod\\Python\\web\\python-django-payrollapp\\env\\Scripts\\python.exe -m pip install --upgrade pip' command.\n  Downloading pandas-1.1.1-cp37-cp37m-win_amd64.whl (9.4 MB)\nRequirement already satisfied: pytz>=2017.2 in a:\\programiranje\\kod\\python\\web\\python-django-payrollapp\\env\\lib\\site-packages (from pandas) (2020.1)\nCollecting numpy>=1.15.4\n  Using cached numpy-1.19.1-cp37-cp37m-win_amd64.whl (12.9 MB)\nRequirement already satisfied: python-dateutil>=2.7.3 in a:\\programiranje\\kod\\python\\web\\python-django-payrollapp\\env\\lib\\site-packages (from pandas) (2.8.1)\nRequirement already satisfied: six>=1.5 in a:\\programiranje\\kod\\python\\web\\python-django-payrollapp\\env\\lib\\site-packages (from python-dateutil>=2.7.3->pandas) (1.15.0)\nInstalling collected packages: numpy, pandas\nSuccessfully installed numpy-1.19.1 pandas-1.1.1\n"
    }
   ],
   "source": [
    "pip install pandas"
   ]
  },
  {
   "cell_type": "code",
   "execution_count": 5,
   "metadata": {},
   "outputs": [],
   "source": [
    "import pandas as pd"
   ]
  },
  {
   "cell_type": "code",
   "execution_count": 21,
   "metadata": {},
   "outputs": [],
   "source": [
    "cities = pd.read_csv('gradovi.csv', sep=',')"
   ]
  },
  {
   "cell_type": "code",
   "execution_count": 22,
   "metadata": {},
   "outputs": [
    {
     "output_type": "execute_result",
     "data": {
      "text/plain": "0                  Bedenica\n1                    Bistra\n2               Brckovljani\n3                   Brdovec\n4                   Dubrava\n               ...         \n551    Sveti Martin na Muri\n552                Šenkovec\n553                Štrigova\n554              Vratišinec\n555                  Zagreb\nName: Ime jedinice, Length: 556, dtype: object"
     },
     "metadata": {},
     "execution_count": 22
    }
   ],
   "source": [
    "cities['Ime jedinice']"
   ]
  }
 ]
}