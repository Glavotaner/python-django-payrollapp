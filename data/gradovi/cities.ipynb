{
 "cells": [
  {
   "cell_type": "code",
   "execution_count": null,
   "metadata": {
    "collapsed": true
   },
   "outputs": [],
   "source": [
    "import json\n",
    "\n",
    "from bs4 import BeautifulSoup\n",
    "from requests import get\n",
    "\n",
    "page: int = 1\n",
    "\n",
    "cities: dict = {}\n",
    "\n",
    "while True:\n",
    "    query: str = f'https://www.posta.hr/pretrazivanje-postanskih-ureda/263?pojam=&page={page}'\n",
    "\n",
    "    postal_codes_page = get(query)\n",
    "\n",
    "    soup = BeautifulSoup(postal_codes_page.content, 'html.parser')\n",
    "\n",
    "    table = soup.find(\"table\", attrs={\"class\": \"tablica-borders\"})\n",
    "\n",
    "    # the address has an \"infinite\" number of pages\n",
    "    # the last page's table only has 1 tr, with table heading, no data\n",
    "    if len(table.findAll('tr')) <= 1:\n",
    "        break\n",
    "\n",
    "    trs: list = table.find_all(\"tr\")\n",
    "\n",
    "    trs = trs[1:]\n",
    "\n",
    "    for tag in trs:\n",
    "\n",
    "        text: str = tag.text\n",
    "\n",
    "        postal_code: str = text[:5].strip()\n",
    "\n",
    "        comma: int = text.find(',')\n",
    "\n",
    "        city: str = text[5:comma].strip()\n",
    "        # if city == '':\n",
    "        #    continue\n",
    "\n",
    "        print(postal_code + ' ' + city)\n",
    "\n",
    "        if city not in cities.keys():\n",
    "            cities[city] = [postal_code]\n",
    "        else:\n",
    "            cities[city].append(postal_code)\n",
    "\n",
    "    print(str(page) + '---------------------' + str(len(trs)))\n",
    "    page += 1\n",
    "    trs = []\n",
    "\n",
    "\n",
    "# codes_file = open('pcodes.json', encoding='UTF-8', mode='w')\n",
    "\n",
    "# json.dump(cities, codes_file)\n",
    "\n",
    "# codes_file.close()"
   ]
  },
  {
   "cell_type": "code",
   "execution_count": 10,
   "outputs": [
    {
     "ename": "TypeError",
     "evalue": "string indices must be integers",
     "output_type": "error",
     "traceback": [
      "\u001B[1;31m---------------------------------------------------------------------------\u001B[0m",
      "\u001B[1;31mTypeError\u001B[0m                                 Traceback (most recent call last)",
      "\u001B[1;32m<ipython-input-10-bc61efa069bd>\u001B[0m in \u001B[0;36m<module>\u001B[1;34m\u001B[0m\n\u001B[0;32m     65\u001B[0m \u001B[0mx\u001B[0m \u001B[1;33m=\u001B[0m \u001B[0mmap\u001B[0m\u001B[1;33m(\u001B[0m\u001B[0mfind_cities\u001B[0m\u001B[1;33m,\u001B[0m \u001B[0mjson_cities\u001B[0m\u001B[1;33m,\u001B[0m \u001B[0mbad\u001B[0m\u001B[1;33m)\u001B[0m\u001B[1;33m\u001B[0m\u001B[1;33m\u001B[0m\u001B[0m\n\u001B[0;32m     66\u001B[0m \u001B[1;33m\u001B[0m\u001B[0m\n\u001B[1;32m---> 67\u001B[1;33m \u001B[0mprint\u001B[0m\u001B[1;33m(\u001B[0m\u001B[0mlist\u001B[0m\u001B[1;33m(\u001B[0m\u001B[0mx\u001B[0m\u001B[1;33m)\u001B[0m\u001B[1;33m)\u001B[0m\u001B[1;33m\u001B[0m\u001B[1;33m\u001B[0m\u001B[0m\n\u001B[0m\u001B[0;32m     68\u001B[0m \u001B[1;33m\u001B[0m\u001B[0m\n",
      "\u001B[1;32m<ipython-input-10-bc61efa069bd>\u001B[0m in \u001B[0;36mfind_cities\u001B[1;34m(cities_list_1, cities_list_2)\u001B[0m\n\u001B[0;32m     58\u001B[0m \u001B[1;33m\u001B[0m\u001B[0m\n\u001B[0;32m     59\u001B[0m         \u001B[1;32mfor\u001B[0m \u001B[0mcity2\u001B[0m \u001B[1;32min\u001B[0m \u001B[0mcities_list_2\u001B[0m\u001B[1;33m:\u001B[0m\u001B[1;33m\u001B[0m\u001B[1;33m\u001B[0m\u001B[0m\n\u001B[1;32m---> 60\u001B[1;33m             \u001B[1;32mif\u001B[0m \u001B[0mcity2\u001B[0m\u001B[1;33m[\u001B[0m\u001B[1;34m'fields'\u001B[0m\u001B[1;33m]\u001B[0m\u001B[1;33m[\u001B[0m\u001B[1;34m'city_name'\u001B[0m\u001B[1;33m]\u001B[0m \u001B[1;33m==\u001B[0m \u001B[0mcity\u001B[0m\u001B[1;33m[\u001B[0m\u001B[1;34m'fields'\u001B[0m\u001B[1;33m]\u001B[0m\u001B[1;33m[\u001B[0m\u001B[1;34m'city_name'\u001B[0m\u001B[1;33m]\u001B[0m \u001B[1;32mand\u001B[0m \u001B[0mcity\u001B[0m\u001B[1;33m[\u001B[0m\u001B[1;34m'fields'\u001B[0m\u001B[1;33m]\u001B[0m\u001B[1;33m[\u001B[0m\u001B[1;34m'postal_code'\u001B[0m\u001B[1;33m]\u001B[0m \u001B[1;33m==\u001B[0m \u001B[1;34m'0'\u001B[0m\u001B[1;33m:\u001B[0m\u001B[1;33m\u001B[0m\u001B[1;33m\u001B[0m\u001B[0m\n\u001B[0m\u001B[0;32m     61\u001B[0m                 \u001B[0mcities_list_1\u001B[0m\u001B[1;33m[\u001B[0m\u001B[0mi\u001B[0m\u001B[1;33m]\u001B[0m\u001B[1;33m[\u001B[0m\u001B[1;34m'fields'\u001B[0m\u001B[1;33m]\u001B[0m\u001B[1;33m[\u001B[0m\u001B[1;34m'postal_code'\u001B[0m\u001B[1;33m]\u001B[0m \u001B[1;33m==\u001B[0m \u001B[0mcity2\u001B[0m\u001B[1;33m[\u001B[0m\u001B[1;34m'fields'\u001B[0m\u001B[1;33m]\u001B[0m\u001B[1;33m[\u001B[0m\u001B[1;34m'postal_code'\u001B[0m\u001B[1;33m]\u001B[0m\u001B[1;33m\u001B[0m\u001B[1;33m\u001B[0m\u001B[0m\n\u001B[0;32m     62\u001B[0m \u001B[1;33m\u001B[0m\u001B[0m\n",
      "\u001B[1;31mTypeError\u001B[0m: string indices must be integers"
     ]
    }
   ],
   "source": [
    "import json\n",
    "\n",
    "codes_file = open('pcodes.json', encoding='UTF-8', mode='r')\n",
    "cities_file = open('cities_fixtures.json', encoding='UTF-8', mode='r')\n",
    "\n",
    "json_codes = json.load(codes_file)\n",
    "json_cities = json.load(cities_file)\n",
    "\n",
    "for i, city in enumerate(json_cities):\n",
    "    cname: str = city['fields']['city_name']\n",
    "\n",
    "    pcode: str = json_codes.get(cname, '00000')\n",
    "\n",
    "    city['fields']['postal_code'] = pcode[0]\n",
    "\n",
    "    json_cities[i] = city\n",
    "\n",
    "# batch of unmatched cities\n",
    "bad: list = [city for city in json_cities if city['fields']['postal_code'] == '0']\n",
    "\n",
    "\n",
    "for i, city in enumerate(bad):\n",
    "\n",
    "    for city2, code in json_codes.items():\n",
    "        bracket: int = city2.find('(')\n",
    "\n",
    "        # some cities have an alias name (eg. cities with italian names)\n",
    "        # so remove the alias part by only taking the city name up to the index of the bracket\n",
    "        if bracket != -1:\n",
    "            cname: str = city2[:bracket-1]\n",
    "        else:\n",
    "            cname: str = city2\n",
    "\n",
    "        # some cities in json_cities start with 'GRAD' ('CITY'), but not in json_codes\n",
    "        # so add 'GRAD ' to city name search term\n",
    "        if city['fields']['city_name'].startswith('GRAD'):\n",
    "            cname = 'GRAD ' + cname\n",
    "\n",
    "        # some places are prefixed with 'ZAGREB-'\n",
    "        # remove prefix\n",
    "        if cname.startswith('ZAGREB-'):\n",
    "            cname = cname[len('ZAGREB-'):]\n",
    "\n",
    "        # one place has a name with a different dialect across json_cities and json_codes\n",
    "        # equalize dialects\n",
    "        if cname.find('NEDELJA') != -1:\n",
    "            cname = cname.replace('NEDELJA', 'NEDJELJA')\n",
    "\n",
    "        # only set postal code for city which doesn't already have one\n",
    "        if cname == city['fields']['city_name'] and city['fields']['postal_code'] == '0':\n",
    "            bad[i]['fields']['postal_code'] = code\n",
    "        else:\n",
    "            continue"
   ],
   "metadata": {
    "collapsed": false,
    "pycharm": {
     "name": "#%%\n"
    }
   }
  },
  {
   "cell_type": "code",
   "execution_count": 38,
   "outputs": [
    {
     "name": "stdout",
     "output_type": "stream",
     "text": [
      "{\"b'ZAGREB'\": ['10000', '10101', '10103', '10104', '10105', '10106', '10108', '10109', '10110', '10111', '10112', '10113', '10114', '10115', '10116', '10119', '10120', '10121', '10122', '10123', '10124', '10126', '10128', '10129', '10130', '10131', '10132', '10133', '10134', '10135', '10136', '10137', '10138', '10139', '10140', '10141', '10142', '10144', '10145', '10146', '10147', '10148', '10151', '10153', '10156', '10158', '10160', '10162', '10163', '10166', '10168', '10169', '10172', '10173', '10174', '10175'], \"b'ZAGREB-CARINA'\": ['10004'], \"b'ZAGREB-SLOBO\\\\xc5\\\\xa0TINA'\": ['10010'], \"b'ZAGREB-NOVI ZAGREB'\": ['10020'], \"b'ZAGREB-DUBRAVA'\": ['10040'], \"b'ZAGREB-SUSEDGRAD'\": ['10090'], \"b'ZAGREB-ZRA\\\\xc4\\\\x8cNA LUKA'\": ['10150'], \"b'LU\\\\xc4\\\\x8cKO'\": ['10250'], \"b'HRVATSKI LESKOVAC'\": ['10251'], \"b'KUPINE\\\\xc4\\\\x8cKI KRALJEVEC'\": ['10252'], \"b'DONJI DRAGONO\\\\xc5\\\\xbdEC'\": ['10253'], \"b'ODRA'\": ['10254'], \"b'GORNJI STUPNIK'\": ['10255'], \"b'BOTINEC'\": ['10256'], \"b'BREZOVICA'\": ['10257'], \"b'ZAPRE\\\\xc5\\\\xa0I\\\\xc4\\\\x86'\": ['10290'], \"b'PRIGORJE BRDOVE\\\\xc4\\\\x8cKO'\": ['10291'], \"b'\\\\xc5\\\\xa0ENKOVEC'\": ['10292'], \"b'DUBRAVICA'\": ['10293'], \"b'DONJA PU\\\\xc5\\\\xa0\\\\xc4\\\\x86A'\": ['10294'], \"b'KUPLJENOVO'\": ['10295'], \"b'LUKA'\": ['10296'], \"b'JAKOVLJE'\": ['10297'], \"b'BISTRA'\": ['10298'], \"b'MARIJA GORICA'\": ['10299'], \"b'IVANI\\\\xc4\\\\x86 GRAD'\": ['10310'], \"b'POSAVSKI BREGI'\": ['10311'], \"b'KLO\\\\xc5\\\\xa0TAR IVANI\\\\xc4\\\\x86'\": ['10312'], \"b'GRABERJE IVANI\\\\xc4\\\\x8cKO'\": ['10313'], \"b'KRI\\\\xc5\\\\xbd'\": ['10314'], \"b'NOVOSELEC'\": ['10315'], \"b'LIJEVI DUBROV\\\\xc4\\\\x8cAK'\": ['10316'], \"b'VRBOVEC'\": ['10340'], \"b'DUBRAVA'\": ['10342'], \"b'FARKA\\\\xc5\\\\xa0EVAC'\": ['10344'], \"b'GRADEC'\": ['10345'], \"b'PRESEKA'\": ['10346'], \"b'RAKOVEC'\": ['10347'], \"b'SESVETE'\": ['10360', '10365'], \"b'SESVETE-KRALJEVEC'\": ['10361'], \"b'KA\\\\xc5\\\\xa0INA'\": ['10362'], \"b'BELOVAR'\": ['10363'], \"b'DUGO SELO'\": ['10370'], \"b'RUGVICA'\": ['10372'], \"b'IVANJA REKA'\": ['10373'], \"b'SVETI IVAN ZELINA'\": ['10380'], \"b'BEDENICA'\": ['10381'], \"b'DONJA ZELINA'\": ['10382'], \"b'KOMIN'\": ['10383'], \"b'\\\\xc5\\\\xa0\\\\xc4\\\\x86ITARJEVO'\": ['10407'], \"b'VELIKA MLAKA'\": ['10408'], \"b'VELIKA GORICA'\": ['10409', '10410'], \"b'ORLE'\": ['10411'], \"b'DONJA LOMNICA'\": ['10412'], \"b'KRAVARSKO'\": ['10413'], \"b'POKUPSKO'\": ['10414'], \"b'NOVO \\\\xc4\\\\x8cI\\\\xc4\\\\x8cE'\": ['10415'], \"b'BU\\\\xc5\\\\xa0EVEC'\": ['10417'], \"b'DUBRANEC SEZ.'\": ['10418'], \"b'VUKOVINA'\": ['10419'], \"b'SAMOBOR'\": ['10430', '10433'], \"b'SVETA NEDELJA'\": ['10431'], \"b'BREGANA'\": ['10432'], \"b'STRMEC'\": ['10434'], \"b'SVETI MARTIN POD OKI\\\\xc4\\\\x86EM'\": ['10435'], \"b'RAKOV POTOK'\": ['10436'], \"b'BESTOVJE'\": ['10437'], \"b'JASTREBARSKO'\": ['10450'], \"b'PISAROVINA'\": ['10451'], \"b'KLIN\\\\xc4\\\\x8cA SELA'\": ['10452'], \"b'GORICA SVETOJANSKA'\": ['10453'], \"b'KRA\\\\xc5\\\\xa0I\\\\xc4\\\\x86'\": ['10454'], \"b'KOSTANJEVAC'\": ['10455'], \"b'KALJE  SEZ.'\": ['10456'], \"b'SO\\\\xc5\\\\xa0ICE SEZ.'\": ['10457'], \"b'DUBROVNIK'\": ['20000', '20103', '20106', '20107', '20108', '20109'], \"b'TOPOLO'\": ['20205'], \"b'MLINI'\": ['20207'], \"b'CAVTAT'\": ['20210'], \"b'\\\\xc4\\\\x8cILIPI'\": ['20213'], \"b'GRUDA'\": ['20215'], \"b'DUBRAVKA'\": ['20216'], \"b'KOLO\\\\xc4\\\\x8cEP'\": ['20221'], \"b'LOPUD'\": ['20222'], \"b'\\\\xc5\\\\xa0IPANJSKA LUKA'\": ['20223'], \"b'MARANOVI\\\\xc4\\\\x86I  SEZ.'\": ['20224'], \"b'BABINO POLJE'\": ['20225'], \"b'GOVE\\\\xc4\\\\x90ARI'\": ['20226'], \"b'STON'\": ['20230'], \"b'SLANO'\": ['20232'], \"b'ZATON VELIKI'\": ['20235'], \"b'MOKO\\\\xc5\\\\xa0ICA'\": ['20236'], \"b'TRPANJ'\": ['20240'], \"b'OSKORU\\\\xc5\\\\xa0NO'\": ['20242'], \"b'KUNA'\": ['20243'], \"b'POTOMJE'\": ['20244'], \"b'TRSTENIK'\": ['20245'], \"b'JANJINA'\": ['20246'], \"b'\\\\xc5\\\\xbdULJANA'\": ['20247'], \"b'PUTNIKOVI\\\\xc4\\\\x86'\": ['20248'], \"b'OREBI\\\\xc4\\\\x86'\": ['20250'], \"b'KOR\\\\xc4\\\\x8cULA'\": ['20260'], \"b'LUMBARDA'\": ['20263'], \"b'RA\\\\xc4\\\\x8cI\\\\xc5\\\\xa0\\\\xc4\\\\x86E'\": ['20264'], \"b'KU\\\\xc4\\\\x86I\\\\xc5\\\\xa0TE'\": ['20267'], \"b'LOVI\\\\xc5\\\\xa0TE'\": ['20269'], \"b'VELA LUKA'\": ['20270'], \"b'BLATO'\": ['20271'], \"b'SMOKVICA'\": ['20272'], \"b'\\\\xc4\\\\x8cARA'\": ['20273'], \"b'PUPNAT'\": ['20274'], \"b'\\\\xc5\\\\xbdRNOVO'\": ['20275'], \"b'NOVA SELA'\": ['20278'], \"b'UBLI  SEZ.'\": ['20289'], \"b'LASTOVO'\": ['20290'], \"b'PLO\\\\xc4\\\\x8cE'\": ['20340'], \"b'KULA NORINSKA'\": ['20341'], \"b'OTRI\\\\xc4\\\\x86 SEOCI'\": ['20342'], \"b'ROGOTIN'\": ['20343'], \"b'KOMIN (DALMACIJA)'\": ['20344'], \"b'STA\\\\xc5\\\\xa0EVICA'\": ['20345'], \"b'METKOVI\\\\xc4\\\\x86'\": ['20350'], \"b'VID'\": ['20352'], \"b'MLINI\\\\xc5\\\\xa0TE'\": ['20353'], \"b'OPUZEN'\": ['20355'], \"b'KLEK'\": ['20356'], \"b'BLACE'\": ['20357'], \"b'SPLIT'\": ['21000', '21101', '21102', '21103', '21104', '21105', '21106', '21107', '21108', '21109', '21110', '21111', '21112', '21113', '21114', '21115', '21119'], \"b'PRGOMET'\": ['21201'], \"b'LE\\\\xc4\\\\x86EVIC'\": ['21202'], \"b'DONJI MU\\\\xc4\\\\x86'\": ['21203'], \"b'DUGOPOLJE'\": ['21204'], \"b'DONJE OGORJE'\": ['21206'], \"b'KOSTANJE'\": ['21207'], \"b'KU\\\\xc4\\\\x8cI\\\\xc4\\\\x86E'\": ['21208'], \"b'SOLIN'\": ['21209', '21210', '21285'], \"b'VRANJIC'\": ['21211'], \"b'KA\\\\xc5\\\\xa0TEL SU\\\\xc4\\\\x86URAC'\": ['21212'], \"b'KA\\\\xc5\\\\xa0TEL GOMILICA'\": ['21213'], \"b'KA\\\\xc5\\\\xa0TEL KAMBELOVAC'\": ['21214'], \"b'KA\\\\xc5\\\\xa0TEL LUK\\\\xc5\\\\xa0I\\\\xc4\\\\x86'\": ['21215'], \"b'KA\\\\xc5\\\\xa0TEL STARI'\": ['21216'], \"b'KA\\\\xc5\\\\xa0TEL \\\\xc5\\\\xa0TAFILI\\\\xc4\\\\x86'\": ['21217'], \"b'SEGET DONJI'\": ['21218'], \"b'TROGIR'\": ['21219', '21220'], \"b'MARINA'\": ['21222'], \"b'OKRUG GORNJI'\": ['21223'], \"b'SLATINE'\": ['21224'], \"b'DRVENIK VELIKI'\": ['21225'], \"b'VINI\\\\xc5\\\\xa0\\\\xc4\\\\x86E'\": ['21226'], \"b'PRIMORSKI DOLAC'\": ['21227'], \"b'BLIZNA DONJA'\": ['21228'], \"b'SINJ'\": ['21230'], \"b'KLIS'\": ['21231'], \"b'DICMO'\": ['21232'], \"b'HRVACE'\": ['21233'], \"b'BRNAZE'\": ['21234'], \"b'VRLIKA'\": ['21236'], \"b'OTOK (DALMACIJA)'\": ['21238'], \"b'TRILJ'\": ['21240'], \"b'OBROVAC SINJSKI'\": ['21241'], \"b'GRAB'\": ['21242'], \"b'CISTA VELIKA'\": ['21244'], \"b'AR\\\\xc5\\\\xbdANO'\": ['21246'], \"b'NEORI\\\\xc4\\\\x86'\": ['21247'], \"b'\\\\xc5\\\\xa0ESTANOVAC'\": ['21250'], \"b'\\\\xc5\\\\xbdRNOVNICA'\": ['21251'], \"b'TUGARE'\": ['21252'], \"b'GATA'\": ['21253'], \"b'BLATO NA CETINI'\": ['21254'], \"b'ZADVARJE'\": ['21255'], \"b'CISTA PROVO'\": ['21256'], \"b'LOVRE\\\\xc4\\\\x86'\": ['21257'], \"b'IMOTSKI'\": ['21260'], \"b'RUNOVI\\\\xc4\\\\x86'\": ['21261'], \"b'KAMENMOST  SEZ.'\": ['21262'], \"b'KRIVODOL'\": ['21263'], \"b'DONJI PROLO\\\\xc5\\\\xbdAC'\": ['21264'], \"b'STUDENCI'\": ['21265'], \"b'ZMIJAVCI'\": ['21266'], \"b'DRUM'\": ['21268'], \"b'ZAGVOZD'\": ['21270'], \"b'GRABOVAC'\": ['21271'], \"b'SLIVNO'\": ['21272'], \"b'DRAGLJANE'\": ['21275'], \"b'VRGORAC'\": ['21276'], \"b'VELIKI PROLOG'\": ['21277'], \"b'SRINJINE'\": ['21292'], \"b'MAKARSKA'\": ['21300'], \"b'OMI\\\\xc5\\\\xa0'\": ['21310'], \"b'STOBRE\\\\xc4\\\\x8c'\": ['21311'], \"b'PODSTRANA'\": ['21312'], \"b'JESENICE'\": ['21314'], \"b'DUGI RAT'\": ['21315'], \"b'LOKVA ROGOZNICA SEZ.'\": ['21317'], \"b'MIMICE'\": ['21318'], \"b'BA\\\\xc5\\\\xa0KA VODA'\": ['21320'], \"b'BRELA'\": ['21322'], \"b'PROMAJNA  SEZ.'\": ['21323'], \"b'TU\\\\xc4\\\\x8cEPI'\": ['21325'], \"b'PODGORA'\": ['21327'], \"b'DRA\\\\xc5\\\\xa0NICE'\": ['21328'], \"b'IGRANE'\": ['21329'], \"b'GRADAC'\": ['21330'], \"b'DRVENIK'\": ['21333'], \"b'ZAOSTROG'\": ['21334'], \"b'PODACA'\": ['21335'], \"b'SUPETAR'\": ['21400'], \"b'SUTIVAN'\": ['21403'], \"b'LO\\\\xc5\\\\xbdI\\\\xc5\\\\xa0\\\\xc4\\\\x86A'\": ['21404'], \"b'MILNA'\": ['21405'], \"b'POSTIRA'\": ['21410'], \"b'PU\\\\xc4\\\\x8cI\\\\xc5\\\\xa0\\\\xc4\\\\x86A'\": ['21412'], \"b'POVLJA'\": ['21413'], \"b'GORNJI HUMAC'\": ['21414'], \"b'BOL'\": ['21420'], \"b'NERE\\\\xc5\\\\xbdI\\\\xc5\\\\xa0\\\\xc4\\\\x86A'\": ['21423'], \"b'PRA\\\\xc5\\\\xbdNICA'\": ['21424'], \"b'SELCA'\": ['21425'], \"b'SUMARTIN'\": ['21426'], \"b'GROHOTE'\": ['21430'], \"b'STOMORSKA  SEZ.'\": ['21432'], \"b'HVAR'\": ['21450'], \"b'BRUSJE'\": ['21454'], \"b'STARI GRAD'\": ['21460'], \"b'VRBANJ'\": ['21462'], \"b'VRBOSKA'\": ['21463'], \"b'JELSA'\": ['21465'], \"b'ZASTRA\\\\xc5\\\\xbdI\\\\xc5\\\\xa0\\\\xc4\\\\x86E'\": ['21466'], \"b'GDINJ'\": ['21467'], \"b'BOGOMOLJE'\": ['21468'], \"b'SU\\\\xc4\\\\x86URAJ'\": ['21469'], \"b'VIS'\": ['21480'], \"b'POD\\\\xc5\\\\xa0PILJE SEZ.'\": ['21483'], \"b'KOMI\\\\xc5\\\\xbdA'\": ['21485'], \"b'\\\\xc5\\\\xa0IBENIK'\": ['22000', '22101', '22102', '22103', '22104', '22105', '22106', '22108'], \"b'\\\\xc5\\\\xa0IBENIK-ZABLA\\\\xc4\\\\x86E  SEZ.'\": ['22030'], \"b'PRIMO\\\\xc5\\\\xa0TEN'\": ['22202'], \"b'ROGOZNICA'\": ['22203'], \"b'PERKOVI\\\\xc4\\\\x86'\": ['22205'], \"b'VODICE'\": ['22211'], \"b'TRIBUNJ'\": ['22212'], \"b'PIROVAC'\": ['22213'], \"b'\\\\xc4\\\\x8cISTA VELIKA'\": ['22214'], \"b'ZATON'\": ['22215'], \"b'LOZOVAC'\": ['22221'], \"b'SKRADIN'\": ['22222'], \"b'ZLARIN'\": ['22232'], \"b'PRVI\\\\xc4\\\\x86 LUKA'\": ['22233'], \"b'PRVI\\\\xc4\\\\x86 \\\\xc5\\\\xa0EPURINE'\": ['22234'], \"b'KAPRIJE'\": ['22235'], \"b'\\\\xc5\\\\xbdIRJE'\": ['22236'], \"b'TISNO'\": ['22240'], \"b'JEZERA'\": ['22242'], \"b'MURTER'\": ['22243'], \"b'BETINA'\": ['22244'], \"b'KNIN'\": ['22300'], \"b'GOLUBI\\\\xc4\\\\x86'\": ['22301'], \"b'OKLAJ'\": ['22303'], \"b'KISTANJE'\": ['22305'], \"b'KIJEVO'\": ['22310'], \"b'DRNI\\\\xc5\\\\xa0'\": ['22320'], \"b'SIVERI\\\\xc4\\\\x86'\": ['22321'], \"b'RU\\\\xc5\\\\xbdI\\\\xc4\\\\x86'\": ['22322'], \"b'UNE\\\\xc5\\\\xa0I\\\\xc4\\\\x86'\": ['22323'], \"b'DRINOVCI'\": ['22324'], \"b'ZADAR'\": ['23000', '23103', '23104', '23105', '23106', '23107'], \"b'BIBINJE'\": ['23205'], \"b'SUKO\\\\xc5\\\\xa0AN'\": ['23206'], \"b'SVETI FILIP I JAKOV'\": ['23207'], \"b'BIOGRAD NA MORU'\": ['23210'], \"b'PAKO\\\\xc5\\\\xa0TANE'\": ['23211'], \"b'TKON'\": ['23212'], \"b'ZEMUNIK'\": ['23222'], \"b'\\\\xc5\\\\xa0KABRNJA'\": ['23223'], \"b'PRIDRAGA'\": ['23226'], \"b'PETR\\\\xc4\\\\x8cANE'\": ['23231'], \"b'NIN'\": ['23232'], \"b'PRIVLAKA (DALMACIJA)'\": ['23233'], \"b'VIR'\": ['23234'], \"b'VRSI'\": ['23235'], \"b'POLI\\\\xc4\\\\x8cNIK'\": ['23241'], \"b'POSEDARJE'\": ['23242'], \"b'JASENICE'\": ['23243'], \"b'STARIGRAD PAKLENICA'\": ['23244'], \"b'RA\\\\xc5\\\\xbdANAC'\": ['23248'], \"b'POVLJANA'\": ['23249'], \"b'PAG'\": ['23250'], \"b'KOLAN'\": ['23251'], \"b'PA\\\\xc5\\\\xa0MAN'\": ['23262'], \"b'\\\\xc5\\\\xbdDRELAC'\": ['23263'], \"b'NEVI\\\\xc4\\\\x90ANE'\": ['23264'], \"b'KUKLJICA'\": ['23271'], \"b'KALI'\": ['23272'], \"b'PREKO'\": ['23273'], \"b'LUKORAN  SEZ.'\": ['23274'], \"b'UGLJAN'\": ['23275'], \"b'SALI'\": ['23281'], \"b'\\\\xc5\\\\xbdMAN'\": ['23282'], \"b'RAVA'\": ['23283'], \"b'VELI I\\\\xc5\\\\xbd'\": ['23284'], \"b'BRBINJ'\": ['23285'], \"b'BO\\\\xc5\\\\xbdAVA'\": ['23286'], \"b'VELI RAT'\": ['23287'], \"b'SESTRUNJ'\": ['23291'], \"b'MOLAT'\": ['23292'], \"b'IST'\": ['23293'], \"b'PREMUDA'\": ['23294'], \"b'SILBA'\": ['23295'], \"b'OLIB'\": ['23296'], \"b'NOVIGRAD (DALMACIJA)'\": ['23312'], \"b'BENKOVAC'\": ['23420'], \"b'STANKOVCI'\": ['23422'], \"b'POLA\\\\xc4\\\\x8cA'\": ['23423'], \"b'GRA\\\\xc4\\\\x8cAC'\": ['23440'], \"b'SRB'\": ['23445'], \"b'OBROVAC'\": ['23450'], \"b'KARIN'\": ['23452'], \"b'OSIJEK'\": ['31000', '31103', '31104', '31105', '31106', '31107', '31108', '31110', '31111', '31112'], \"b'BIJELO BRDO'\": ['31204'], \"b'ALJMA\\\\xc5\\\\xa0'\": ['31205'], \"b'ERDUT'\": ['31206'], \"b'TENJA'\": ['31207'], \"b'PETRIJEVCI'\": ['31208'], \"b'LASLOVO (SZENTL\\\\xc3\\\\x81SZL\\\\xc3\\\\x93)'\": ['31214'], \"b'ERNESTINOVO'\": ['31215'], \"b'ANTUNOVAC'\": ['31216'], \"b'VI\\\\xc5\\\\xa0NJEVAC'\": ['31220'], \"b'BIZOVAC'\": ['31222'], \"b'BRO\\\\xc4\\\\x90ANCI'\": ['31223'], \"b'KO\\\\xc5\\\\xa0KA'\": ['31224'], \"b'BREZNICA NA\\\\xc5\\\\xa0I\\\\xc4\\\\x8cKA'\": ['31225'], \"b'DALJ'\": ['31226'], \"b'ZEL\\\\xc4\\\\x8cIN'\": ['31227'], \"b'BELI MANASTIR'\": ['31300'], \"b'KNE\\\\xc5\\\\xbdEVO'\": ['31302'], \"b'POPOVAC'\": ['31303'], \"b'DUBO\\\\xc5\\\\xa0EVICA'\": ['31304'], \"b'DRA\\\\xc5\\\\xbd'\": ['31305'], \"b'BATINA'\": ['31306'], \"b'ZMAJEVAC (V\\\\xc3\\\\x96R\\\\xc3\\\\x96SMART)'\": ['31307'], \"b'KNE\\\\xc5\\\\xbdEVI VINOGRADI'\": ['31309'], \"b'KARANAC'\": ['31315'], \"b'PETLOVAC'\": ['31321'], \"b'BARANJSKO PETROVO SELO'\": ['31322'], \"b'JAGODNJAK'\": ['31324'], \"b'\\\\xc4\\\\x8cEMINAC'\": ['31325'], \"b'DARDA'\": ['31326'], \"b'BILJE'\": ['31327'], \"b'LUG (LASK\\\\xc3\\\\x93)'\": ['31328'], \"b'\\\\xc4\\\\x90AKOVO'\": ['31400', '31405'], \"b'VI\\\\xc5\\\\xa0KOVCI'\": ['31401'], \"b'SEMELJCI'\": ['31402'], \"b'VUKA'\": ['31403'], \"b'VLADISLAVCI'\": ['31404'], \"b'STRIZIVOJNA'\": ['31410'], \"b'TRNAVA'\": ['31411'], \"b'LEVANJSKA VARO\\\\xc5\\\\xa0'\": ['31416'], \"b'PI\\\\xc5\\\\xa0KOREVCI'\": ['31417'], \"b'DRENJE'\": ['31418'], \"b'SATNICA \\\\xc4\\\\x90AKOVA\\\\xc4\\\\x8cKA'\": ['31421'], \"b'GORJANI'\": ['31422'], \"b'PUNITOVCI'\": ['31424'], \"b'\\\\xc4\\\\x8cEPIN'\": ['31431'], \"b'BUDIMCI'\": ['31432'], \"b'PODGORA\\\\xc4\\\\x8c'\": ['31433'], \"b'NA\\\\xc5\\\\xa0ICE'\": ['31500'], \"b'\\\\xc4\\\\x90UR\\\\xc4\\\\x90ENOVAC'\": ['31511'], \"b'FERI\\\\xc4\\\\x8cANCI'\": ['31512'], \"b'DONJA MOTI\\\\xc4\\\\x8cINA'\": ['31513'], \"b'PODRAVSKA MOSLAVINA'\": ['31530'], \"b'VILJEVO'\": ['31531'], \"b'DONJI MIHOLJAC'\": ['31540'], \"b'MAGADENOVAC'\": ['31542'], \"b'MIHOLJA\\\\xc4\\\\x8cKI PORE\\\\xc4\\\\x8c'\": ['31543'], \"b'VALPOVO'\": ['31550'], \"b'BELI\\\\xc5\\\\xa0\\\\xc4\\\\x86E'\": ['31551'], \"b'PODGAJCI PODRAVSKI'\": ['31552'], \"b'GAT'\": ['31554'], \"b'MARIJANCI'\": ['31555'], \"b'VUKOVAR'\": ['32000', '32010', '32011'], \"b'VINKOVCI'\": ['32100', '32101', '32103'], \"b'GABO\\\\xc5\\\\xa0'\": ['32212'], \"b'MARKU\\\\xc5\\\\xa0ICA'\": ['32213'], \"b'TORDINCI'\": ['32214'], \"b'NU\\\\xc5\\\\xa0TAR'\": ['32221'], \"b'BR\\\\xc5\\\\xa0ADIN'\": ['32222'], \"b'TRPINJA'\": ['32224'], \"b'BOBOTA'\": ['32225'], \"b'BOROVO'\": ['32227'], \"b'PETROVCI'\": ['32229'], \"b'SOTIN'\": ['32232'], \"b'\\\\xc5\\\\xa0ARENGRAD'\": ['32234'], \"b'BAPSKA'\": ['32235'], \"b'ILOK'\": ['32236'], \"b'LOVAS'\": ['32237'], \"b'\\\\xc4\\\\x8cAKOVCI'\": ['32238'], \"b'NEGOSLAVCI'\": ['32239'], \"b'STARI JANKOVCI'\": ['32241'], \"b'SLAKOVCI'\": ['32242'], \"b'OROLIK'\": ['32243'], \"b'\\\\xc4\\\\x90ELETOVCI'\": ['32244'], \"b'NIJEMCI'\": ['32245'], \"b'LIPOVAC'\": ['32246'], \"b'BANOVCI'\": ['32247'], \"b'ILA\\\\xc4\\\\x8cA'\": ['32248'], \"b'TOVARNIK'\": ['32249'], \"b'PRIVLAKA'\": ['32251'], \"b'OTOK'\": ['32252'], \"b'KOMLETINCI'\": ['32253'], \"b'VRBANJA'\": ['32254'], \"b'SOLJANI'\": ['32255'], \"b'STRO\\\\xc5\\\\xa0INCI'\": ['32256'], \"b'DRENOVCI'\": ['32257'], \"b'POSAVSKI PODGAJCI'\": ['32258'], \"b'GUNJA'\": ['32259'], \"b'GUNJA  SEZ.'\": ['32260'], \"b'RA\\\\xc4\\\\x8cINOVCI'\": ['32262'], \"b'BAJAKOVO'\": ['32264'], \"b'\\\\xc5\\\\xbdUPANJA'\": ['32270'], \"b'ROKOVCI ANDRIJA\\\\xc5\\\\xa0EVCI'\": ['32271'], \"b'CERNA'\": ['32272'], \"b'GRADI\\\\xc5\\\\xa0TE'\": ['32273'], \"b'\\\\xc5\\\\xa0TITAR'\": ['32274'], \"b'BO\\\\xc5\\\\xa0NJACI'\": ['32275'], \"b'BABINA GREDA'\": ['32276'], \"b'JARMINA'\": ['32280'], \"b'IVANKOVO'\": ['32281'], \"b'RETKOVCI'\": ['32282'], \"b'VO\\\\xc4\\\\x90INCI'\": ['32283'], \"b'STARI MIKANOVCI'\": ['32284'], \"b'VIROVITICA'\": ['33000', '33401'], \"b'\\\\xc5\\\\xa0PI\\\\xc5\\\\xa0I\\\\xc4\\\\x86 BUKOVICA'\": ['33404'], \"b'PITOMA\\\\xc4\\\\x8cA'\": ['33405'], \"b'LUKA\\\\xc4\\\\x8c'\": ['33406'], \"b'SUHOPOLJE'\": ['33410'], \"b'GRADINA'\": ['33411'], \"b'CABUNA'\": ['33412'], \"b'CRNAC'\": ['33507'], \"b'ZDENCI'\": ['33513'], \"b'\\\\xc4\\\\x8cA\\\\xc4\\\\x8cINCI'\": ['33514'], \"b'ORAHOVICA'\": ['33515'], \"b'MIKLEU\\\\xc5\\\\xa0'\": ['33517'], \"b'NOVA BUKOVICA'\": ['33518'], \"b'SLATINA'\": ['33520'], \"b'VO\\\\xc4\\\\x86IN'\": ['33522'], \"b'\\\\xc4\\\\x8cA\\\\xc4\\\\x90AVICA'\": ['33523'], \"b'SOPJE'\": ['33525'], \"b'PIVNICA SLAVONSKA'\": ['33533'], \"b'PO\\\\xc5\\\\xbdEGA'\": ['34000', '34303', '34304'], \"b'JAK\\\\xc5\\\\xa0I\\\\xc4\\\\x86'\": ['34308'], \"b'PLETERNICA'\": ['34310'], \"b'SESVETE (KOD PO\\\\xc5\\\\xbdEGE)'\": ['34312'], \"b'RATKOVICA'\": ['34315'], \"b'BRESTOVAC'\": ['34322'], \"b'VELIKA'\": ['34330'], \"b'KAPTOL'\": ['34334'], \"b'VETOVO'\": ['34335'], \"b'KUTJEVO'\": ['34340'], \"b'BEKTE\\\\xc5\\\\xbd'\": ['34343'], \"b'\\\\xc4\\\\x8cAGLIN'\": ['34350'], \"b'POLJANA'\": ['34543'], \"b'PAKRAC'\": ['34550'], \"b'LIPIK'\": ['34551'], \"b'BADLJEVINA'\": ['34552'], \"b'SLAVONSKI BROD'\": ['35000', '35101', '35102', '35103', '35104', '35105', '35106', '35108'], \"b'PODVINJE'\": ['35107'], \"b'PODCRKAVLJE'\": ['35201'], \"b'RU\\\\xc5\\\\xa0\\\\xc4\\\\x8cICA'\": ['35208'], \"b'BUKOVLJE'\": ['35209'], \"b'VRPOLJE'\": ['35210'], \"b'TRNJANI'\": ['35211'], \"b'GAR\\\\xc4\\\\x8cIN'\": ['35212'], \"b'OPRISAVCI'\": ['35213'], \"b'DONJI ANDRIJEVCI'\": ['35214'], \"b'SLAVONSKI \\\\xc5\\\\xa0AMAC'\": ['35220'], \"b'VELIKA KOPANICA'\": ['35221'], \"b'GUNDINCI'\": ['35222'], \"b'SIKIREVCI'\": ['35224'], \"b'ORIOVAC'\": ['35250'], \"b'SIBINJ'\": ['35252'], \"b'BRODSKI STUPNIK'\": ['35253'], \"b'BEBRINA'\": ['35254'], \"b'SLAVONSKI KOBA\\\\xc5\\\\xa0'\": ['35255'], \"b'LU\\\\xc5\\\\xbdANI'\": ['35257'], \"b'NOVA GRADI\\\\xc5\\\\xa0KA'\": ['35400'], \"b'RE\\\\xc5\\\\xa0ETARI'\": ['35403'], \"b'CERNIK'\": ['35404'], \"b'NOVA KAPELA'\": ['35410'], \"b'STARO PETROVO SELO'\": ['35420'], \"b'ZAPOLJE'\": ['35422'], \"b'VRBJE'\": ['35423'], \"b'ORUBICA'\": ['35424'], \"b'DAVOR'\": ['35425'], \"b'DRAGALI\\\\xc4\\\\x86'\": ['35428'], \"b'GORNJI BOGI\\\\xc4\\\\x86EVCI'\": ['35429'], \"b'OKU\\\\xc4\\\\x8cANI'\": ['35430'], \"b'STARA GRADI\\\\xc5\\\\xa0KA'\": ['35435'], \"b'\\\\xc4\\\\x8cAKOVEC'\": ['40000', '40101'], \"b'NEDELI\\\\xc5\\\\xa0\\\\xc4\\\\x86E'\": ['40305'], \"b'MACINEC'\": ['40306'], \"b'LOPATINEC'\": ['40311'], \"b'\\\\xc5\\\\xa0TRIGOVA'\": ['40312'], \"b'SVETI MARTIN NA MURI'\": ['40313'], \"b'SELNICA'\": ['40314'], \"b'MURSKO SREDI\\\\xc5\\\\xa0\\\\xc4\\\\x86E'\": ['40315'], \"b'VRATI\\\\xc5\\\\xa0INEC'\": ['40316'], \"b'PODTUREN'\": ['40317'], \"b'DEKANOVEC'\": ['40318'], \"b'BELICA'\": ['40319'], \"b'DONJI KRALJEVEC'\": ['40320'], \"b'MALA SUBOTICA'\": ['40321'], \"b'OREHOVICA'\": ['40322'], \"b'PRELOG'\": ['40323'], \"b'GORI\\\\xc4\\\\x8cAN'\": ['40324'], \"b'SVETA MARIJA'\": ['40326'], \"b'DONJI VIDOVEC'\": ['40327'], \"b'DONJA DUBRAVA'\": ['40328'], \"b'KOTORIBA'\": ['40329'], \"b'VARA\\\\xc5\\\\xbdDIN'\": ['42000', '42103', '42104', '42105'], \"b'BERETINEC'\": ['42201'], \"b'TRNOVEC BARTOLOVE\\\\xc4\\\\x8cKI'\": ['42202'], \"b'JAL\\\\xc5\\\\xbdABET'\": ['42203'], \"b'TUR\\\\xc4\\\\x8cIN'\": ['42204'], \"b'VIDOVEC'\": ['42205'], \"b'PETRIJANEC'\": ['42206'], \"b'VINICA'\": ['42207'], \"b'CESTICA'\": ['42208'], \"b'SRA\\\\xc4\\\\x8cINEC'\": ['42209'], \"b'KU\\\\xc4\\\\x86AN MAROF'\": ['42212'], \"b'SVETI ILIJA'\": ['42214'], \"b'NOVI MAROF'\": ['42220'], \"b'LJUBE\\\\xc5\\\\xa0\\\\xc4\\\\x8cICA'\": ['42222'], \"b'VARA\\\\xc5\\\\xbdDINSKE TOPLICE'\": ['42223'], \"b'VISOKO'\": ['42224'], \"b'BREZNI\\\\xc4\\\\x8cKI HUM'\": ['42225'], \"b'BISAG'\": ['42226'], \"b'LUDBREG'\": ['42230'], \"b'MALI BUKOVEC'\": ['42231'], \"b'MARTIJANEC'\": ['42232'], \"b'SVETI \\\\xc4\\\\x90UR\\\\xc4\\\\x90'\": ['42233'], \"b'IVANEC'\": ['42240'], \"b'RADOVAN'\": ['42242'], \"b'MARU\\\\xc5\\\\xa0EVEC'\": ['42243'], \"b'KLENOVNIK'\": ['42244'], \"b'DONJA VO\\\\xc4\\\\x86A'\": ['42245'], \"b'LEPOGLAVA'\": ['42250'], \"b'BEDNJA'\": ['42253'], \"b'BJELOVAR'\": ['43000', '43103', '43104'], \"b'ZRINSKI TOPOLOVAC'\": ['43202'], \"b'KAPELA'\": ['43203'], \"b'ROVI\\\\xc5\\\\xa0\\\\xc4\\\\x86E'\": ['43212'], \"b'VELIKO TROJSTVO'\": ['43226'], \"b'\\\\xc5\\\\xa0ANDROVAC'\": ['43227'], \"b'IVANSKA'\": ['43231'], \"b'BEREK'\": ['43232'], \"b'\\\\xc4\\\\x8cAZMA'\": ['43240'], \"b'GORNJI DRAGANEC'\": ['43245'], \"b'\\\\xc5\\\\xa0TEFANJE'\": ['43246'], \"b'NARTA'\": ['43247'], \"b'GUDOVAC'\": ['43251'], \"b'VELIKI GR\\\\xc4\\\\x90EVAC'\": ['43270'], \"b'VELIKA PISANICA'\": ['43271'], \"b'NOVA RA\\\\xc4\\\\x8cA'\": ['43272'], \"b'BULINAC'\": ['43273'], \"b'SEVERIN'\": ['43274'], \"b'GARE\\\\xc5\\\\xa0NICA'\": ['43280'], \"b'VELIKO VUKOVJE SEZ.'\": ['43282'], \"b'KANI\\\\xc5\\\\xa0KA IVA'\": ['43283'], \"b'HERCEGOVAC'\": ['43284'], \"b'VELIKA TRNOVITICA'\": ['43285'], \"b'GRUBI\\\\xc5\\\\xa0NO POLJE'\": ['43290'], \"b'VELIKI ZDENCI'\": ['43293'], \"b'DARUVAR'\": ['43500'], \"b'KON\\\\xc4\\\\x8cANICA (KON\\\\xc4\\\\x8cENICE)'\": ['43505'], \"b'DE\\\\xc5\\\\xbdANOVAC'\": ['43506'], \"b'\\\\xc4\\\\x90ULOVAC'\": ['43532'], \"b'SIRA\\\\xc4\\\\x8c'\": ['43541'], \"b'SISAK'\": ['44000', '44103', '44104', '44105'], \"b'SISAK-CAPRAG'\": ['44010'], \"b'MARTINSKA VES'\": ['44201'], \"b'TOPOLOVAC'\": ['44202'], \"b'GU\\\\xc5\\\\xa0\\\\xc4\\\\x86E'\": ['44203'], \"b'SUNJA'\": ['44210'], \"b'PETRINJA'\": ['44250'], \"b'MO\\\\xc5\\\\xa0\\\\xc4\\\\x86ENICA'\": ['44253'], \"b'LEKENIK'\": ['44272'], \"b'SELA'\": ['44273'], \"b'VELIKA LUDINA'\": ['44316'], \"b'POPOVA\\\\xc4\\\\x8cA'\": ['44317'], \"b'VOLODER'\": ['44318'], \"b'REPU\\\\xc5\\\\xa0NICA'\": ['44319'], \"b'KUTINA'\": ['44320'], \"b'BANOVA JARUGA'\": ['44321'], \"b'LIPOVLJANI'\": ['44322'], \"b'RAJI\\\\xc4\\\\x86'\": ['44323'], \"b'JASENOVAC'\": ['44324'], \"b'HUSAIN'\": ['44326'], \"b'NOVSKA'\": ['44330'], \"b'GLINA'\": ['44400'], \"b'VRGINMOST'\": ['44410'], \"b'TOPUSKO'\": ['44415'], \"b'HRVATSKA KOSTAJNICA'\": ['44430'], \"b'DVOR'\": ['44440'], \"b'HRVATSKA DUBICA'\": ['44450'], \"b'KARLOVAC'\": ['47000', '47103', '47104', '47105', '47106', '47107', '47108'], \"b'DRAGANI\\\\xc4\\\\x86'\": ['47201'], \"b'LASINJA'\": ['47206'], \"b'SKAKAVAC  SEZ.'\": ['47212'], \"b'VOJNI\\\\xc4\\\\x86'\": ['47220'], \"b'CETINGRAD'\": ['47222'], \"b'SLUNJ'\": ['47240'], \"b'CEROVAC VUKMANI\\\\xc4\\\\x86KI'\": ['47241'], \"b'KRNJAK'\": ['47242'], \"b'RAKOVICA'\": ['47245'], \"b'DUGA RESA'\": ['47250'], \"b'BOSILJEVO'\": ['47251'], \"b'BARILOVI\\\\xc4\\\\x86'\": ['47252'], \"b'GENERALSKI STOL'\": ['47262'], \"b'TOUNJ'\": ['47264'], \"b'NETRETI\\\\xc4\\\\x86'\": ['47271'], \"b'RIBNIK'\": ['47272'], \"b'\\\\xc5\\\\xbdAKANJE'\": ['47276'], \"b'OZALJ'\": ['47280'], \"b'KAMANJE'\": ['47282'], \"b'MAHI\\\\xc4\\\\x8cNO'\": ['47286'], \"b'OGULIN'\": ['47300'], \"b'JOSIPDOL'\": ['47303'], \"b'PLA\\\\xc5\\\\xa0KI'\": ['47304'], \"b'SABORSKO'\": ['47306'], \"b'KOPRIVNICA'\": ['48000', '48303', '48304', '48305'], \"b'SVETI IVAN \\\\xc5\\\\xbdABNO'\": ['48214'], \"b'KRI\\\\xc5\\\\xbdEVCI'\": ['48260'], \"b'OREHOVEC'\": ['48267'], \"b'GORNJA RIJEKA'\": ['48268'], \"b'SOKOLOVAC'\": ['48306'], \"b'RASINJA'\": ['48312'], \"b'KOPRIVNI\\\\xc4\\\\x8cKI IVANEC'\": ['48314'], \"b'\\\\xc4\\\\x90ELEKOVEC'\": ['48316'], \"b'LEGRAD'\": ['48317'], \"b'PETERANEC'\": ['48321'], \"b'DRNJE'\": ['48322'], \"b'HLEBINE'\": ['48323'], \"b'NOVIGRAD PODRAVSKI'\": ['48325'], \"b'VIRJE'\": ['48326'], \"b'MOLVE'\": ['48327'], \"b'GOLA'\": ['48331'], \"b'\\\\xc5\\\\xbdDALA'\": ['48332'], \"b'\\\\xc4\\\\x90UR\\\\xc4\\\\x90EVAC'\": ['48350'], \"b'NOVO VIRJE'\": ['48355'], \"b'FERDINANDOVAC'\": ['48356'], \"b'KALINOVAC'\": ['48361'], \"b'KLO\\\\xc5\\\\xa0TAR PODRAVSKI'\": ['48362'], \"b'PODRAVSKE SESVETE'\": ['48363'], \"b'KRAPINA'\": ['49000'], \"b'ZABOK'\": ['49210'], \"b'VELIKO TRGOVI\\\\xc5\\\\xa0\\\\xc4\\\\x86E'\": ['49214'], \"b'TUHELJ'\": ['49215'], \"b'DESINI\\\\xc4\\\\x86'\": ['49216'], \"b'KRAPINSKE TOPLICE'\": ['49217'], \"b'PREGRADA'\": ['49218'], \"b'VINAGORA'\": ['49219'], \"b'BEDEKOV\\\\xc4\\\\x8cINA'\": ['49221'], \"b'POZNANOVEC'\": ['49222'], \"b'SVETI KRI\\\\xc5\\\\xbd ZA\\\\xc4\\\\x8cRETJE'\": ['49223'], \"b'\\\\xc4\\\\x90URMANEC'\": ['49225'], \"b'HUM NA SUTLI'\": ['49231'], \"b'RADOBOJ'\": ['49232'], \"b'GORNJE JESENJE'\": ['49233'], \"b'PETROVSKO'\": ['49234'], \"b'DONJA STUBICA'\": ['49240'], \"b'OROSLAVJE'\": ['49243'], \"b'STUBI\\\\xc4\\\\x8cKE TOPLICE'\": ['49244'], \"b'GORNJA STUBICA'\": ['49245'], \"b'MARIJA BISTRICA'\": ['49246'], \"b'ZLATAR BISTRICA'\": ['49247'], \"b'ZLATAR'\": ['49250'], \"b'MA\\\\xc4\\\\x8cE'\": ['49251'], \"b'MIHOVLJAN'\": ['49252'], \"b'LOBOR'\": ['49253'], \"b'BELEC'\": ['49254'], \"b'NOVI GOLUBOVEC'\": ['49255'], \"b'KONJ\\\\xc5\\\\xa0\\\\xc4\\\\x8cINA'\": ['49282'], \"b'HRA\\\\xc5\\\\xa0\\\\xc4\\\\x86INA-TRGOVI\\\\xc5\\\\xa0\\\\xc4\\\\x86E'\": ['49283'], \"b'BUDIN\\\\xc5\\\\xa0\\\\xc4\\\\x86INA'\": ['49284'], \"b'KLANJEC'\": ['49290'], \"b'KRALJEVEC NA SUTLI'\": ['49294'], \"b'KUMROVEC'\": ['49295'], \"b'ZAGORSKA SELA'\": ['49296'], \"b'RIJEKA'\": ['51000', '51101', '51103', '51104', '51105', '51106', '51107', '51108', '51109', '51110', '51111', '51112', '51114', '51115', '51116', '51118', '51119'], \"b'MATULJI'\": ['51211'], \"b'VELE MUNE'\": ['51212'], \"b'JURDANI'\": ['51213'], \"b'\\\\xc5\\\\xa0APJANE'\": ['51214'], \"b'KASTAV'\": ['51215'], \"b'VI\\\\xc5\\\\xa0KOVO'\": ['51216'], \"b'KLANA'\": ['51217'], \"b'DRA\\\\xc5\\\\xbdICE'\": ['51218'], \"b'\\\\xc4\\\\x8cAVLE'\": ['51219'], \"b'KOSTRENA'\": ['51221'], \"b'BAKAR'\": ['51222'], \"b'\\\\xc5\\\\xa0KRLJEVO'\": ['51223'], \"b'KRASICA'\": ['51224'], \"b'HRELJIN'\": ['51226'], \"b'KUKULJANOVO'\": ['51227'], \"b'KRI\\\\xc5\\\\xbdI\\\\xc5\\\\xa0\\\\xc4\\\\x86E'\": ['51241'], \"b'DRIVENIK'\": ['51242'], \"b'TRIBALJ'\": ['51243'], \"b'GRI\\\\xc5\\\\xbdANE'\": ['51244'], \"b'NOVI VINODOLSKI'\": ['51250'], \"b'LEDENICE'\": ['51251'], \"b'KLENOVICA'\": ['51252'], \"b'BRIBIR'\": ['51253'], \"b'CRIKVENICA'\": ['51260', '51265'], \"b'BAKARAC'\": ['51261'], \"b'KRALJEVICA'\": ['51262'], \"b'\\\\xc5\\\\xa0MRIKA'\": ['51263'], \"b'JADRANOVO'\": ['51264'], \"b'SELCE'\": ['51266'], \"b'RAB'\": ['51280'], \"b'LOPAR'\": ['51281'], \"b'DELNICE'\": ['51300'], \"b'BROD NA KUPI'\": ['51301'], \"b'PLE\\\\xc5\\\\xa0CE'\": ['51303'], \"b'GEROVO'\": ['51304'], \"b'TR\\\\xc5\\\\xa0\\\\xc4\\\\x86E'\": ['51305'], \"b'\\\\xc4\\\\x8cABAR'\": ['51306'], \"b'PREZID'\": ['51307'], \"b'SKRAD'\": ['51311'], \"b'BROD MORAVICE'\": ['51312'], \"b'KUPJAK'\": ['51313'], \"b'RAVNA GORA'\": ['51314'], \"b'MRKOPALJ'\": ['51315'], \"b'LOKVE'\": ['51316'], \"b'CRNI LUG'\": ['51317'], \"b'FU\\\\xc5\\\\xbdINE'\": ['51322'], \"b'LI\\\\xc4\\\\x8c'\": ['51323'], \"b'ZLOBIN'\": ['51324'], \"b'MORAVICE'\": ['51325'], \"b'VRBOVSKO'\": ['51326'], \"b'GOMIRJE'\": ['51327'], \"b'LUKOVDOL'\": ['51328'], \"b'SEVERIN NA KUPI'\": ['51329'], \"b'OPATIJA'\": ['51410', '51413'], \"b'I\\\\xc4\\\\x8cI\\\\xc4\\\\x86I'\": ['51414'], \"b'LOVRAN'\": ['51415'], \"b'MO\\\\xc5\\\\xa0\\\\xc4\\\\x86ENI\\\\xc4\\\\x8cKA DRAGA'\": ['51417'], \"b'KRK'\": ['51500'], \"b'MALINSKA'\": ['51511'], \"b'NJIVICE'\": ['51512'], \"b'OMI\\\\xc5\\\\xa0ALJ'\": ['51513'], \"b'DOBRINJ'\": ['51514'], \"b'\\\\xc5\\\\xa0ILO'\": ['51515'], \"b'VRBNIK'\": ['51516'], \"b'KORNI\\\\xc4\\\\x86'\": ['51517'], \"b'PUNAT'\": ['51521'], \"b'DRAGA BA\\\\xc5\\\\xa0\\\\xc4\\\\x86ANSKA'\": ['51522'], \"b'BA\\\\xc5\\\\xa0KA'\": ['51523'], \"b'OSOR  SEZ.'\": ['51542'], \"b'MALI LO\\\\xc5\\\\xa0INJ'\": ['51550', '51553'], \"b'VELI LO\\\\xc5\\\\xa0INJ'\": ['51551'], \"b'ILOVIK'\": ['51552'], \"b'NEREZINE'\": ['51554'], \"b'MARTIN\\\\xc5\\\\xa0\\\\xc4\\\\x8cICA'\": ['51556'], \"b'CRES'\": ['51557'], \"b'SUSAK'\": ['51561'], \"b'UNIJE'\": ['51562'], \"b'\\\\xc4\\\\x86UNSKI'\": ['51564'], \"b'PAZIN'\": ['52000'], \"b'PULA (POLA)'\": ['52100', '52102', '52103', '52104', '52105', '52106', '52107', '52108', '52109'], \"b'MEDULIN'\": ['52203'], \"b'LI\\\\xc5\\\\xbdNJAN (LISIGNANO)'\": ['52204'], \"b'MAR\\\\xc4\\\\x8cANA'\": ['52206'], \"b'BARBAN'\": ['52207'], \"b'KRNICA'\": ['52208'], \"b'ROVINJ (ROVIGNO)'\": ['52210'], \"b'BALE (VALLE)'\": ['52211'], \"b'FA\\\\xc5\\\\xbdANA (FASANA)'\": ['52212'], \"b'VODNJAN (DIGNANO)'\": ['52215'], \"b'LABIN'\": ['52220', '52230', '52240'], \"b'RABAC'\": ['52221'], \"b'KOROMA\\\\xc4\\\\x8cNO'\": ['52222'], \"b'RA\\\\xc5\\\\xa0A'\": ['52223'], \"b'NEDE\\\\xc5\\\\xa0\\\\xc4\\\\x86INA'\": ['52231'], \"b'KR\\\\xc5\\\\xa0AN'\": ['52232'], \"b'\\\\xc5\\\\xa0U\\\\xc5\\\\xa0NJEVICA'\": ['52233'], \"b'PLOMIN'\": ['52234'], \"b'PI\\\\xc4\\\\x86AN'\": ['52332'], \"b'PODPI\\\\xc4\\\\x86AN'\": ['52333'], \"b'\\\\xc5\\\\xbdMINJ'\": ['52341'], \"b'SVETVIN\\\\xc4\\\\x8cENAT'\": ['52342'], \"b'KANFANAR'\": ['52352'], \"b'CEROVLJE'\": ['52402'], \"b'GRA\\\\xc4\\\\x8cI\\\\xc5\\\\xa0\\\\xc4\\\\x86E'\": ['52403'], \"b'SVETI PETAR U \\\\xc5\\\\xa0UMI'\": ['52404'], \"b'BUZET'\": ['52420'], \"b'MOTOVUN (MONTONA)'\": ['52424'], \"b'RO\\\\xc4\\\\x8c'\": ['52425'], \"b'LUPOGLAV'\": ['52426'], \"b'LIVADE (LEVADE)'\": ['52427'], \"b'OPRTALJ (PORTOLE)'\": ['52428'], \"b'GRO\\\\xc5\\\\xbdNJAN (GRISIGNANA)'\": ['52429'], \"b'BOLJUN'\": ['52434'], \"b'PORE\\\\xc4\\\\x8c (PARENZO)'\": ['52440', '52441'], \"b'PORE\\\\xc4\\\\x8c (PARENZO) (LAGUNA) SEZ.'\": ['52442'], \"b'PORE\\\\xc4\\\\x8c (PARENZO) (LANTERNA) SEZ.'\": ['52443'], \"b'TINJAN'\": ['52444'], \"b'BADERNA'\": ['52445'], \"b'NOVA VAS'\": ['52446'], \"b'VI\\\\xc5\\\\xbdINADA (VISINADA)'\": ['52447'], \"b'SVETI LOVRE\\\\xc4\\\\x8c'\": ['52448'], \"b'\\\\xc4\\\\x8cERVAR PORAT'\": ['52449'], \"b'VRSAR (ORSERA)'\": ['52450'], \"b'FUNTANA (FONTANE)'\": ['52452'], \"b'BUJE (BUIE)'\": ['52460'], \"b'VI\\\\xc5\\\\xa0NJAN (VISIGNANO)'\": ['52463'], \"b'KA\\\\xc5\\\\xa0TELIR (CASTELLIERE)'\": ['52464'], \"b'TAR (TORRE)'\": ['52465'], \"b'NOVIGRAD (CITTANOVA)'\": ['52466'], \"b'UMAG (UMAGO)'\": ['52470'], \"b'BRTONIGLA (VERTENEGLIO)'\": ['52474'], \"b'SAVUDRIJA (SALVORE)'\": ['52475'], \"b'GOSPI\\\\xc4\\\\x86'\": ['53000'], \"b'PERU\\\\xc5\\\\xa0I\\\\xc4\\\\x86'\": ['53202'], \"b'KOSINJ'\": ['53203'], \"b'BRU\\\\xc5\\\\xa0ANE  SEZ.'\": ['53206'], \"b'SMILJAN'\": ['53211'], \"b'KLANAC'\": ['53212'], \"b'DONJE PAZARI\\\\xc5\\\\xa0TE'\": ['53213'], \"b'OTO\\\\xc4\\\\x8cAC'\": ['53220'], \"b'VRHOVINE'\": ['53223'], \"b'KORENICA'\": ['53230'], \"b'PLITVI\\\\xc4\\\\x8cKA JEZERA'\": ['53231'], \"b'LI\\\\xc4\\\\x8cKO PETROVO SELO'\": ['53233'], \"b'UDBINA'\": ['53234'], \"b'PODLAPA\\\\xc4\\\\x8cA'\": ['53236'], \"b'LOVINAC'\": ['53244'], \"b'DONJI LAPAC'\": ['53250'], \"b'BRINJE'\": ['53260'], \"b'KRI\\\\xc5\\\\xbdPOLJE'\": ['53261'], \"b'JEZERANE'\": ['53262'], \"b'SENJ'\": ['53270'], \"b'VRATNIK'\": ['53273'], \"b'KRASNO'\": ['53274'], \"b'SVETI JURAJ'\": ['53284'], \"b'JABLANAC'\": ['53287'], \"b'KARLOBAG'\": ['53288'], \"b'NOVALJA'\": ['53291'], \"b'LUN'\": ['53294'], \"b'ZUBOVI\\\\xc4\\\\x86I'\": ['53296']}\n"
     ]
    }
   ],
   "source": [
    "import json\n",
    "\n",
    "with open('isplate.json', mode='r', encoding='UTF-8') as d:\n",
    "    t_rates = json.load(d)\n",
    "    d.close()\n",
    "\n",
    "with open('pcodes.json', mode='r', encoding='UTF-8') as p:\n",
    "    p_codes = json.load(p)\n",
    "    p.close()\n",
    "\n",
    "p_codes = {city.encode('UTF-8').upper(): codes for city, codes in p_codes.items()}\n",
    "\n",
    "for joppd, city in t_rates.items():\n",
    "\n",
    "    for city2, code in p_codes.items():\n",
    "\n",
    "        bracket: int = city2.find('(')\n",
    "\n",
    "        # some cities have an alias name (eg. cities with italian names)\n",
    "        # so remove the alias part by only taking the city name up to the index of the bracket\n",
    "        if bracket != -1:\n",
    "            cname: str = city2[:bracket-1]\n",
    "        else:\n",
    "            cname: str = city2\n",
    "\n",
    "        # some cities in json_cities start with 'GRAD' ('CITY'), but not in json_codes\n",
    "        # so add 'GRAD ' to city name search term\n",
    "        if city['mjesto'].startswith('GRAD'):\n",
    "            cname = 'GRAD ' + cname\n",
    "\n",
    "        # some places are prefixed with 'ZAGREB-'\n",
    "        # remove prefix\n",
    "        if cname.startswith('ZAGREB-'):\n",
    "            cname = cname[len('ZAGREB-'):]\n",
    "\n",
    "        # one place has a name with a different dialect across json_cities and json_codes\n",
    "        # equalize dialects\n",
    "        if cname.find('NEDELJA') != -1:\n",
    "            cname = cname.replace('NEDELJA', 'NEDJELJA')\n",
    "\n",
    "        # only set postal code for city which doesn't already have one\n",
    "        if cname == city['mjesto']:\n",
    "            t_rates[joppd]['postal_code'] = code[0]"
   ],
   "metadata": {
    "collapsed": false,
    "pycharm": {
     "name": "#%%\n"
    }
   }
  },
  {
   "cell_type": "code",
   "execution_count": 18,
   "outputs": [
    {
     "name": "stdout",
     "output_type": "stream",
     "text": [
      "{'00019': {'mjesto': 'ANDRIJA\\\\XC5\\\\XA1EVCI', 'prirez': 8.0, 'iban': 'HR1910010051700112008'}, '00027': {'mjesto': 'ANTUNOVAC', 'prirez': 0.0, 'iban': 'HR8410010051700212009', 'postal_code': '31216'}, '00035': {'mjesto': 'BABINA GREDA', 'prirez': 5.0, 'iban': 'HR3110010051700312000', 'postal_code': '32276'}, '00043': {'mjesto': 'BAKAR', 'prirez': 0.0, 'iban': 'HR4210010051700412003', 'postal_code': '51222'}, '00051': {'mjesto': 'BALE-VALLE', 'prirez': 1.0, 'iban': 'HR6410010051700512002'}, '00060': {'mjesto': 'BARBAN', 'prirez': 5.0, 'iban': 'HR4810010051700612006', 'postal_code': '52207'}, '00078': {'mjesto': 'BARILOVI\\\\XC4\\\\X87', 'prirez': 0.0, 'iban': 'HR9710010051700712004'}, '00086': {'mjesto': 'BA\\\\XC5\\\\XA1KA', 'prirez': 0.0, 'iban': 'HR6510010051700812005'}, '00094': {'mjesto': 'BA\\\\XC5\\\\XA1KA VODA', 'prirez': 0.0, 'iban': 'HR7110010051700912001'}, '00108': {'mjesto': 'BEBRINA', 'prirez': 0.0, 'iban': 'HR4410010051701012009', 'postal_code': '35254'}, '00116': {'mjesto': 'BEDEKOV\\\\XC4\\\\X8DINA', 'prirez': 0.0, 'iban': 'HR8810010051701112000'}, '05509': {'mjesto': 'BEDENICA', 'prirez': 3.0, 'iban': 'HR8710010051755012008', 'postal_code': '10381'}, '00124': {'mjesto': 'BEDNJA', 'prirez': 10.0, 'iban': 'HR0210010051701212003', 'postal_code': '42253'}, '00132': {'mjesto': 'BELI MANASTIR', 'prirez': 5.0, 'iban': 'HR2410010051701312002', 'postal_code': '31300'}, '00159': {'mjesto': 'BELICA', 'prirez': 0.0, 'iban': 'HR5710010051701512004', 'postal_code': '40319'}, '00167': {'mjesto': 'BELI\\\\XC5\\\\XA1\\\\XC4\\\\X87E', 'prirez': 7.0, 'iban': 'HR2510010051701612005'}, '00175': {'mjesto': 'BENKOVAC', 'prirez': 5.0, 'iban': 'HR3110010051701712001', 'postal_code': '23420'}, '00183': {'mjesto': 'BEREK', 'prirez': 0.0, 'iban': 'HR5810010051701812007', 'postal_code': '43232'}, '00191': {'mjesto': 'BERETINEC', 'prirez': 7.0, 'iban': 'HR2610010051701912008', 'postal_code': '42201'}, '00205': {'mjesto': 'BIBINJE', 'prirez': 0.0, 'iban': 'HR5910010051702012003', 'postal_code': '23205'}, '06211': {'mjesto': 'BILICE', 'prirez': 10.0, 'iban': 'HR5010010051762112007'}, '00213': {'mjesto': 'BILJE', 'prirez': 5.0, 'iban': 'HR8110010051702112002', 'postal_code': '31327'}, '00221': {'mjesto': 'BIOGRAD NA MORU', 'prirez': 12.0, 'iban': 'HR6510010051702212006', 'postal_code': '23210'}, '03107': {'mjesto': 'BISKUPIJA', 'prirez': 4.0, 'iban': 'HR4810010051731012000'}, '05479': {'mjesto': 'BISTRA', 'prirez': 10.0, 'iban': 'HR5910010051754712006', 'postal_code': '10298'}, '00230': {'mjesto': 'BIZOVAC', 'prirez': 3.0, 'iban': 'HR1710010051702312004', 'postal_code': '31222'}, '00248': {'mjesto': 'BJELOVAR', 'prirez': 0.0, 'iban': 'HR8210010051702412005', 'postal_code': '43000'}, '00256': {'mjesto': 'BLATO', 'prirez': 10.0, 'iban': 'HR8810010051702512001', 'postal_code': '20271'}, '00264': {'mjesto': 'BOGDANOVCI', 'prirez': 0.0, 'iban': 'HR1810010051702612007'}, '00272': {'mjesto': 'BOL', 'prirez': 10.0, 'iban': 'HR8310010051702712008', 'postal_code': '21420'}, '00299': {'mjesto': 'BOROVO', 'prirez': 6.0, 'iban': 'HR9510010051702912000', 'postal_code': '32227'}, '00302': {'mjesto': 'BOSILJEVO', 'prirez': 0.0, 'iban': 'HR3610010051703012002', 'postal_code': '47251'}, '00329': {'mjesto': 'BO\\\\XC5\\\\XA1NJACI', 'prirez': 0.0, 'iban': 'HR6910010051703212004'}, '00337': {'mjesto': 'BRCKOVLJANI', 'prirez': 3.0, 'iban': 'HR3710010051703312005'}, '00345': {'mjesto': 'BRDOVEC', 'prirez': 10.0, 'iban': 'HR4310010051703412001'}, '00779': {'mjesto': 'BRELA', 'prirez': 5.0, 'iban': 'HR5410010051707712007', 'postal_code': '21322'}, '00353': {'mjesto': 'BRESTOVAC', 'prirez': 5.0, 'iban': 'HR7010010051703512007', 'postal_code': '34322'}, '00361': {'mjesto': 'BREZNICA', 'prirez': 10.0, 'iban': 'HR3810010051703612008'}, '01511': {'mjesto': 'BREZNI\\\\XC4\\\\X8DKI HUM', 'prirez': 3.0, 'iban': 'HR8310010051715112003'}, '00370': {'mjesto': 'BRINJE', 'prirez': 10.0, 'iban': 'HR0610010051703712009', 'postal_code': '53260'}, '00388': {'mjesto': 'BROD MORAVICE', 'prirez': 0.0, 'iban': 'HR5010010051703812000', 'postal_code': '51312'}, '00396': {'mjesto': 'BRODSKI STUPNIK', 'prirez': 10.0, 'iban': 'HR6110010051703912003', 'postal_code': '35253'}, '00400': {'mjesto': 'BRTONIGLA-VERTENEGLIO', 'prirez': 0.0, 'iban': 'HR2910010051704012004'}, '00418': {'mjesto': 'BUDIN\\\\XC5\\\\XA1\\\\XC4\\\\X8DINA', 'prirez': 0.0, 'iban': 'HR9410010051704112005'}, '00426': {'mjesto': 'BUJE-BUIE', 'prirez': 6.0, 'iban': 'HR0310010051704212001'}, '05673': {'mjesto': 'BUKOVLJE', 'prirez': 10.0, 'iban': 'HR2910010051756712007', 'postal_code': '35209'}, '00434': {'mjesto': 'BUZET', 'prirez': 6.0, 'iban': 'HR3010010051704312007', 'postal_code': '52420'}, '00442': {'mjesto': 'CERNA', 'prirez': 5.0, 'iban': 'HR9510010051704412008', 'postal_code': '32272'}, '00469': {'mjesto': 'CERNIK', 'prirez': 10.0, 'iban': 'HR1010010051704612000', 'postal_code': '35404'}, '00477': {'mjesto': 'CEROVLJE', 'prirez': 2.0, 'iban': 'HR2110010051704712003', 'postal_code': '52402'}, '00485': {'mjesto': 'CESTICA', 'prirez': 10.0, 'iban': 'HR4310010051704812002', 'postal_code': '42208'}, '00493': {'mjesto': 'CETINGRAD', 'prirez': 0.0, 'iban': 'HR2710010051704912006', 'postal_code': '47222'}, '00507': {'mjesto': 'CISTA PROVO', 'prirez': 3.0, 'iban': 'HR6010010051705012001', 'postal_code': '21256'}, '00515': {'mjesto': 'CIVLJANE', 'prirez': 5.0, 'iban': 'HR8710010051705112007'}, '00523': {'mjesto': 'CRES', 'prirez': 0.0, 'iban': 'HR5510010051705212008', 'postal_code': '51557'}, '00531': {'mjesto': 'CRIKVENICA', 'prirez': 10.0, 'iban': 'HR2310010051705312009', 'postal_code': '51260'}, '00540': {'mjesto': 'CRNAC', 'prirez': 0.0, 'iban': 'HR6710010051705412000', 'postal_code': '33507'}, '00558': {'mjesto': '\\\\XC4\\\\X8CABAR', 'prirez': 5.0, 'iban': 'HR7810010051705512003'}, '00566': {'mjesto': '\\\\XC4\\\\X8CA\\\\XC4\\\\X8DINCI', 'prirez': 0.0, 'iban': 'HR0310010051705612002'}, '00574': {'mjesto': '\\\\XC4\\\\X8CA\\\\XC4\\\\X91AVICA', 'prirez': 0.0, 'iban': 'HR8410010051705712006'}, '00582': {'mjesto': '\\\\XC4\\\\X8CAGLIN', 'prirez': 5.0, 'iban': 'HR3610010051705812004'}, '00604': {'mjesto': '\\\\XC4\\\\X8CAKOVEC', 'prirez': 0.0, 'iban': 'HR1510010051706012008'}, '00612': {'mjesto': '\\\\XC4\\\\X8CAVLE', 'prirez': 0.0, 'iban': 'HR8010010051706112009'}, '00639': {'mjesto': '\\\\XC4\\\\X8CAZMA', 'prirez': 5.0, 'iban': 'HR3810010051706312003'}, '00647': {'mjesto': '\\\\XC4\\\\X8CEMINAC', 'prirez': 10.0, 'iban': 'HR6010010051706412002'}, '00655': {'mjesto': '\\\\XC4\\\\X8CEPIN', 'prirez': 10.0, 'iban': 'HR4410010051706512006'}, '00663': {'mjesto': 'DARDA', 'prirez': 5.0, 'iban': 'HR9310010051706612004', 'postal_code': '31326'}, '00671': {'mjesto': 'DARUVAR', 'prirez': 10.0, 'iban': 'HR6110010051706712005', 'postal_code': '43500'}, '00680': {'mjesto': 'DAVOR', 'prirez': 10.0, 'iban': 'HR6710010051706812001', 'postal_code': '35425'}, '06033': {'mjesto': 'DEKANOVEC', 'prirez': 0.0, 'iban': 'HR9710010051760312005', 'postal_code': '40318'}, '00698': {'mjesto': 'DELNICE', 'prirez': 5.0, 'iban': 'HR9410010051706912007', 'postal_code': '51300'}, '00701': {'mjesto': 'DESINI\\\\XC4\\\\X87', 'prirez': 0.0, 'iban': 'HR8410010051707012000'}, '00710': {'mjesto': 'DE\\\\XC5\\\\XBEANOVAC', 'prirez': 5.0, 'iban': 'HR9510010051707112003'}, '00728': {'mjesto': 'DICMO', 'prirez': 8.0, 'iban': 'HR2010010051707212002', 'postal_code': '21232'}, '00744': {'mjesto': 'DOBRINJ', 'prirez': 0.0, 'iban': 'HR5310010051707412004', 'postal_code': '51514'}, '00752': {'mjesto': 'DOMA\\\\XC5\\\\XA1INEC', 'prirez': 0.0, 'iban': 'HR2110010051707512005'}, '00787': {'mjesto': 'DONJA DUBRAVA', 'prirez': 0.0, 'iban': 'HR2210010051707812008', 'postal_code': '40328'}, '05762': {'mjesto': 'DONJA MOTI\\\\XC4\\\\X8DINA', 'prirez': 0.0, 'iban': 'HR2710010051757612009'}, '00795': {'mjesto': 'DONJA STUBICA', 'prirez': 10.0, 'iban': 'HR8710010051707912009', 'postal_code': '49240'}, '00809': {'mjesto': 'DONJA VO\\\\XC4\\\\X87A', 'prirez': 10.0, 'iban': 'HR6610010051708012006'}, '00817': {'mjesto': 'DONJI ANDRIJEVCI', 'prirez': 8.0, 'iban': 'HR1810010051708112004', 'postal_code': '35214'}, '00825': {'mjesto': 'DONJI KRALJEVEC', 'prirez': 0.0, 'iban': 'HR8310010051708212005', 'postal_code': '40320'}, '00833': {'mjesto': 'DONJI KUKURUZARI', 'prirez': 6.0, 'iban': 'HR8910010051708312001'}, '00841': {'mjesto': 'DONJI LAPAC', 'prirez': 5.0, 'iban': 'HR1910010051708412007', 'postal_code': '53250'}, '00868': {'mjesto': 'DONJI MIHOLJAC', 'prirez': 5.0, 'iban': 'HR5210010051708612009', 'postal_code': '31540'}, '00892': {'mjesto': 'DONJI VIDOVEC', 'prirez': 0.0, 'iban': 'HR3210010051708912002', 'postal_code': '40327'}, '05681': {'mjesto': 'DRAGALI\\\\XC4\\\\X87', 'prirez': 10.0, 'iban': 'HR9410010051756812008'}, '00906': {'mjesto': 'DRAGANI\\\\XC4\\\\X87', 'prirez': 0.0, 'iban': 'HR4310010051709012005'}, '00914': {'mjesto': 'DRA\\\\XC5\\\\XBE', 'prirez': 2.0, 'iban': 'HR4910010051709112001'}, '00922': {'mjesto': 'DRENOVCI', 'prirez': 5.0, 'iban': 'HR7610010051709212007', 'postal_code': '32257'}, '00949': {'mjesto': 'DRENJE', 'prirez': 0.0, 'iban': 'HR1210010051709412009', 'postal_code': '31418'}, '00957': {'mjesto': 'DRNI\\\\XC5\\\\XA1', 'prirez': 5.0, 'iban': 'HR5610010051709512000'}, '00965': {'mjesto': 'DRNJE', 'prirez': 0.0, 'iban': 'HR6710010051709612003', 'postal_code': '48322'}, '00973': {'mjesto': 'DUBRAVA', 'prirez': 6.0, 'iban': 'HR8910010051709712002', 'postal_code': '10342'}, '05495': {'mjesto': 'DUBRAVICA', 'prirez': 10.0, 'iban': 'HR7610010051754912005', 'postal_code': '10293'}, '05983': {'mjesto': 'DUBROVA\\\\XC4\\\\X8DKO PRIMORJE', 'prirez': 10.0, 'iban': 'HR2510010051759812005'}, '00981': {'mjesto': 'DUBROVNIK', 'prirez': 10.0, 'iban': 'HR7310010051709812006', 'postal_code': '20000'}, '00990': {'mjesto': 'DUGA RESA', 'prirez': 10.0, 'iban': 'HR2510010051709912004', 'postal_code': '47250'}, '01007': {'mjesto': 'DUGI RAT', 'prirez': 0.0, 'iban': 'HR4710010051710012003', 'postal_code': '21315'}, '01015': {'mjesto': 'DUGO SELO', 'prirez': 9.0, 'iban': 'HR6910010051710112002', 'postal_code': '10370'}, '05851': {'mjesto': 'DUGOPOLJE', 'prirez': 0.0, 'iban': 'HR3110010051758512000', 'postal_code': '21204'}, '01023': {'mjesto': 'DVOR', 'prirez': 5.0, 'iban': 'HR5310010051710212006', 'postal_code': '44440'}, '01031': {'mjesto': '\\\\XC4\\\\X90AKOVO', 'prirez': 10.0, 'iban': 'HR0510010051710312004'}, '01040': {'mjesto': '\\\\XC4\\\\X90ELEKOVEC', 'prirez': 0.0, 'iban': 'HR7010010051710412005'}, '01058': {'mjesto': '\\\\XC4\\\\X90ULOVAC', 'prirez': 0.0, 'iban': 'HR7610010051710512001'}, '01066': {'mjesto': '\\\\XC4\\\\X90UR\\\\XC4\\\\X91ENOVAC', 'prirez': 10.0, 'iban': 'HR0610010051710612007'}, '01074': {'mjesto': '\\\\XC4\\\\X90UR\\\\XC4\\\\X91EVAC', 'prirez': 0.0, 'iban': 'HR7110010051710712008'}, '01082': {'mjesto': '\\\\XC4\\\\X90URMANEC', 'prirez': 0.0, 'iban': 'HR3910010051710812009'}, '01104': {'mjesto': 'ERDUT', 'prirez': 5.0, 'iban': 'HR2410010051711012002', 'postal_code': '31206'}, '01112': {'mjesto': 'ERNESTINOVO', 'prirez': 10.0, 'iban': 'HR0810010051711112006', 'postal_code': '31215'}, '01139': {'mjesto': 'ERVENIK', 'prirez': 3.0, 'iban': 'HR2510010051711312005'}, '01147': {'mjesto': 'FARKA\\\\XC5\\\\XA1EVAC', 'prirez': 3.0, 'iban': 'HR3110010051711412001'}, '06190': {'mjesto': 'FA\\\\XC5\\\\XBEANA-FASANA', 'prirez': 3.0, 'iban': 'HR8710010051761912006'}, '01155': {'mjesto': 'FERDINANDOVAC', 'prirez': 0.0, 'iban': 'HR5810010051711512007', 'postal_code': '48356'}, '01163': {'mjesto': 'FERI\\\\XC4\\\\X8DANCI', 'prirez': 10.0, 'iban': 'HR2610010051711612008'}, '06297': {'mjesto': 'FUNTANA-FONTANE', 'prirez': 0.0, 'iban': 'HR6410010051762912005'}, '01171': {'mjesto': 'FU\\\\XC5\\\\XBEINE', 'prirez': 5.0, 'iban': 'HR9110010051711712009'}, '05711': {'mjesto': 'GALOVAC', 'prirez': 0.0, 'iban': 'HR9010010051757112004'}, '01180': {'mjesto': 'GAR\\\\XC4\\\\X8DIN', 'prirez': 10.0, 'iban': 'HR3810010051711812000'}, '01198': {'mjesto': 'GARE\\\\XC5\\\\XA1NICA', 'prirez': 10.0, 'iban': 'HR4910010051711912003'}, '01201': {'mjesto': 'GENERALSKI STOL', 'prirez': 0.0, 'iban': 'HR1710010051712012004', 'postal_code': '47262'}, '01210': {'mjesto': 'GLINA', 'prirez': 0.0, 'iban': 'HR8210010051712112005', 'postal_code': '44400'}, '01228': {'mjesto': 'GOLA', 'prirez': 0.0, 'iban': 'HR8810010051712212001', 'postal_code': '48331'}, '01236': {'mjesto': 'GORI\\\\XC4\\\\X8DAN', 'prirez': 0.0, 'iban': 'HR1810010051712312007'}, '01244': {'mjesto': 'GORJANI', 'prirez': 0.0, 'iban': 'HR8310010051712412008', 'postal_code': '31422'}, '06181': {'mjesto': 'GORNJA RIJEKA', 'prirez': 0.0, 'iban': 'HR0610010051761812002', 'postal_code': '48268'}, '01252': {'mjesto': 'GORNJA STUBICA', 'prirez': 0.0, 'iban': 'HR5110010051712512009', 'postal_code': '49245'}, '05690': {'mjesto': 'GORNJA VRBA', 'prirez': 0.0, 'iban': 'HR6210010051756912009'}, '01279': {'mjesto': 'GORNJI BOGI\\\\XC4\\\\X87EVCI', 'prirez': 5.0, 'iban': 'HR0910010051712712003'}, '01295': {'mjesto': 'GORNJI KNEGINEC', 'prirez': 10.0, 'iban': 'HR1510010051712912006'}, '06041': {'mjesto': 'GORNJI MIHALJEVEC', 'prirez': 0.0, 'iban': 'HR0610010051760412001'}, '01309': {'mjesto': 'GOSPI\\\\XC4\\\\X87', 'prirez': 10.0, 'iban': 'HR4810010051713012001'}, '01317': {'mjesto': 'GRA\\\\XC4\\\\X8DAC', 'prirez': 7.0, 'iban': 'HR7510010051713112007'}, '01325': {'mjesto': 'GRA\\\\XC4\\\\X8DI\\\\XC5\\\\XA1\\\\XC4\\\\X87E', 'prirez': 5.0, 'iban': 'HR4310010051713212008'}, '01341': {'mjesto': 'GRADAC', 'prirez': 0.0, 'iban': 'HR5510010051713412000'}, '01350': {'mjesto': 'GRADEC', 'prirez': 5.0, 'iban': 'HR6610010051713512003'}, '01368': {'mjesto': 'GRADINA', 'prirez': 0.0, 'iban': 'HR8810010051713612002'}, '01376': {'mjesto': 'GRADI\\\\XC5\\\\XA1TE', 'prirez': 0.0, 'iban': 'HR7210010051713712006'}, '01384': {'mjesto': 'GRO\\\\XC5\\\\XBENJAN-GRISIGNANA', 'prirez': 0.0, 'iban': 'HR2410010051713812004'}, '01392': {'mjesto': 'GRUBI\\\\XC5\\\\XA1NO POLJE', 'prirez': 5.0, 'iban': 'HR8910010051713912005'}, '01406': {'mjesto': 'GUNDINCI', 'prirez': 0.0, 'iban': 'HR0310010051714012008', 'postal_code': '35222'}, '01414': {'mjesto': 'GUNJA', 'prirez': 5.0, 'iban': 'HR6810010051714112009', 'postal_code': '32259'}, '05100': {'mjesto': 'GVOZD', 'prirez': 0.0, 'iban': 'HR3410010051751012003'}, '01449': {'mjesto': 'HERCEGOVAC', 'prirez': 0.0, 'iban': 'HR4810010051714412002', 'postal_code': '43284'}, '01457': {'mjesto': 'HLEBINE', 'prirez': 0.0, 'iban': 'HR3210010051714512006', 'postal_code': '48323'}, '01465': {'mjesto': 'HRA\\\\XC5\\\\XA1\\\\XC4\\\\X87INA', 'prirez': 5.0, 'iban': 'HR8110010051714612004'}, '01481': {'mjesto': 'HRVACE', 'prirez': 10.0, 'iban': 'HR5510010051714812001', 'postal_code': '21233'}, '01490': {'mjesto': 'HRVATSKA DUBICA', 'prirez': 3.0, 'iban': 'HR8210010051714912007', 'postal_code': '44450'}, '01503': {'mjesto': 'HRVATSKA KOSTAJNICA', 'prirez': 6.0, 'iban': 'HR7210010051715012000', 'postal_code': '44430'}, '01520': {'mjesto': 'HUM NA SUTLI', 'prirez': 0.0, 'iban': 'HR0810010051715212002', 'postal_code': '49231'}, '01538': {'mjesto': 'HVAR', 'prirez': 0.0, 'iban': 'HR8910010051715312006', 'postal_code': '21450'}, '01546': {'mjesto': 'ILOK', 'prirez': 0.0, 'iban': 'HR4110010051715412004', 'postal_code': '32236'}, '01554': {'mjesto': 'IMOTSKI', 'prirez': 6.0, 'iban': 'HR0910010051715512005', 'postal_code': '21260'}, '01562': {'mjesto': 'IVANEC', 'prirez': 10.0, 'iban': 'HR1510010051715612001', 'postal_code': '42240'}, '01589': {'mjesto': 'IVANI\\\\XC4\\\\X87-GRAD', 'prirez': 6.0, 'iban': 'HR1010010051715812008'}, '01597': {'mjesto': 'IVANKOVO', 'prirez': 10.0, 'iban': 'HR7510010051715912009', 'postal_code': '32281'}, '01619': {'mjesto': 'IVANSKA', 'prirez': 0.0, 'iban': 'HR0610010051716112004', 'postal_code': '43231'}, '06092': {'mjesto': 'JAGODNJAK', 'prirez': 3.0, 'iban': 'HR2410010051760912003', 'postal_code': '31324'}, '01635': {'mjesto': 'JAKOVLJE', 'prirez': 5.0, 'iban': 'HR7710010051716312001', 'postal_code': '10297'}, '01643': {'mjesto': 'JAK\\\\XC5\\\\XA1I\\\\XC4\\\\X87', 'prirez': 5.0, 'iban': 'HR0710010051716412007'}, '01651': {'mjesto': 'JAL\\\\XC5\\\\XBEABET', 'prirez': 0.0, 'iban': 'HR7210010051716512008'}, '05991': {'mjesto': 'JANJINA', 'prirez': 0.0, 'iban': 'HR3110010051759912001', 'postal_code': '20246'}, '01660': {'mjesto': 'JARMINA', 'prirez': 0.0, 'iban': 'HR4010010051716612009', 'postal_code': '32280'}, '01678': {'mjesto': 'JASENICE', 'prirez': 0.0, 'iban': 'HR8410010051716712000', 'postal_code': '23243'}, '01686': {'mjesto': 'JASENOVAC', 'prirez': 0.0, 'iban': 'HR9510010051716812003', 'postal_code': '44324'}, '01694': {'mjesto': 'JASTREBARSKO', 'prirez': 9.0, 'iban': 'HR2010010051716912002', 'postal_code': '10450'}, '01708': {'mjesto': 'JELENJE', 'prirez': 0.0, 'iban': 'HR3110010051717012005'}, '01716': {'mjesto': 'JELSA', 'prirez': 10.0, 'iban': 'HR3710010051717112001', 'postal_code': '21465'}, '05525': {'mjesto': 'JESENJE', 'prirez': 0.0, 'iban': 'HR0210010051755212000'}, '01724': {'mjesto': 'JOSIPDOL', 'prirez': 0.0, 'iban': 'HR6410010051717212007', 'postal_code': '47303'}, '01732': {'mjesto': 'KALI', 'prirez': 0.0, 'iban': 'HR3210010051717312008', 'postal_code': '23272'}, '05592': {'mjesto': 'KALINOVAC', 'prirez': 0.0, 'iban': 'HR6910010051755912007', 'postal_code': '48361'}, '05606': {'mjesto': 'KALNIK', 'prirez': 0.0, 'iban': 'HR5910010051756012000'}, '06238': {'mjesto': 'KAMANJE', 'prirez': 10.0, 'iban': 'HR8310010051762312009', 'postal_code': '47282'}, '01759': {'mjesto': 'KANFANAR', 'prirez': 3.0, 'iban': 'HR4410010051717512000', 'postal_code': '52352'}, '01767': {'mjesto': 'KAPELA', 'prirez': 8.0, 'iban': 'HR5510010051717612003', 'postal_code': '43203'}, '01775': {'mjesto': 'KAPTOL', 'prirez': 10.0, 'iban': 'HR7710010051717712002', 'postal_code': '34334'}, '01783': {'mjesto': 'KARLOBAG', 'prirez': 0.0, 'iban': 'HR6110010051717812006', 'postal_code': '53288'}, '01791': {'mjesto': 'KARLOVAC', 'prirez': 12.0, 'iban': 'HR1310010051717912004', 'postal_code': '47000'}, '05967': {'mjesto': 'KAROJBA', 'prirez': 5.0, 'iban': 'HR0810010051759612006'}, '01805': {'mjesto': 'KASTAV', 'prirez': 0.0, 'iban': 'HR2410010051718012007', 'postal_code': '51215'}, '01813': {'mjesto': 'KA\\\\XC5\\\\XA1TELA', 'prirez': 12.0, 'iban': 'HR8910010051718112008'}, '05975': {'mjesto': 'KA\\\\XC5\\\\XA1TELIR-LABINCI-CASTELLIERE-S.DOMENICA', 'prirez': 5.0, 'iban': 'HR5710010051759712004'}, '01830': {'mjesto': 'KIJEVO', 'prirez': 5.0, 'iban': 'HR0410010051718312000', 'postal_code': '22310'}, '01848': {'mjesto': 'KISTANJE', 'prirez': 3.0, 'iban': 'HR1510010051718412003', 'postal_code': '22305'}, '01856': {'mjesto': 'KLAKAR', 'prirez': 0.0, 'iban': 'HR3710010051718512002'}, '01864': {'mjesto': 'KLANA', 'prirez': 0.0, 'iban': 'HR2110010051718612006', 'postal_code': '51217'}, '01872': {'mjesto': 'KLANJEC', 'prirez': 12.0, 'iban': 'HR7010010051718712004', 'postal_code': '49290'}, '01899': {'mjesto': 'KLENOVNIK', 'prirez': 7.0, 'iban': 'HR4410010051718912001', 'postal_code': '42244'}, '01902': {'mjesto': 'KLIN\\\\XC4\\\\X8DA SELA', 'prirez': 10.0, 'iban': 'HR1710010051719012009'}, '01929': {'mjesto': 'KLIS', 'prirez': 10.0, 'iban': 'HR7210010051719212003', 'postal_code': '21231'}, '01937': {'mjesto': 'KLO\\\\XC5\\\\XA1TAR IVANI\\\\XC4\\\\X87', 'prirez': 2.0, 'iban': 'HR9410010051719312002'}, '01945': {'mjesto': 'KLO\\\\XC5\\\\XA1TAR PODRAVSKI', 'prirez': 5.0, 'iban': 'HR7810010051719412006'}, '01953': {'mjesto': 'KNE\\\\XC5\\\\XBEEVI VINOGRADI', 'prirez': 4.0, 'iban': 'HR3010010051719512004'}, '01961': {'mjesto': 'KNIN', 'prirez': 10.0, 'iban': 'HR9510010051719612005', 'postal_code': '22300'}, '06220': {'mjesto': 'KOLAN', 'prirez': 0.0, 'iban': 'HR1810010051762212008', 'postal_code': '23251'}, '01970': {'mjesto': 'KOMI\\\\XC5\\\\XBEA', 'prirez': 5.0, 'iban': 'HR0410010051719712001'}, '01988': {'mjesto': 'KONAVLE', 'prirez': 10.0, 'iban': 'HR3110010051719812007'}, '01996': {'mjesto': 'KON\\\\XC4\\\\X8DANICA', 'prirez': 5.0, 'iban': 'HR9610010051719912008'}, '02003': {'mjesto': 'KONJ\\\\XC5\\\\XA1\\\\XC4\\\\X8DINA', 'prirez': 10.0, 'iban': 'HR0510010051720012004'}, '02011': {'mjesto': 'KOPRIVNICA', 'prirez': 0.0, 'iban': 'HR7010010051720112005', 'postal_code': '48000'}, '02020': {'mjesto': 'KOPRIVNI\\\\XC4\\\\X8DKI BREGI', 'prirez': 0.0, 'iban': 'HR7610010051720212001'}, '02038': {'mjesto': 'KOPRIVNI\\\\XC4\\\\X8DKI IVANEC', 'prirez': 0.0, 'iban': 'HR0610010051720312007'}, '02046': {'mjesto': 'KOR\\\\XC4\\\\X8DULA', 'prirez': 6.0, 'iban': 'HR7110010051720412008'}, '05380': {'mjesto': 'KOSTRENA', 'prirez': 0.0, 'iban': 'HR1810010051753812002', 'postal_code': '51221'}, '02054': {'mjesto': 'KO\\\\XC5\\\\XA1KA', 'prirez': 0.0, 'iban': 'HR3910010051720512009'}, '02062': {'mjesto': 'KOTORIBA', 'prirez': 0.0, 'iban': 'HR8310010051720612000', 'postal_code': '40329'}, '02089': {'mjesto': 'KRALJEVEC NA SUTLI', 'prirez': 0.0, 'iban': 'HR1910010051720812002', 'postal_code': '49294'}, '02097': {'mjesto': 'KRALJEVICA', 'prirez': 5.0, 'iban': 'HR0310010051720912006', 'postal_code': '51262'}, '02119': {'mjesto': 'KRAPINA', 'prirez': 0.0, 'iban': 'HR6310010051721112007', 'postal_code': '49000'}, '02127': {'mjesto': 'KRAPINSKE TOPLICE', 'prirez': 0.0, 'iban': 'HR3110010051721212008', 'postal_code': '49217'}, '05339': {'mjesto': 'KRA\\\\XC5\\\\XA1I\\\\XC4\\\\X87', 'prirez': 6.0, 'iban': 'HR0510010051753312007'}, '05452': {'mjesto': 'KRAVARSKO', 'prirez': 5.0, 'iban': 'HR5310010051754512003', 'postal_code': '10413'}, '02135': {'mjesto': 'KRI\\\\XC5\\\\XBE', 'prirez': 2.0, 'iban': 'HR9610010051721312009'}, '02143': {'mjesto': 'KRI\\\\XC5\\\\XBEEVCI', 'prirez': 10.0, 'iban': 'HR4310010051721412000'}, '02151': {'mjesto': 'KRK', 'prirez': 0.0, 'iban': 'HR5410010051721512003', 'postal_code': '51500'}, '02160': {'mjesto': 'KRNJAK', 'prirez': 8.0, 'iban': 'HR7610010051721612002', 'postal_code': '47242'}, '02178': {'mjesto': 'KR\\\\XC5\\\\XA1AN', 'prirez': 0.0, 'iban': 'HR6010010051721712006'}, '05720': {'mjesto': 'KUKLJICA', 'prirez': 0.0, 'iban': 'HR5810010051757212005', 'postal_code': '23271'}, '02194': {'mjesto': 'KULA NORINSKA', 'prirez': 10.0, 'iban': 'HR7710010051721912005', 'postal_code': '20341'}, '05533': {'mjesto': 'KUMROVEC', 'prirez': 0.0, 'iban': 'HR1310010051755312003', 'postal_code': '49295'}, '02208': {'mjesto': 'KUTINA', 'prirez': 12.0, 'iban': 'HR8810010051722012008', 'postal_code': '44320'}, '02216': {'mjesto': 'KUTJEVO', 'prirez': 0.0, 'iban': 'HR5610010051722112009', 'postal_code': '34340'}, '02224': {'mjesto': 'LABIN', 'prirez': 6.0, 'iban': 'HR0310010051722212000', 'postal_code': '52220'}, '02232': {'mjesto': 'LANI\\\\XC5\\\\XA1\\\\XC4\\\\X87E', 'prirez': 5.0, 'iban': 'HR1410010051722312003'}, '02259': {'mjesto': 'LASINJA', 'prirez': 10.0, 'iban': 'HR2010010051722512006', 'postal_code': '47206'}, '02267': {'mjesto': 'LASTOVO', 'prirez': 10.0, 'iban': 'HR6910010051722612004', 'postal_code': '20290'}, '05860': {'mjesto': 'LE\\\\XC4\\\\X87EVICA', 'prirez': 0.0, 'iban': 'HR4210010051758612003'}, '02275': {'mjesto': 'LEGRAD', 'prirez': 0.0, 'iban': 'HR3710010051722712005', 'postal_code': '48317'}, '02283': {'mjesto': 'LEKENIK', 'prirez': 0.0, 'iban': 'HR4310010051722812001', 'postal_code': '44272'}, '02291': {'mjesto': 'LEPOGLAVA', 'prirez': 8.0, 'iban': 'HR7010010051722912007', 'postal_code': '42250'}, '02305': {'mjesto': 'LEVANJSKA VARO\\\\XC5\\\\XA1', 'prirez': 0.0, 'iban': 'HR6010010051723012000'}, '02313': {'mjesto': 'LIPIK', 'prirez': 10.0, 'iban': 'HR7110010051723112003', 'postal_code': '34551'}, '02321': {'mjesto': 'LIPOVLJANI', 'prirez': 6.0, 'iban': 'HR9310010051723212002', 'postal_code': '44322'}, '02348': {'mjesto': 'LI\\\\XC5\\\\XA1ANE OSTROVI\\\\XC4\\\\X8DKE', 'prirez': 6.0, 'iban': 'HR2910010051723412004'}, '02356': {'mjesto': 'LI\\\\XC5\\\\XBENJAN-LISIGNANO', 'prirez': 5.0, 'iban': 'HR9410010051723512005'}, '02364': {'mjesto': 'LOBOR', 'prirez': 0.0, 'iban': 'HR0310010051723612001', 'postal_code': '49253'}, '02372': {'mjesto': 'LOKVE', 'prirez': 0.0, 'iban': 'HR3010010051723712007', 'postal_code': '51316'}, '05878': {'mjesto': 'LOKVI\\\\XC4\\\\X8DI\\\\XC4\\\\X87I', 'prirez': 7.0, 'iban': 'HR6410010051758712002'}, '06246': {'mjesto': 'LOPAR', 'prirez': 0.0, 'iban': 'HR3010010051762412000', 'postal_code': '51281'}, '02399': {'mjesto': 'LOVAS', 'prirez': 5.0, 'iban': 'HR6310010051723912009', 'postal_code': '32237'}, '02402': {'mjesto': 'LOVINAC', 'prirez': 8.0, 'iban': 'HR4210010051724012006', 'postal_code': '53244'}, '02429': {'mjesto': 'LOVRAN', 'prirez': 0.0, 'iban': 'HR5910010051724212005', 'postal_code': '51415'}, '02437': {'mjesto': 'LOVRE\\\\XC4\\\\X87', 'prirez': 0.0, 'iban': 'HR6510010051724312001'}, '02445': {'mjesto': 'LUDBREG', 'prirez': 12.0, 'iban': 'HR9210010051724412007', 'postal_code': '42230'}, '05487': {'mjesto': 'LUKA', 'prirez': 5.0, 'iban': 'HR1110010051754812004', 'postal_code': '10296'}, '02453': {'mjesto': 'LUKA\\\\XC4\\\\X8D', 'prirez': 8.0, 'iban': 'HR6010010051724512008'}, '06009': {'mjesto': 'LUMBARDA', 'prirez': 5.0, 'iban': 'HR9610010051760012002', 'postal_code': '20263'}, '02461': {'mjesto': 'LUPOGLAV', 'prirez': 1.0, 'iban': 'HR2810010051724612009', 'postal_code': '52426'}, '02470': {'mjesto': 'LJUBE\\\\XC5\\\\XA1\\\\XC4\\\\X87ICA', 'prirez': 10.0, 'iban': 'HR7210010051724712000'}, '02488': {'mjesto': 'MA\\\\XC4\\\\X8DE', 'prirez': 0.0, 'iban': 'HR8310010051724812003'}, '05789': {'mjesto': 'MAGADENOVAC', 'prirez': 2.0, 'iban': 'HR8210010051757812003', 'postal_code': '31542'}, '05550': {'mjesto': 'MAJUR', 'prirez': 5.0, 'iban': 'HR1910010051755512006'}, '02496': {'mjesto': 'MAKARSKA', 'prirez': 10.0, 'iban': 'HR0810010051724912002', 'postal_code': '21300'}, '02500': {'mjesto': 'MALA SUBOTICA', 'prirez': 0.0, 'iban': 'HR1910010051725012005', 'postal_code': '40321'}, '02518': {'mjesto': 'MALI BUKOVEC', 'prirez': 10.0, 'iban': 'HR2510010051725112001', 'postal_code': '42231'}, '02526': {'mjesto': 'MALI LO\\\\XC5\\\\XA1INJ', 'prirez': 0.0, 'iban': 'HR5210010051725212007'}, '02534': {'mjesto': 'MALINSKA-DUBA\\\\XC5\\\\XA1NICA', 'prirez': 0.0, 'iban': 'HR2010010051725312008'}, '02542': {'mjesto': 'MAR\\\\XC4\\\\X8DANA', 'prirez': 5.0, 'iban': 'HR8510010051725412009'}, '02569': {'mjesto': 'MARIJA BISTRICA', 'prirez': 0.0, 'iban': 'HR4310010051725612003', 'postal_code': '49246'}, '05398': {'mjesto': 'MARIJA GORICA', 'prirez': 10.0, 'iban': 'HR0210010051753912006', 'postal_code': '10299'}, '02577': {'mjesto': 'MARIJANCI', 'prirez': 5.0, 'iban': 'HR6510010051725712002', 'postal_code': '31555'}, '02585': {'mjesto': 'MARINA', 'prirez': 0.0, 'iban': 'HR4910010051725812006', 'postal_code': '21222'}, '06106': {'mjesto': 'MARKU\\\\XC5\\\\XA1ICA', 'prirez': 5.0, 'iban': 'HR8910010051761012004'}, '00850': {'mjesto': 'MARTIJANEC', 'prirez': 5.0, 'iban': 'HR8410010051708512008', 'postal_code': '42232'}, '02593': {'mjesto': 'MARTINSKA VES', 'prirez': 0.0, 'iban': 'HR9810010051725912004', 'postal_code': '44201'}, '02607': {'mjesto': 'MARU\\\\XC5\\\\XA1EVEC', 'prirez': 5.0, 'iban': 'HR1210010051726012007'}, '02615': {'mjesto': 'MATULJI', 'prirez': 10.0, 'iban': 'HR7710010051726112008', 'postal_code': '51211'}, '02631': {'mjesto': 'MEDULIN', 'prirez': 5.0, 'iban': 'HR8910010051726312000', 'postal_code': '52203'}, '02640': {'mjesto': 'METKOVI\\\\XC4\\\\X87', 'prirez': 8.0, 'iban': 'HR0310010051726412003'}, '02658': {'mjesto': 'MIHOVLJAN', 'prirez': 0.0, 'iban': 'HR2510010051726512002', 'postal_code': '49252'}, '02666': {'mjesto': 'MIKLEU\\\\XC5\\\\XA1', 'prirez': 0.0, 'iban': 'HR0910010051726612006'}, '02674': {'mjesto': 'MILNA', 'prirez': 3.0, 'iban': 'HR5810010051726712004', 'postal_code': '21405'}, '02682': {'mjesto': 'MLJET', 'prirez': 10.0, 'iban': 'HR2610010051726812005'}, '02704': {'mjesto': 'MOLVE', 'prirez': 0.0, 'iban': 'HR0510010051727012009', 'postal_code': '48327'}, '02739': {'mjesto': 'MO\\\\XC5\\\\XA1\\\\XC4\\\\X87ENI\\\\XC4\\\\X8DKA DRAGA', 'prirez': 0.0, 'iban': 'HR8210010051727312002'}, '02747': {'mjesto': 'MOTOVUN-MONTONA', 'prirez': 0.0, 'iban': 'HR6610010051727412006'}, '02755': {'mjesto': 'MRKOPALJ', 'prirez': 7.0, 'iban': 'HR1810010051727512004', 'postal_code': '51315'}, '00876': {'mjesto': 'MU\\\\XC4\\\\X87', 'prirez': 7.0, 'iban': 'HR9610010051708712000'}, '02763': {'mjesto': 'MURSKO SREDI\\\\XC5\\\\XA1\\\\XC4\\\\X87E', 'prirez': 0.0, 'iban': 'HR8310010051727612005'}, '06173': {'mjesto': 'MURTER-KORNATI', 'prirez': 8.0, 'iban': 'HR8110010051761712003'}, '02780': {'mjesto': 'NA\\\\XC5\\\\XA1ICE', 'prirez': 8.0, 'iban': 'HR1910010051727812007'}, '02798': {'mjesto': 'NEDELI\\\\XC5\\\\XA1\\\\XC4\\\\X87E', 'prirez': 0.0, 'iban': 'HR8410010051727912008'}, '06122': {'mjesto': 'NEGOSLAVCI', 'prirez': 5.0, 'iban': 'HR6310010051761212001', 'postal_code': '32239'}, '02801': {'mjesto': 'NERE\\\\XC5\\\\XBEI\\\\XC5\\\\XA1\\\\XC4\\\\X87A', 'prirez': 0.0, 'iban': 'HR2010010051728012003'}, '02810': {'mjesto': 'NETRETI\\\\XC4\\\\X87', 'prirez': 0.0, 'iban': 'HR4210010051728112002'}, '02950': {'mjesto': 'NIJEMCI', 'prirez': 0.0, 'iban': 'HR3110010051729512007', 'postal_code': '32245'}, '02828': {'mjesto': 'NIN', 'prirez': 0.0, 'iban': 'HR2610010051728212006', 'postal_code': '23232'}, '02836': {'mjesto': 'NOVA BUKOVICA', 'prirez': 0.0, 'iban': 'HR7510010051728312004', 'postal_code': '33518'}, '02844': {'mjesto': 'NOVA GRADI\\\\XC5\\\\XA1KA', 'prirez': 12.0, 'iban': 'HR4310010051728412005'}, '02852': {'mjesto': 'NOVA KAPELA', 'prirez': 10.0, 'iban': 'HR4910010051728512001', 'postal_code': '35410'}, '02879': {'mjesto': 'NOVA RA\\\\XC4\\\\X8DA', 'prirez': 0.0, 'iban': 'HR4410010051728712008'}, '02887': {'mjesto': 'NOVALJA', 'prirez': 0.0, 'iban': 'HR1210010051728812009', 'postal_code': '53291'}, '05541': {'mjesto': 'NOVI GOLUBOVEC', 'prirez': 0.0, 'iban': 'HR3510010051755412002', 'postal_code': '49255'}, '02895': {'mjesto': 'NOVI MAROF', 'prirez': 10.0, 'iban': 'HR5610010051728912000', 'postal_code': '42220'}, '02909': {'mjesto': 'NOVI VINODOLSKI', 'prirez': 7.0, 'iban': 'HR9410010051729012002', 'postal_code': '51250'}, '05371': {'mjesto': 'NOVIGRAD', 'prirez': 0.0, 'iban': 'HR9310010051753712003', 'postal_code': '52466'}, '02925': {'mjesto': 'NOVIGRAD PODRAVSKI', 'prirez': 0.0, 'iban': 'HR3010010051729212004', 'postal_code': '48325'}, '02917': {'mjesto': 'NOVIGRAD-CITTANOVA', 'prirez': 0.0, 'iban': 'HR7810010051729112006'}, '05614': {'mjesto': 'NOVO VIRJE', 'prirez': 0.0, 'iban': 'HR7010010051756112003', 'postal_code': '48355'}, '02933': {'mjesto': 'NOVSKA', 'prirez': 8.0, 'iban': 'HR9510010051729312005', 'postal_code': '44330'}, '02941': {'mjesto': 'NU\\\\XC5\\\\XA1TAR', 'prirez': 6.0, 'iban': 'HR0410010051729412001'}, '02968': {'mjesto': 'OBROVAC', 'prirez': 0.0, 'iban': 'HR9610010051729612008', 'postal_code': '23450'}, '02976': {'mjesto': 'OGULIN', 'prirez': 5.0, 'iban': 'HR6410010051729712009', 'postal_code': '47300'}, '05886': {'mjesto': 'OKRUG', 'prirez': 0.0, 'iban': 'HR4810010051758812006'}, '02992': {'mjesto': 'OKU\\\\XC4\\\\X8DANI', 'prirez': 10.0, 'iban': 'HR2210010051729912003'}, '03000': {'mjesto': 'OMI\\\\XC5\\\\XA1', 'prirez': 8.0, 'iban': 'HR7610010051730012008'}, '03018': {'mjesto': 'OMI\\\\XC5\\\\XA1ALJ', 'prirez': 0.0, 'iban': 'HR4410010051730112009'}, '03026': {'mjesto': 'OPATIJA', 'prirez': 7.5, 'iban': 'HR8810010051730212000', 'postal_code': '51410'}, '03034': {'mjesto': 'OPRISAVCI', 'prirez': 0.0, 'iban': 'HR0210010051730312003', 'postal_code': '35213'}, '03042': {'mjesto': 'OPRTALJ-PORTOLE', 'prirez': 0.0, 'iban': 'HR2410010051730412002'}, '03069': {'mjesto': 'OPUZEN', 'prirez': 10.0, 'iban': 'HR5710010051730612004', 'postal_code': '20355'}, '03077': {'mjesto': 'ORAHOVICA', 'prirez': 0.0, 'iban': 'HR2510010051730712005', 'postal_code': '33515'}, '03085': {'mjesto': 'OREBI\\\\XC4\\\\X87', 'prirez': 0.0, 'iban': 'HR3110010051730812001'}, '06050': {'mjesto': 'OREHOVICA', 'prirez': 0.0, 'iban': 'HR3310010051760512007', 'postal_code': '40322'}, '03093': {'mjesto': 'ORIOVAC', 'prirez': 0.0, 'iban': 'HR5810010051730912007', 'postal_code': '35250'}, '05428': {'mjesto': 'ORLE', 'prirez': 5.0, 'iban': 'HR3010010051754212008', 'postal_code': '10411'}, '03115': {'mjesto': 'OROSLAVJE', 'prirez': 0.0, 'iban': 'HR5910010051731112003', 'postal_code': '49243'}, '03123': {'mjesto': 'OSIJEK', 'prirez': 13.0, 'iban': 'HR8110010051731212002', 'postal_code': '31000'}, '03131': {'mjesto': 'OTO\\\\XC4\\\\X8DAC', 'prirez': 9.0, 'iban': 'HR6510010051731312006'}, '03140': {'mjesto': 'OTOK (SINJ)', 'prirez': 5.0, 'iban': 'HR1710010051731412004'}, '05355': {'mjesto': 'OTOK (VINKOVCI)', 'prirez': 10.0, 'iban': 'HR3810010051753512009'}, '03158': {'mjesto': 'OZALJ', 'prirez': 10.0, 'iban': 'HR8210010051731512005', 'postal_code': '47280'}, '03166': {'mjesto': 'PAG', 'prirez': 0.0, 'iban': 'HR8810010051731612001', 'postal_code': '23250'}, '03174': {'mjesto': 'PAKO\\\\XC5\\\\XA1TANE', 'prirez': 0.0, 'iban': 'HR1810010051731712007'}, '03182': {'mjesto': 'PAKRAC', 'prirez': 7.0, 'iban': 'HR8310010051731812008', 'postal_code': '34550'}, '03204': {'mjesto': 'PA\\\\XC5\\\\XA1MAN', 'prirez': 0.0, 'iban': 'HR3010010051732012006'}, '03212': {'mjesto': 'PAZIN', 'prirez': 9.0, 'iban': 'HR7910010051732112004', 'postal_code': '52000'}, '03239': {'mjesto': 'PERU\\\\XC5\\\\XA1I\\\\XC4\\\\X87', 'prirez': 4.0, 'iban': 'HR5310010051732312001'}, '03247': {'mjesto': 'PETERANEC', 'prirez': 0.0, 'iban': 'HR8010010051732412007', 'postal_code': '48321'}, '03255': {'mjesto': 'PETLOVAC', 'prirez': 5.0, 'iban': 'HR4810010051732512008', 'postal_code': '31321'}, '03263': {'mjesto': 'PETRIJANEC', 'prirez': 5.0, 'iban': 'HR1610010051732612009', 'postal_code': '42206'}, '03271': {'mjesto': 'PETRIJEVCI', 'prirez': 5.0, 'iban': 'HR6010010051732712000', 'postal_code': '31208'}, '03280': {'mjesto': 'PETRINJA', 'prirez': 0.0, 'iban': 'HR7110010051732812003', 'postal_code': '44250'}, '03298': {'mjesto': 'PETROVSKO', 'prirez': 0.0, 'iban': 'HR9310010051732912002', 'postal_code': '49234'}, '03301': {'mjesto': 'PI\\\\XC4\\\\X87AN', 'prirez': 2.0, 'iban': 'HR0710010051733012005'}, '05819': {'mjesto': 'PIROVAC', 'prirez': 6.0, 'iban': 'HR2410010051758112001', 'postal_code': '22213'}, '03310': {'mjesto': 'PISAROVINA', 'prirez': 6.0, 'iban': 'HR1310010051733112001', 'postal_code': '10451'}, '03328': {'mjesto': 'PITOMA\\\\XC4\\\\X8DA', 'prirez': 0.0, 'iban': 'HR4010010051733212007'}, '03336': {'mjesto': 'PLA\\\\XC5\\\\XA1KI', 'prirez': 0.0, 'iban': 'HR0810010051733312008'}, '03344': {'mjesto': 'PLETERNICA', 'prirez': 0.0, 'iban': 'HR7310010051733412009', 'postal_code': '34310'}, '04553': {'mjesto': 'PLITVI\\\\XC4\\\\X8DKA JEZERA', 'prirez': 8.0, 'iban': 'HR5010010051745512009'}, '03352': {'mjesto': 'PLO\\\\XC4\\\\X8DE', 'prirez': 10.0, 'iban': 'HR2010010051733512000'}, '03379': {'mjesto': 'PODBABLJE', 'prirez': 6.0, 'iban': 'HR5310010051733712002'}, '03387': {'mjesto': 'PODCRKAVLJE', 'prirez': 5.0, 'iban': 'HR3710010051733812006', 'postal_code': '35201'}, '03395': {'mjesto': 'PODGORA', 'prirez': 10.0, 'iban': 'HR8610010051733912004', 'postal_code': '21327'}, '03409': {'mjesto': 'PODGORA\\\\XC4\\\\X8D', 'prirez': 5.0, 'iban': 'HR9710010051734012007'}, '02712': {'mjesto': 'PODRAVSKA MOSLAVINA', 'prirez': 0.0, 'iban': 'HR4910010051727112000', 'postal_code': '31530'}, '06165': {'mjesto': 'PODRAVSKE SESVETE', 'prirez': 0.0, 'iban': 'HR7010010051761612000', 'postal_code': '48363'}, '03417': {'mjesto': 'PODSTRANA', 'prirez': 10.0, 'iban': 'HR6510010051734112008', 'postal_code': '21312'}, '03425': {'mjesto': 'PODTUREN', 'prirez': 0.0, 'iban': 'HR3310010051734212009', 'postal_code': '40317'}, '03433': {'mjesto': 'POJEZERJE', 'prirez': 0.0, 'iban': 'HR7710010051734312000'}, '05444': {'mjesto': 'POKUPSKO', 'prirez': 5.0, 'iban': 'HR4210010051754412000', 'postal_code': '10414'}, '03441': {'mjesto': 'POLA\\\\XC4\\\\X8DA', 'prirez': 10.0, 'iban': 'HR8810010051734412003'}, '03450': {'mjesto': 'POLI\\\\XC4\\\\X8DNIK', 'prirez': 0.0, 'iban': 'HR1310010051734512002'}, '03468': {'mjesto': 'POPOVAC', 'prirez': 3.0, 'iban': 'HR9410010051734612006', 'postal_code': '31303'}, '03476': {'mjesto': 'POPOVA\\\\XC4\\\\X8DA', 'prirez': 6.0, 'iban': 'HR4610010051734712004'}, '03484': {'mjesto': 'PORE\\\\XC4\\\\X8D-PARENZO', 'prirez': 0.0, 'iban': 'HR1410010051734812005'}, '03492': {'mjesto': 'POSEDARJE', 'prirez': 0.0, 'iban': 'HR2010010051734912001', 'postal_code': '23242'}, '03506': {'mjesto': 'POSTIRA', 'prirez': 0.0, 'iban': 'HR9010010051735012009', 'postal_code': '21410'}, '05738': {'mjesto': 'POVLJANA', 'prirez': 0.0, 'iban': 'HR6410010051757312001', 'postal_code': '23249'}, '03514': {'mjesto': 'PO\\\\XC5\\\\XBEEGA', 'prirez': 7.0, 'iban': 'HR3710010051735112000'}, '03522': {'mjesto': 'PREGRADA', 'prirez': 10.0, 'iban': 'HR4810010051735212003', 'postal_code': '49218'}, '03549': {'mjesto': 'PREKO', 'prirez': 0.0, 'iban': 'HR5410010051735412006', 'postal_code': '23273'}, '03557': {'mjesto': 'PRELOG', 'prirez': 0.0, 'iban': 'HR0610010051735512004', 'postal_code': '40323'}, '03565': {'mjesto': 'PRESEKA', 'prirez': 5.0, 'iban': 'HR7110010051735612005', 'postal_code': '10346'}, '05894': {'mjesto': 'PRGOMET', 'prirez': 0.0, 'iban': 'HR9710010051758912004', 'postal_code': '21201'}, '06203': {'mjesto': 'PRIBISLAVEC', 'prirez': 0.0, 'iban': 'HR2310010051762012001'}, '05908': {'mjesto': 'PRIMORSKI DOLAC', 'prirez': 0.0, 'iban': 'HR1110010051759012007', 'postal_code': '21227'}, '03573': {'mjesto': 'PRIMO\\\\XC5\\\\XA1TEN', 'prirez': 10.0, 'iban': 'HR7710010051735712001'}, '05835': {'mjesto': 'PRIVLAKA (VUKOVAR)', 'prirez': 0.0, 'iban': 'HR1910010051758312008'}, '05746': {'mjesto': 'PRIVLAKA (ZADAR)', 'prirez': 0.0, 'iban': 'HR9110010051757412007'}, '00884': {'mjesto': 'PROLO\\\\XC5\\\\XBEAC', 'prirez': 5.0, 'iban': 'HR1010010051708812003'}, '02984': {'mjesto': 'PROMINA', 'prirez': 0.0, 'iban': 'HR1110010051729812000'}, '03581': {'mjesto': 'PU\\\\XC4\\\\X8DI\\\\XC5\\\\XA1\\\\XC4\\\\X87A', 'prirez': 5.0, 'iban': 'HR0710010051735812007'}, '03590': {'mjesto': 'PULA-POLA', 'prirez': 12.0, 'iban': 'HR7210010051735912008'}, '03603': {'mjesto': 'PUNAT', 'prirez': 0.0, 'iban': 'HR0810010051736012003', 'postal_code': '51521'}, '03611': {'mjesto': 'PUNITOVCI', 'prirez': 0.0, 'iban': 'HR3010010051736112002', 'postal_code': '31424'}, '03620': {'mjesto': 'PU\\\\XC5\\\\XA1\\\\XC4\\\\X87A', 'prirez': 10.0, 'iban': 'HR1410010051736212006'}, '03638': {'mjesto': 'RAB', 'prirez': 0.0, 'iban': 'HR6310010051736312004', 'postal_code': '51280'}, '03646': {'mjesto': 'RADOBOJ', 'prirez': 8.0, 'iban': 'HR3110010051736412005', 'postal_code': '49232'}, '05363': {'mjesto': 'RAKOVEC', 'prirez': 3.0, 'iban': 'HR8210010051753612000', 'postal_code': '10347'}, '03654': {'mjesto': 'RAKOVICA', 'prirez': 8.0, 'iban': 'HR3710010051736512001', 'postal_code': '47245'}, '03662': {'mjesto': 'RASINJA', 'prirez': 0.0, 'iban': 'HR6410010051736612007', 'postal_code': '48312'}, '03689': {'mjesto': 'RA\\\\XC5\\\\XA1A', 'prirez': 6.0, 'iban': 'HR9710010051736812009'}, '03697': {'mjesto': 'RAVNA GORA', 'prirez': 7.5, 'iban': 'HR4410010051736912000', 'postal_code': '51314'}, '03719': {'mjesto': 'RA\\\\XC5\\\\XBEANAC', 'prirez': 0.0, 'iban': 'HR6610010051737112006'}, '03727': {'mjesto': 'RE\\\\XC5\\\\XA1ETARI', 'prirez': 10.0, 'iban': 'HR1810010051737212004'}, '05568': {'mjesto': 'RIBNIK', 'prirez': 5.0, 'iban': 'HR6810010051755612004', 'postal_code': '47272'}, '03735': {'mjesto': 'RIJEKA', 'prirez': 15.0, 'iban': 'HR8310010051737312005', 'postal_code': '51000'}, '05827': {'mjesto': 'ROGOZNICA', 'prirez': 0.0, 'iban': 'HR5110010051758212007', 'postal_code': '22203'}, '03743': {'mjesto': 'ROVINJ-ROVIGNO', 'prirez': 6.0, 'iban': 'HR8910010051737412001'}, '03751': {'mjesto': 'ROVI\\\\XC5\\\\XA1\\\\XC4\\\\X87E', 'prirez': 0.0, 'iban': 'HR1910010051737512007'}, '03760': {'mjesto': 'RUGVICA', 'prirez': 0.0, 'iban': 'HR8410010051737612008', 'postal_code': '10372'}, '05916': {'mjesto': 'RUNOVI\\\\XC4\\\\X87I', 'prirez': 6.0, 'iban': 'HR7610010051759112008'}, '03778': {'mjesto': 'RU\\\\XC5\\\\XBEI\\\\XC4\\\\X87', 'prirez': 5.0, 'iban': 'HR5210010051737712009'}, '03786': {'mjesto': 'SABORSKO', 'prirez': 0.0, 'iban': 'HR9610010051737812000', 'postal_code': '47306'}, '03794': {'mjesto': 'SALI', 'prirez': 0.0, 'iban': 'HR1010010051737912003', 'postal_code': '23281'}, '03808': {'mjesto': 'SAMOBOR', 'prirez': 0.0, 'iban': 'HR7510010051738012004', 'postal_code': '10430'}, '03816': {'mjesto': 'SATNICA \\\\XC4\\\\X90AKOVA\\\\XC4\\\\X8DKA', 'prirez': 0.0, 'iban': 'HR4310010051738112005'}, '03824': {'mjesto': 'SEGET', 'prirez': 0.0, 'iban': 'HR4910010051738212001'}, '03832': {'mjesto': 'SELCA', 'prirez': 0.0, 'iban': 'HR7610010051738312007', 'postal_code': '21425'}, '03859': {'mjesto': 'SELNICA', 'prirez': 0.0, 'iban': 'HR1210010051738512009', 'postal_code': '40314'}, '03867': {'mjesto': 'SEMELJCI', 'prirez': 0.0, 'iban': 'HR5610010051738612000', 'postal_code': '31402'}, '03875': {'mjesto': 'SENJ', 'prirez': 10.0, 'iban': 'HR6710010051738712003', 'postal_code': '53270'}, '05622': {'mjesto': 'SEVERIN', 'prirez': 0.0, 'iban': 'HR9210010051756212002', 'postal_code': '43274'}, '03883': {'mjesto': 'SIBINJ', 'prirez': 10.0, 'iban': 'HR8910010051738812002', 'postal_code': '35252'}, '05703': {'mjesto': 'SIKIREVCI', 'prirez': 0.0, 'iban': 'HR4110010051757012006', 'postal_code': '35224'}, '03891': {'mjesto': 'SINJ', 'prirez': 0.0, 'iban': 'HR7310010051738912006', 'postal_code': '21230'}, '03905': {'mjesto': 'SIRA\\\\XC4\\\\X8D', 'prirez': 0.0, 'iban': 'HR0910010051739012001'}, '03913': {'mjesto': 'SISAK', 'prirez': 10.0, 'iban': 'HR3610010051739112007', 'postal_code': '44000'}, '03930': {'mjesto': 'SKRAD', 'prirez': 0.0, 'iban': 'HR6910010051739312009', 'postal_code': '51311'}, '03948': {'mjesto': 'SKRADIN', 'prirez': 5.0, 'iban': 'HR1610010051739412000', 'postal_code': '22222'}, '03956': {'mjesto': 'SLATINA', 'prirez': 6.0, 'iban': 'HR2710010051739512003', 'postal_code': '33520'}, '03964': {'mjesto': 'SLAVONSKI BROD', 'prirez': 6.0, 'iban': 'HR4910010051739612002', 'postal_code': '35000'}, '03972': {'mjesto': 'SLAVONSKI \\\\XC5\\\\XA0AMAC', 'prirez': 0.0, 'iban': 'HR3310010051739712006'}, '03999': {'mjesto': 'SLIVNO', 'prirez': 0.0, 'iban': 'HR5010010051739912005', 'postal_code': '21272'}, '04006': {'mjesto': 'SLUNJ', 'prirez': 5.0, 'iban': 'HR4510010051740012005', 'postal_code': '47240'}, '04022': {'mjesto': 'SMOKVICA', 'prirez': 0.0, 'iban': 'HR7810010051740212007', 'postal_code': '20272'}, '04057': {'mjesto': 'SOKOLOVAC', 'prirez': 0.0, 'iban': 'HR5810010051740512000', 'postal_code': '48306'}, '04065': {'mjesto': 'SOLIN', 'prirez': 10.0, 'iban': 'HR6910010051740612003', 'postal_code': '21209'}, '04073': {'mjesto': 'SOPJE', 'prirez': 0.0, 'iban': 'HR9110010051740712002', 'postal_code': '33525'}, '04090': {'mjesto': 'SPLIT', 'prirez': 15.0, 'iban': 'HR2710010051740912004', 'postal_code': '21000'}, '04103': {'mjesto': 'SRA\\\\XC4\\\\X8DINEC', 'prirez': 5.0, 'iban': 'HR3810010051741012007'}, '04111': {'mjesto': 'STANKOVCI', 'prirez': 0.0, 'iban': 'HR0610010051741112008', 'postal_code': '23422'}, '04120': {'mjesto': 'STARA GRADI\\\\XC5\\\\XA1KA', 'prirez': 5.0, 'iban': 'HR7110010051741212009'}, '04138': {'mjesto': 'STARI GRAD', 'prirez': 10.0, 'iban': 'HR1810010051741312000', 'postal_code': '21460'}, '04146': {'mjesto': 'STARI JANKOVCI', 'prirez': 0.0, 'iban': 'HR2910010051741412003', 'postal_code': '32241'}, '04154': {'mjesto': 'STARI MIKANOVCI', 'prirez': 10.0, 'iban': 'HR5110010051741512002', 'postal_code': '32284'}, '04162': {'mjesto': 'STARIGRAD', 'prirez': 0.0, 'iban': 'HR3510010051741612006'}, '04189': {'mjesto': 'STARO PETROVO SELO', 'prirez': 10.0, 'iban': 'HR5210010051741812005', 'postal_code': '35420'}, '04197': {'mjesto': 'STON', 'prirez': 0.0, 'iban': 'HR5810010051741912001', 'postal_code': '20230'}, '06068': {'mjesto': 'STRAHONINEC', 'prirez': 0.0, 'iban': 'HR0110010051760612008'}, '04219': {'mjesto': 'STRIZIVOJNA', 'prirez': 0.0, 'iban': 'HR7510010051742112000', 'postal_code': '31410'}, '04227': {'mjesto': 'STUBI\\\\XC4\\\\X8DKE TOPLICE', 'prirez': 0.0, 'iban': 'HR8610010051742212003'}, '05517': {'mjesto': 'STUPNIK', 'prirez': 6.0, 'iban': 'HR5510010051755112009'}, '04235': {'mjesto': 'SU\\\\XC4\\\\X87URAJ', 'prirez': 0.0, 'iban': 'HR1110010051742312002'}, '04243': {'mjesto': 'SUHOPOLJE', 'prirez': 0.0, 'iban': 'HR9210010051742412006', 'postal_code': '33410'}, '04251': {'mjesto': 'SUKO\\\\XC5\\\\XA1AN', 'prirez': 0.0, 'iban': 'HR4410010051742512004'}, '04260': {'mjesto': 'SUNJA', 'prirez': 0.0, 'iban': 'HR1210010051742612005', 'postal_code': '44210'}, '04278': {'mjesto': 'SUPETAR', 'prirez': 10.0, 'iban': 'HR1810010051742712001', 'postal_code': '21400'}, '05924': {'mjesto': 'SUTIVAN', 'prirez': 10.0, 'iban': 'HR4410010051759212009', 'postal_code': '21403'}, '06076': {'mjesto': 'SVETA MARIJA', 'prirez': 0.0, 'iban': 'HR6610010051760712009', 'postal_code': '40326'}, '04324': {'mjesto': 'SVETA NEDELJA (LABIN)', 'prirez': 6.0, 'iban': 'HR5210010051743212006'}, '04367': {'mjesto': 'SVETA NEDELJA (SAMOBOR)', 'prirez': 0.0, 'iban': 'HR0510010051743612007'}, '04375': {'mjesto': 'SVETI \\\\XC4\\\\X90UR\\\\XC4\\\\X91', 'prirez': 5.0, 'iban': 'HR7010010051743712008'}, '04286': {'mjesto': 'SVETI FILIP I JAKOV', 'prirez': 10.0, 'iban': 'HR4510010051742812007', 'postal_code': '23207'}, '04383': {'mjesto': 'SVETI ILIJA', 'prirez': 10.0, 'iban': 'HR3810010051743812009', 'postal_code': '42214'}, '04294': {'mjesto': 'SVETI IVAN ZELINA', 'prirez': 12.0, 'iban': 'HR1310010051742912008', 'postal_code': '10380'}, '04391': {'mjesto': 'SVETI IVAN \\\\XC5\\\\XBDABNO', 'prirez': 0.0, 'iban': 'HR8210010051743912000'}, '04405': {'mjesto': 'SVETI JURAJ NA BREGU', 'prirez': 0.0, 'iban': 'HR2310010051744012002'}, '04308': {'mjesto': 'SVETI KRI\\\\XC5\\\\XBE ZA\\\\XC4\\\\X8DRETJE', 'prirez': 0.0, 'iban': 'HR4610010051743012003'}, '04316': {'mjesto': 'SVETI LOVRE\\\\XC4\\\\X8D', 'prirez': 5.0, 'iban': 'HR6810010051743112002'}, '04413': {'mjesto': 'SVETI MARTIN NA MURI', 'prirez': 0.0, 'iban': 'HR0710010051744112006', 'postal_code': '40313'}, '04421': {'mjesto': 'SVETI PETAR OREHOVEC', 'prirez': 0.0, 'iban': 'HR5610010051744212004'}, '04332': {'mjesto': 'SVETI PETAR U \\\\XC5\\\\XA0UMI', 'prirez': 7.0, 'iban': 'HR0410010051743312004'}, '04359': {'mjesto': 'SVETVIN\\\\XC4\\\\X8DENAT', 'prirez': 5.0, 'iban': 'HR7510010051743512001'}, '05649': {'mjesto': '\\\\XC5\\\\XA0ANDROVAC', 'prirez': 0.0, 'iban': 'HR2810010051756412004'}, '06084': {'mjesto': '\\\\XC5\\\\XA0ENKOVEC', 'prirez': 0.0, 'iban': 'HR1310010051760812000'}, '04430': {'mjesto': '\\\\XC5\\\\XA0ESTANOVAC', 'prirez': 0.0, 'iban': 'HR2410010051744312005'}, '04448': {'mjesto': '\\\\XC5\\\\XA0IBENIK', 'prirez': 10.0, 'iban': 'HR3010010051744412001'}, '04456': {'mjesto': '\\\\XC5\\\\XA0KABRNJA', 'prirez': 10.0, 'iban': 'HR5710010051744512007'}, '06149': {'mjesto': '\\\\XC5\\\\XA0ODOLOVCI', 'prirez': 0.0, 'iban': 'HR5810010051761412008'}, '04472': {'mjesto': '\\\\XC5\\\\XA0OLTA', 'prirez': 0.0, 'iban': 'HR9010010051744712009'}, '04499': {'mjesto': '\\\\XC5\\\\XA0PI\\\\XC5\\\\XA1I\\\\XC4\\\\X87 BUKOVICA', 'prirez': 9.0, 'iban': 'HR4810010051744912003'}, '04502': {'mjesto': '\\\\XC5\\\\XA0TEFANJE', 'prirez': 0.0, 'iban': 'HR1610010051745012004'}, '06289': {'mjesto': '\\\\XC5\\\\XA0TITAR', 'prirez': 5.0, 'iban': 'HR9610010051762812004'}, '04529': {'mjesto': '\\\\XC5\\\\XA0TRIGOVA', 'prirez': 0.0, 'iban': 'HR8710010051745212001'}, '06319': {'mjesto': 'TAR-VABRIGA-TORRE-ABREGA', 'prirez': 0.0, 'iban': 'HR4310010051763112009'}, '04537': {'mjesto': 'TINJAN', 'prirez': 5.0, 'iban': 'HR1710010051745312007', 'postal_code': '52444'}, '04545': {'mjesto': 'TISNO', 'prirez': 9.0, 'iban': 'HR8210010051745412008', 'postal_code': '22240'}, '05754': {'mjesto': 'TKON', 'prirez': 0.0, 'iban': 'HR5910010051757512008', 'postal_code': '23212'}, '04561': {'mjesto': 'TOMPOJEVCI', 'prirez': 0.0, 'iban': 'HR9410010051745612000'}, '04570': {'mjesto': 'TOPUSKO', 'prirez': 0.0, 'iban': 'HR0810010051745712003', 'postal_code': '44415'}, '04588': {'mjesto': 'TORDINCI', 'prirez': 5.0, 'iban': 'HR3010010051745812002', 'postal_code': '32214'}, '05576': {'mjesto': 'TOUNJ', 'prirez': 0.0, 'iban': 'HR3610010051755712005', 'postal_code': '47264'}, '04596': {'mjesto': 'TOVARNIK', 'prirez': 0.0, 'iban': 'HR1410010051745912006', 'postal_code': '32249'}, '06262': {'mjesto': 'TRIBUNJ', 'prirez': 6.0, 'iban': 'HR6310010051762612002', 'postal_code': '22212'}, '04600': {'mjesto': 'TRILJ', 'prirez': 0.0, 'iban': 'HR4710010051746012001', 'postal_code': '21240'}, '04618': {'mjesto': 'TRNAVA', 'prirez': 0.0, 'iban': 'HR7410010051746112007', 'postal_code': '31411'}, '04626': {'mjesto': 'TRNOVEC BARTOLOVE\\\\XC4\\\\X8DKI', 'prirez': 7.0, 'iban': 'HR4210010051746212008'}, '04634': {'mjesto': 'TROGIR', 'prirez': 8.0, 'iban': 'HR1010010051746312009', 'postal_code': '21219'}, '06017': {'mjesto': 'TRPANJ', 'prirez': 10.0, 'iban': 'HR8010010051760112006', 'postal_code': '20240'}, '04642': {'mjesto': 'TRPINJA', 'prirez': 0.0, 'iban': 'HR5410010051746412000', 'postal_code': '32224'}, '05932': {'mjesto': 'TU\\\\XC4\\\\X8DEPI', 'prirez': 10.0, 'iban': 'HR8810010051759312000'}, '04669': {'mjesto': 'TUHELJ', 'prirez': 0.0, 'iban': 'HR8710010051746612002', 'postal_code': '49215'}, '04677': {'mjesto': 'UDBINA', 'prirez': 5.0, 'iban': 'HR7110010051746712006', 'postal_code': '53234'}, '04685': {'mjesto': 'UMAG-UMAGO', 'prirez': 6.0, 'iban': 'HR2310010051746812004'}, '04693': {'mjesto': 'UNE\\\\XC5\\\\XA1I\\\\XC4\\\\X87', 'prirez': 5.0, 'iban': 'HR8810010051746912005'}, '04715': {'mjesto': 'VALPOVO', 'prirez': 0.0, 'iban': 'HR6710010051747112009', 'postal_code': '31550'}, '04723': {'mjesto': 'VARA\\\\XC5\\\\XBEDIN', 'prirez': 10.0, 'iban': 'HR1410010051747212000'}, '04731': {'mjesto': 'VARA\\\\XC5\\\\XBEDINSKE TOPLICE', 'prirez': 10.0, 'iban': 'HR2510010051747312003'}, '04740': {'mjesto': 'VELA LUKA', 'prirez': 9.0, 'iban': 'HR4710010051747412002', 'postal_code': '20270'}, '04758': {'mjesto': 'VELIKA', 'prirez': 0.0, 'iban': 'HR3110010051747512006', 'postal_code': '34330'}, '05410': {'mjesto': 'VELIKA GORICA', 'prirez': 12.0, 'iban': 'HR6210010051754112007', 'postal_code': '10409'}, '04766': {'mjesto': 'VELIKA KOPANICA', 'prirez': 7.0, 'iban': 'HR8010010051747612004', 'postal_code': '35221'}, '04774': {'mjesto': 'VELIKA LUDINA', 'prirez': 0.0, 'iban': 'HR4810010051747712005', 'postal_code': '44316'}, '04782': {'mjesto': 'VELIKA PISANICA', 'prirez': 0.0, 'iban': 'HR5410010051747812001', 'postal_code': '43271'}, '05657': {'mjesto': 'VELIKA TRNOVITICA', 'prirez': 0.0, 'iban': 'HR9310010051756512005', 'postal_code': '43285'}, '05584': {'mjesto': 'VELIKI BUKOVEC', 'prirez': 5.0, 'iban': 'HR4210010051755812001'}, '04804': {'mjesto': 'VELIKI GR\\\\XC4\\\\X91EVAC', 'prirez': 0.0, 'iban': 'HR7110010051748012000'}, '04812': {'mjesto': 'VELIKO TRGOVI\\\\XC5\\\\XA1\\\\XC4\\\\X87E', 'prirez': 7.5, 'iban': 'HR8210010051748112003'}, '04839': {'mjesto': 'VELIKO TROJSTVO', 'prirez': 0.0, 'iban': 'HR8810010051748312006', 'postal_code': '43226'}, '04847': {'mjesto': 'VIDOVEC', 'prirez': 10.0, 'iban': 'HR4010010051748412004', 'postal_code': '42205'}, '04855': {'mjesto': 'VILJEVO', 'prirez': 0.0, 'iban': 'HR0810010051748512005', 'postal_code': '31531'}, '04863': {'mjesto': 'VINICA', 'prirez': 5.0, 'iban': 'HR1410010051748612001', 'postal_code': '42207'}, '04871': {'mjesto': 'VINKOVCI', 'prirez': 10.0, 'iban': 'HR4110010051748712007', 'postal_code': '32100'}, '04880': {'mjesto': 'VINODOLSKA OP\\\\XC4\\\\X87INA', 'prirez': 0.0, 'iban': 'HR0910010051748812008'}, '04898': {'mjesto': 'VIR', 'prirez': 0.0, 'iban': 'HR7410010051748912009', 'postal_code': '23234'}, '04901': {'mjesto': 'VIRJE', 'prirez': 0.0, 'iban': 'HR5310010051749012006', 'postal_code': '48326'}, '04910': {'mjesto': 'VIROVITICA', 'prirez': 10.0, 'iban': 'HR0510010051749112004', 'postal_code': '33000'}, '04928': {'mjesto': 'VIS', 'prirez': 3.0, 'iban': 'HR7010010051749212005', 'postal_code': '21480'}, '04936': {'mjesto': 'VISOKO', 'prirez': 10.0, 'iban': 'HR7610010051749312001', 'postal_code': '42224'}, '04944': {'mjesto': 'VI\\\\XC5\\\\XA1KOVCI', 'prirez': 0.0, 'iban': 'HR0610010051749412007'}, '04952': {'mjesto': 'VI\\\\XC5\\\\XA1KOVO', 'prirez': 0.0, 'iban': 'HR7110010051749512008'}, '04979': {'mjesto': 'VI\\\\XC5\\\\XA1NJAN-VISIGNANO', 'prirez': 5.0, 'iban': 'HR8310010051749712000'}, '04987': {'mjesto': 'VI\\\\XC5\\\\XBEINADA-VISINADA', 'prirez': 3.0, 'iban': 'HR9410010051749812003'}, '05797': {'mjesto': 'VLADISLAVCI', 'prirez': 10.0, 'iban': 'HR0710010051757912002', 'postal_code': '31404'}, '04995': {'mjesto': 'VO\\\\XC4\\\\X87IN', 'prirez': 0.0, 'iban': 'HR1910010051749912002'}, '05002': {'mjesto': 'VODICE', 'prirez': 6.0, 'iban': 'HR1910010051750012009', 'postal_code': '22211'}, '05029': {'mjesto': 'VODNJAN-DIGNANO', 'prirez': 7.5, 'iban': 'HR7410010051750212003'}, '05843': {'mjesto': 'VO\\\\XC4\\\\X91INCI', 'prirez': 10.0, 'iban': 'HR8410010051758412009'}, '05037': {'mjesto': 'VOJNI\\\\XC4\\\\X87', 'prirez': 7.5, 'iban': 'HR9610010051750312002'}, '05045': {'mjesto': 'VRATI\\\\XC5\\\\XA1INEC', 'prirez': 0.0, 'iban': 'HR8010010051750412006'}, '05053': {'mjesto': 'VRBANJA', 'prirez': 5.0, 'iban': 'HR3210010051750512004', 'postal_code': '32254'}, '05061': {'mjesto': 'VRBJE', 'prirez': 3.0, 'iban': 'HR9710010051750612005', 'postal_code': '35423'}, '05070': {'mjesto': 'VRBNIK', 'prirez': 0.0, 'iban': 'HR0610010051750712001', 'postal_code': '51516'}, '05088': {'mjesto': 'VRBOVEC', 'prirez': 12.0, 'iban': 'HR3310010051750812007', 'postal_code': '10340'}, '05096': {'mjesto': 'VRBOVSKO', 'prirez': 10.0, 'iban': 'HR9810010051750912008', 'postal_code': '51326'}, '05118': {'mjesto': 'VRGORAC', 'prirez': 10.0, 'iban': 'HR5610010051751112002', 'postal_code': '21276'}, '05126': {'mjesto': 'VRHOVINE', 'prirez': 5.0, 'iban': 'HR4010010051751212006', 'postal_code': '53223'}, '05134': {'mjesto': 'VRLIKA', 'prirez': 7.0, 'iban': 'HR8910010051751312004', 'postal_code': '21236'}, '05142': {'mjesto': 'VRPOLJE', 'prirez': 0.0, 'iban': 'HR5710010051751412005', 'postal_code': '35210'}, '05169': {'mjesto': 'VRSAR-ORSERA', 'prirez': 0.0, 'iban': 'HR9010010051751612007'}, '06254': {'mjesto': 'VRSI', 'prirez': 0.0, 'iban': 'HR4110010051762512003', 'postal_code': '23235'}, '05177': {'mjesto': 'VUKA', 'prirez': 0.0, 'iban': 'HR5810010051751712008', 'postal_code': '31403'}, '05185': {'mjesto': 'VUKOVAR', 'prirez': 0.0, 'iban': 'HR2610010051751812009', 'postal_code': '32000'}, '05193': {'mjesto': 'ZABOK', 'prirez': 0.0, 'iban': 'HR7010010051751912000', 'postal_code': '49210'}, '05207': {'mjesto': 'ZADAR', 'prirez': 12.0, 'iban': 'HR1110010051752012002', 'postal_code': '23000'}, '05959': {'mjesto': 'ZADVARJE', 'prirez': 0.0, 'iban': 'HR2410010051759512002', 'postal_code': '21255'}, '05215': {'mjesto': 'ZAGORSKA SELA', 'prirez': 0.0, 'iban': 'HR9210010051752112006', 'postal_code': '49296'}, '01333': {'mjesto': 'ZAGREB', 'prirez': 18.0, 'iban': 'HR1110010051713312009', 'postal_code': '10000'}, '05223': {'mjesto': 'ZAGVOZD', 'prirez': 6.0, 'iban': 'HR4410010051752212004', 'postal_code': '21270'}, '05436': {'mjesto': 'ZAPRE\\\\XC5\\\\XA1I\\\\XC4\\\\X87', 'prirez': 12.0, 'iban': 'HR9510010051754312009'}, '05231': {'mjesto': 'ZA\\\\XC5\\\\XBEABLJE', 'prirez': 0.0, 'iban': 'HR1210010051752312005'}, '05240': {'mjesto': 'ZDENCI', 'prirez': 0.0, 'iban': 'HR1810010051752412001', 'postal_code': '33513'}, '05258': {'mjesto': 'ZEMUNIK DONJI', 'prirez': 0.0, 'iban': 'HR4510010051752512007'}, '05266': {'mjesto': 'ZLATAR', 'prirez': 10.0, 'iban': 'HR1310010051752612008', 'postal_code': '49250'}, '05274': {'mjesto': 'ZLATAR BISTRICA', 'prirez': 5.0, 'iban': 'HR7810010051752712009', 'postal_code': '49247'}, '05282': {'mjesto': 'ZMIJAVCI', 'prirez': 8.0, 'iban': 'HR2510010051752812000', 'postal_code': '21266'}, '05665': {'mjesto': 'ZRINSKI TOPOLOVAC', 'prirez': 0.0, 'iban': 'HR0210010051756612001', 'postal_code': '43202'}, '05304': {'mjesto': '\\\\XC5\\\\XBDAKANJE', 'prirez': 5.0, 'iban': 'HR0410010051753012004'}, '05312': {'mjesto': '\\\\XC5\\\\XBDMINJ', 'prirez': 5.0, 'iban': 'HR6910010051753112005'}, '05401': {'mjesto': '\\\\XC5\\\\XBDUMBERAK', 'prirez': 3.0, 'iban': 'HR3510010051754012001'}, '06025': {'mjesto': '\\\\XC5\\\\XBDUPA DUBROVA\\\\XC4\\\\X8DKA', 'prirez': 10.0, 'iban': 'HR3210010051760212004'}, '05347': {'mjesto': '\\\\XC5\\\\XBDUPANJA', 'prirez': 9.0, 'iban': 'HR7010010051753412008'}}\n"
     ]
    }
   ],
   "source": [
    "print(t_rates)"
   ],
   "metadata": {
    "collapsed": false,
    "pycharm": {
     "name": "#%%\n"
    }
   }
  },
  {
   "cell_type": "code",
   "execution_count": 1,
   "outputs": [],
   "source": [
    "import json\n",
    "\n",
    "with open('isplate.json', encoding='UTF-8', mode='r') as c:\n",
    "    cities: dict = json.load(c)\n",
    "    c.close()\n",
    "\n",
    "with open('pcodes.json', encoding='UTF-8', mode='r') as c:\n",
    "    postal_codes: dict = json.load(c)\n",
    "    c.close()"
   ],
   "metadata": {
    "collapsed": false,
    "pycharm": {
     "name": "#%%\n"
    }
   }
  },
  {
   "cell_type": "code",
   "execution_count": 2,
   "outputs": [],
   "source": [
    "for joppd, city in cities.items():\n",
    "\n",
    "    bracket: int = city['mjesto'].find('(')\n",
    "\n",
    "    if bracket != -1 and city['mjesto'] != 'SVETA NEDELJA (SAMOBOR)':\n",
    "        cname: str = city['mjesto'][:bracket-1]\n",
    "    else:\n",
    "        cname: str = city['mjesto']\n",
    "\n",
    "    cities[joppd]['mjesto'] = cname\n",
    "\n",
    "for city, pcode in postal_codes.items():\n",
    "\n",
    "    bracket: int = city.find('(')\n",
    "\n",
    "    if bracket != -1:\n",
    "        cname: str = city[:bracket-1]\n",
    "    else:\n",
    "        cname: str = city\n",
    "\n",
    "    if 'ZAGREB' in cname and cname.find('-') != -1:\n",
    "        cname = cname[:cname.find('-')-1]\n",
    "\n",
    "    if cname in postal_codes.keys():\n",
    "        continue\n",
    "    else:\n",
    "        postal_codes[cname] = postal_codes.pop(city)"
   ],
   "metadata": {
    "collapsed": false,
    "pycharm": {
     "name": "#%%\n"
    }
   }
  },
  {
   "cell_type": "code",
   "execution_count": 3,
   "outputs": [],
   "source": [
    "for joppd, city in cities.items():\n",
    "\n",
    "    if city['mjesto'] == 'SVETA NEDELJA (SAMOBOR)':\n",
    "        cities[joppd]['postal_code'] = postal_codes['SVETA NEDELJA'][0]\n",
    "        continue\n",
    "\n",
    "    if city['mjesto'] in postal_codes.keys():\n",
    "        cities[joppd]['postal_code'] = postal_codes[city['mjesto']][0]\n",
    "    else:\n",
    "        cities[joppd]['postal_code'] = 'NULL'"
   ],
   "metadata": {
    "collapsed": false,
    "pycharm": {
     "name": "#%%\n"
    }
   }
  },
  {
   "cell_type": "code",
   "execution_count": 5,
   "outputs": [],
   "source": [
    "with open('isplate.json', encoding='UTF-8', mode='r') as c:\n",
    "    cities2: dict = json.load(c)\n",
    "    c.close()\n",
    "\n",
    "for joppd, data in cities.items():\n",
    "    cities[joppd]['mjesto'] = cities2[joppd]['mjesto']"
   ],
   "metadata": {
    "collapsed": false,
    "pycharm": {
     "name": "#%%\n"
    }
   }
  },
  {
   "cell_type": "code",
   "execution_count": 7,
   "outputs": [],
   "source": [
    "\"\"\"\n",
    "with open('cities2.json', mode='w', encoding='UTF-8') as d:\n",
    "    d.write(json.dumps(cities))\n",
    "    d.close()\n",
    "\"\"\""
   ],
   "metadata": {
    "collapsed": false,
    "pycharm": {
     "name": "#%%\n"
    }
   }
  },
  {
   "cell_type": "code",
   "execution_count": 16,
   "outputs": [],
   "source": [
    "import json\n",
    "\n",
    "with open('cities2.json', mode='r', encoding='UTF-8') as c:\n",
    "    cities2: dict = json.load(c)\n",
    "    c.close()\n",
    "\n",
    "with open('pcodes.json', mode='r', encoding='UTF-8') as c:\n",
    "    pcodes: dict = json.load(c)\n",
    "    c.close()"
   ],
   "metadata": {
    "collapsed": false,
    "pycharm": {
     "name": "#%%\n"
    }
   }
  },
  {
   "cell_type": "code",
   "execution_count": 17,
   "outputs": [
    {
     "name": "stdout",
     "output_type": "stream",
     "text": [
      "23\n",
      "{'mjesto': 'BALE-VALLE', 'prirez': 1.0, 'iban': 'HR6410010051700512002', 'postal_code': '52211'}\n",
      "{'mjesto': 'BRTONIGLA-VERTENEGLIO', 'prirez': 0.0, 'iban': 'HR2910010051704012004', 'postal_code': '52474'}\n",
      "{'mjesto': 'BUJE-BUIE', 'prirez': 6.0, 'iban': 'HR0310010051704212001', 'postal_code': '52460'}\n",
      "{'mjesto': 'FAŽANA-FASANA', 'prirez': 3.0, 'iban': 'HR8710010051761912006', 'postal_code': '52212'}\n",
      "{'mjesto': 'FUNTANA-FONTANE', 'prirez': 0.0, 'iban': 'HR6410010051762912005', 'postal_code': '52452'}\n",
      "{'mjesto': 'GROŽNJAN-GRISIGNANA', 'prirez': 0.0, 'iban': 'HR2410010051713812004', 'postal_code': '52429'}\n",
      "{'mjesto': 'LIŽNJAN-LISIGNANO', 'prirez': 5.0, 'iban': 'HR9410010051723512005', 'postal_code': '52204'}\n",
      "{'mjesto': 'MOTOVUN-MONTONA', 'prirez': 0.0, 'iban': 'HR6610010051727412006', 'postal_code': '52424'}\n",
      "{'mjesto': 'NOVIGRAD-CITTANOVA', 'prirez': 0.0, 'iban': 'HR7810010051729112006', 'postal_code': '52466'}\n",
      "{'mjesto': 'OPRTALJ-PORTOLE', 'prirez': 0.0, 'iban': 'HR2410010051730412002', 'postal_code': '52428'}\n",
      "{'mjesto': 'POREČ-PARENZO', 'prirez': 0.0, 'iban': 'HR1410010051734812005', 'postal_code': '52440'}\n",
      "{'mjesto': 'PULA-POLA', 'prirez': 12.0, 'iban': 'HR7210010051735912008', 'postal_code': '52100'}\n",
      "{'mjesto': 'ROVINJ-ROVIGNO', 'prirez': 6.0, 'iban': 'HR8910010051737412001', 'postal_code': '52210'}\n",
      "{'mjesto': 'UMAG-UMAGO', 'prirez': 6.0, 'iban': 'HR2310010051746812004', 'postal_code': '52470'}\n",
      "{'mjesto': 'VIŠNJAN-VISIGNANO', 'prirez': 5.0, 'iban': 'HR8310010051749712000', 'postal_code': '52463'}\n",
      "{'mjesto': 'VIŽINADA-VISINADA', 'prirez': 3.0, 'iban': 'HR9410010051749812003', 'postal_code': '52447'}\n",
      "{'mjesto': 'VODNJAN-DIGNANO', 'prirez': 7.5, 'iban': 'HR7410010051750212003', 'postal_code': '52215'}\n",
      "{'mjesto': 'VRSAR-ORSERA', 'prirez': 0.0, 'iban': 'HR9010010051751612007', 'postal_code': '52450'}\n"
     ]
    }
   ],
   "source": [
    "# get cities with missing data\n",
    "cities = {joppd: data for joppd, data in cities2.items() if '-' in data['mjesto'] and data['postal_code'] == 'NULL'}\n",
    "\n",
    "print(len(cities))\n",
    "\n",
    "for joppd, data in cities.items():\n",
    "\n",
    "    dash: int = data['mjesto'].find('-')\n",
    "\n",
    "    fixed_name: str = data['mjesto'][:dash] + ' (' + data['mjesto'][dash+1:] + ')'\n",
    "\n",
    "    if fixed_name in pcodes.keys():\n",
    "        cities2[joppd]['postal_code'] = pcodes[fixed_name][0]\n",
    "        print(data)"
   ],
   "metadata": {
    "collapsed": false,
    "pycharm": {
     "name": "#%%\n"
    }
   }
  },
  {
   "cell_type": "code",
   "execution_count": 23,
   "outputs": [
    {
     "name": "stdout",
     "output_type": "stream",
     "text": [
      "{}\n"
     ]
    }
   ],
   "source": [
    "cities = {joppd: data for joppd, data in cities2.items() if data['postal_code'] == 'NULL' and 'DUBRAVA' in data['mjesto']}\n",
    "\n",
    "for joppd, data in cities.items():\n",
    "\n",
    "    cities2[joppd] = data"
   ],
   "metadata": {
    "collapsed": false,
    "pycharm": {
     "name": "#%%\n"
    }
   }
  },
  {
   "cell_type": "code",
   "execution_count": 24,
   "outputs": [],
   "source": [
    "with open('cities2.json', mode='w', encoding='UTF-8') as d:\n",
    "    data = json.dumps(cities2)\n",
    "\n",
    "    d.write(data)\n",
    "    d.close()"
   ],
   "metadata": {
    "collapsed": false,
    "pycharm": {
     "name": "#%%\n"
    }
   }
  },
  {
   "cell_type": "code",
   "execution_count": 1,
   "outputs": [],
   "source": [
    "import json\n",
    "\n",
    "with open('cities2.json', mode='r', encoding='UTF-8') as d:\n",
    "\n",
    "    dta: dict = json.load(d)\n",
    "\n",
    "    fixture: list = []\n",
    "\n",
    "    for joppd, data in dta.items():\n",
    "        fixture.append({\n",
    "            \"model\": \"third_parties_app.city\",\n",
    "            \"pk\": joppd,\n",
    "            \"fields\": {\n",
    "              \"city_name\": data['mjesto'],\n",
    "              \"postal_code\": data['postal_code'],\n",
    "              \"iban\": data['iban'],\n",
    "              \"tax_rate\": data['prirez']\n",
    "            }\n",
    "        })\n",
    "\n",
    "    res = json.dumps(fixture)\n",
    "\n",
    "    r = open('city_fixtures.json', mode='w', encoding='UTF-8')\n",
    "    r.write(res)\n",
    "    r.close()\n",
    "\n",
    "    d.close()\n"
   ],
   "metadata": {
    "collapsed": false,
    "pycharm": {
     "name": "#%%\n"
    }
   }
  }
 ],
 "metadata": {
  "kernelspec": {
   "display_name": "Python 3",
   "language": "python",
   "name": "python3"
  },
  "language_info": {
   "codemirror_mode": {
    "name": "ipython",
    "version": 2
   },
   "file_extension": ".py",
   "mimetype": "text/x-python",
   "name": "python",
   "nbconvert_exporter": "python",
   "pygments_lexer": "ipython2",
   "version": "2.7.6"
  }
 },
 "nbformat": 4,
 "nbformat_minor": 0
}