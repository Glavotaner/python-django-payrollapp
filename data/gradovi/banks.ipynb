{
 "metadata": {
  "language_info": {
   "codemirror_mode": {
    "name": "ipython",
    "version": 3
   },
   "file_extension": ".py",
   "mimetype": "text/x-python",
   "name": "python",
   "nbconvert_exporter": "python",
   "pygments_lexer": "ipython3",
   "version": "3.7.8-final"
  },
  "orig_nbformat": 2,
  "kernelspec": {
   "name": "python3",
   "display_name": "Python 3"
  }
 },
 "nbformat": 4,
 "nbformat_minor": 2,
 "cells": [
  {
   "cell_type": "code",
   "execution_count": 1,
   "metadata": {},
   "outputs": [],
   "source": [
    "from bs4 import BeautifulSoup\n",
    "from requests import get"
   ]
  },
  {
   "cell_type": "code",
   "execution_count": 2,
   "metadata": {},
   "outputs": [],
   "source": [
    "banks_page = get('https://tockanai.hr/banke/')\n",
    "\n",
    "soup = BeautifulSoup(banks_page.content, 'html.parser')"
   ]
  },
  {
   "cell_type": "code",
   "execution_count": 3,
   "metadata": {
    "tags": []
   },
   "outputs": [],
   "source": [
    "div = soup.find_all(\"div\", attrs={\"class\": \"vc_tta-panels-container\"})"
   ]
  },
  {
   "cell_type": "code",
   "execution_count": 19,
   "metadata": {
    "tags": []
   },
   "outputs": [],
   "source": [
    "banks = {}\n",
    "\n",
    "for item in div:\n",
    "\n",
    "    bank = str(item.find_next('h3'))\n",
    "    \n",
    "    bank_name = bank[4:-5].strip()\n",
    "\n",
    "    p = str(item.findChildren('p'))\n",
    "\n",
    "    try:\n",
    "        s = p.index('Poštanski broj i grad')\n",
    "        e = p.index('<br/>', s+len('Poštanski broj i grad'))\n",
    "\n",
    "        res = p[s+len('Poštanski broj i grad:')+7:e]\n",
    "\n",
    "        if ', ' in p[s+len('Poštanski broj i grad:')+7:e]:   \n",
    "            res = res.replace(',', '') \n",
    "\n",
    "        city = res.strip()\n",
    "\n",
    "    except ValueError:\n",
    "        city = ''\n",
    "\n",
    "\n",
    "    try:\n",
    "        s = p.index('Adresa')\n",
    "        e = p.index('<br/>', s+7)\n",
    "\n",
    "        address = p[s+7:e].strip()\n",
    "        \n",
    "    except ValueError:\n",
    "        address = ''\n",
    "\n",
    "    try:\n",
    "        s = p.index('OIB')\n",
    "        e = p.index('<br/>', s+4)\n",
    "\n",
    "        oib = p[s+4:e].strip()\n",
    "\n",
    "    except ValueError:\n",
    "        oib = ''\n",
    "    \n",
    "    try:\n",
    "        s = p.index('Matični broj')\n",
    "        e = p.index('<br/>', s+len('Matični broj'))\n",
    "\n",
    "        mib = p[s+len('Matični broj:'):e].strip()\n",
    "  \n",
    "    except ValueError:\n",
    "        mib = ''\n",
    "    \n",
    "    banks[bank_name] = {'oib': oib, 'mib': mib, 'address': address, 'city': city}\n",
    "    \n",
    "    "
   ]
  },
  {
   "cell_type": "code",
   "execution_count": 35,
   "metadata": {},
   "outputs": [],
   "source": [
    "from pandas import DataFrame"
   ]
  },
  {
   "cell_type": "code",
   "execution_count": 38,
   "metadata": {},
   "outputs": [],
   "source": [
    "df = DataFrame.from_dict(banks)\n",
    "df = df.T"
   ]
  },
  {
   "cell_type": "code",
   "execution_count": 37,
   "metadata": {},
   "outputs": [
    {
     "output_type": "execute_result",
     "data": {
      "text/plain": [
       "            ADDIKO BANK d.d.  AGRAM BANKA d.d. Zagreb   BANKA KOVANICA d.d.  \\\n",
       "oib              14036333877              70663193635           33039197637   \n",
       "mib                  1198947                 80003981               1326287   \n",
       "address  Slavonska avenija 6  Ulica grada Vukovara 74  Petra Preradovića 29   \n",
       "city                  Zagreb                   Zagreb              Varaždin   \n",
       "\n",
       "              BKS BANK AG             CROATIA BANKA d.d.  \\\n",
       "oib           02138784111                    32247795989   \n",
       "mib              40364313                       03467988   \n",
       "address  Mljekarski trg 3  Roberta Frangeša Mihanovića 9   \n",
       "city               Rijeka                         Zagreb   \n",
       "\n",
       "        ERSTE &amp; STEIERMÄRKISCHE BANK d.d.  \\\n",
       "oib                               23057039320   \n",
       "mib                                   3337367   \n",
       "address                      Jadranski trg 3A   \n",
       "city                                   Rijeka   \n",
       "\n",
       "        HRVATSKA POŠTANSKA BANKA d.d. Zagreb IMEX BANKA d.d. Split  \\\n",
       "oib                              87939104217           99326633206   \n",
       "mib                                  3777928               0971359   \n",
       "address                         Jurišićeva 4          Tolstojeva 6   \n",
       "city                                  Zagreb                 Split   \n",
       "\n",
       "        ISTARSKA KREDITNA BANKA UMAG d.d. Umag JADRANSKA BANKA d.d. Šibenik  \\\n",
       "oib                                65723536010                  02899494784   \n",
       "mib                                    3463958                      3019349   \n",
       "address                       Ernesta Miloša 1            Ante Starčevića 4   \n",
       "city                                      Umag                      Šibenik   \n",
       "\n",
       "         ... PRIVREDNA BANKA ZAGREB d.d. Zagreb  \\\n",
       "oib      ...                        02535697732   \n",
       "mib      ...                            3269841   \n",
       "address  ...                  Radnička cesta 50   \n",
       "city     ...                             Zagreb   \n",
       "\n",
       "        RAIFFEISENBANK AUSTRIA d.d. Zagreb SAMOBORSKA BANKA d.d. Samobor  \\\n",
       "oib                            53056966535                   13806526186   \n",
       "mib                               80002366                       3113680   \n",
       "address                Magazinska cesta 69        Trg kralja Tomislava 8   \n",
       "city                                Zagreb                       Samobor   \n",
       "\n",
       "        SBERBANK d.d. Zagreb SLATINSKA BANKA d.d. Slatina  \\\n",
       "oib              78427478595                  42252496579   \n",
       "mib                  1260405                      3999092   \n",
       "address          Varšavska 9                   V.Nazora 2   \n",
       "city                  Zagreb                      Slatina   \n",
       "\n",
       "        SPLITSKA BANKA d.d. Split (OTP Grupa) ŠTEDBANKA d.d. u likvidaciji  \\\n",
       "oib                               69326397242                  58063088591   \n",
       "mib                                  60000488                       813737   \n",
       "address             Ulica Domovinskog rata 61          Slavonska avenija 3   \n",
       "city                                    Split                       Zagreb   \n",
       "\n",
       "        TESLA ŠTEDNA BANKA d.d. Zagreb u stečaju VENETO BANKA d.d. Zagreb  \\\n",
       "oib                                  82901735413              81712716992   \n",
       "mib                                     02500256                  3917185   \n",
       "address                  Trg J. F. Kennedyja 6 B         Draškovićeva 58a   \n",
       "city                                      Zagreb                   Zagreb   \n",
       "\n",
       "        ZAGREBAČKA BANKA d.d. Zagreb  \n",
       "oib                      92963223473  \n",
       "mib                          3234495  \n",
       "address  Trg bana Josipa Jelačića 10  \n",
       "city                          Zagreb  \n",
       "\n",
       "[4 rows x 27 columns]"
      ],
      "text/html": "<div>\n<style scoped>\n    .dataframe tbody tr th:only-of-type {\n        vertical-align: middle;\n    }\n\n    .dataframe tbody tr th {\n        vertical-align: top;\n    }\n\n    .dataframe thead th {\n        text-align: right;\n    }\n</style>\n<table border=\"1\" class=\"dataframe\">\n  <thead>\n    <tr style=\"text-align: right;\">\n      <th></th>\n      <th>ADDIKO BANK d.d.</th>\n      <th>AGRAM BANKA d.d. Zagreb</th>\n      <th>BANKA KOVANICA d.d.</th>\n      <th>BKS BANK AG</th>\n      <th>CROATIA BANKA d.d.</th>\n      <th>ERSTE &amp;amp; STEIERMÄRKISCHE BANK d.d.</th>\n      <th>HRVATSKA POŠTANSKA BANKA d.d. Zagreb</th>\n      <th>IMEX BANKA d.d. Split</th>\n      <th>ISTARSKA KREDITNA BANKA UMAG d.d. Umag</th>\n      <th>JADRANSKA BANKA d.d. Šibenik</th>\n      <th>...</th>\n      <th>PRIVREDNA BANKA ZAGREB d.d. Zagreb</th>\n      <th>RAIFFEISENBANK AUSTRIA d.d. Zagreb</th>\n      <th>SAMOBORSKA BANKA d.d. Samobor</th>\n      <th>SBERBANK d.d. Zagreb</th>\n      <th>SLATINSKA BANKA d.d. Slatina</th>\n      <th>SPLITSKA BANKA d.d. Split (OTP Grupa)</th>\n      <th>ŠTEDBANKA d.d. u likvidaciji</th>\n      <th>TESLA ŠTEDNA BANKA d.d. Zagreb u stečaju</th>\n      <th>VENETO BANKA d.d. Zagreb</th>\n      <th>ZAGREBAČKA BANKA d.d. Zagreb</th>\n    </tr>\n  </thead>\n  <tbody>\n    <tr>\n      <th>oib</th>\n      <td>14036333877</td>\n      <td>70663193635</td>\n      <td>33039197637</td>\n      <td>02138784111</td>\n      <td>32247795989</td>\n      <td>23057039320</td>\n      <td>87939104217</td>\n      <td>99326633206</td>\n      <td>65723536010</td>\n      <td>02899494784</td>\n      <td>...</td>\n      <td>02535697732</td>\n      <td>53056966535</td>\n      <td>13806526186</td>\n      <td>78427478595</td>\n      <td>42252496579</td>\n      <td>69326397242</td>\n      <td>58063088591</td>\n      <td>82901735413</td>\n      <td>81712716992</td>\n      <td>92963223473</td>\n    </tr>\n    <tr>\n      <th>mib</th>\n      <td>1198947</td>\n      <td>80003981</td>\n      <td>1326287</td>\n      <td>40364313</td>\n      <td>03467988</td>\n      <td>3337367</td>\n      <td>3777928</td>\n      <td>0971359</td>\n      <td>3463958</td>\n      <td>3019349</td>\n      <td>...</td>\n      <td>3269841</td>\n      <td>80002366</td>\n      <td>3113680</td>\n      <td>1260405</td>\n      <td>3999092</td>\n      <td>60000488</td>\n      <td>813737</td>\n      <td>02500256</td>\n      <td>3917185</td>\n      <td>3234495</td>\n    </tr>\n    <tr>\n      <th>address</th>\n      <td>Slavonska avenija 6</td>\n      <td>Ulica grada Vukovara 74</td>\n      <td>Petra Preradovića 29</td>\n      <td>Mljekarski trg 3</td>\n      <td>Roberta Frangeša Mihanovića 9</td>\n      <td>Jadranski trg 3A</td>\n      <td>Jurišićeva 4</td>\n      <td>Tolstojeva 6</td>\n      <td>Ernesta Miloša 1</td>\n      <td>Ante Starčevića 4</td>\n      <td>...</td>\n      <td>Radnička cesta 50</td>\n      <td>Magazinska cesta 69</td>\n      <td>Trg kralja Tomislava 8</td>\n      <td>Varšavska 9</td>\n      <td>V.Nazora 2</td>\n      <td>Ulica Domovinskog rata 61</td>\n      <td>Slavonska avenija 3</td>\n      <td>Trg J. F. Kennedyja 6 B</td>\n      <td>Draškovićeva 58a</td>\n      <td>Trg bana Josipa Jelačića 10</td>\n    </tr>\n    <tr>\n      <th>city</th>\n      <td>Zagreb</td>\n      <td>Zagreb</td>\n      <td>Varaždin</td>\n      <td>Rijeka</td>\n      <td>Zagreb</td>\n      <td>Rijeka</td>\n      <td>Zagreb</td>\n      <td>Split</td>\n      <td>Umag</td>\n      <td>Šibenik</td>\n      <td>...</td>\n      <td>Zagreb</td>\n      <td>Zagreb</td>\n      <td>Samobor</td>\n      <td>Zagreb</td>\n      <td>Slatina</td>\n      <td>Split</td>\n      <td>Zagreb</td>\n      <td>Zagreb</td>\n      <td>Zagreb</td>\n      <td>Zagreb</td>\n    </tr>\n  </tbody>\n</table>\n<p>4 rows × 27 columns</p>\n</div>"
     },
     "metadata": {},
     "execution_count": 37
    }
   ],
   "source": [
    "df"
   ]
  },
  {
   "cell_type": "code",
   "execution_count": 21,
   "metadata": {},
   "outputs": [],
   "source": [
    "import json"
   ]
  },
  {
   "cell_type": "code",
   "execution_count": 34,
   "metadata": {},
   "outputs": [
    {
     "output_type": "error",
     "ename": "ValueError",
     "evalue": "Invalid format specifier",
     "traceback": [
      "\u001b[1;31m---------------------------------------------------------------------------\u001b[0m",
      "\u001b[1;31mValueError\u001b[0m                                Traceback (most recent call last)",
      "\u001b[1;32m<ipython-input-34-277fa9b4e5ce>\u001b[0m in \u001b[0;36m<module>\u001b[1;34m\u001b[0m\n\u001b[0;32m      3\u001b[0m \u001b[1;32mfor\u001b[0m \u001b[0mbank\u001b[0m \u001b[1;32min\u001b[0m \u001b[0mbanks\u001b[0m\u001b[1;33m:\u001b[0m\u001b[1;33m\u001b[0m\u001b[1;33m\u001b[0m\u001b[0m\n\u001b[0;32m      4\u001b[0m \u001b[1;33m\u001b[0m\u001b[0m\n\u001b[1;32m----> 5\u001b[1;33m     \u001b[0mj\u001b[0m \u001b[1;33m+=\u001b[0m \u001b[1;34mf'''{{\"model\": \"third_parties_app.bank\",\"pk\":\"{banks[bank][\"oib\"]}\", \"fields\": {\"mib\":\"{banks[bank][\"mib\"]}\",\"bank_name\":\"{bank}\",\"address\":\"{banks[bank][\"address\"]}\",\"city\":{banks[bank][\"city\"]}}}},'''\u001b[0m\u001b[1;33m\u001b[0m\u001b[1;33m\u001b[0m\u001b[0m\n\u001b[0m\u001b[0;32m      6\u001b[0m \u001b[1;33m\u001b[0m\u001b[0m\n\u001b[0;32m      7\u001b[0m \u001b[0mj\u001b[0m \u001b[1;33m=\u001b[0m \u001b[0mj\u001b[0m\u001b[1;33m[\u001b[0m\u001b[1;33m:\u001b[0m\u001b[1;33m-\u001b[0m\u001b[1;36m1\u001b[0m\u001b[1;33m]\u001b[0m \u001b[1;33m+\u001b[0m \u001b[1;34m']'\u001b[0m\u001b[1;33m\u001b[0m\u001b[1;33m\u001b[0m\u001b[0m\n",
      "\u001b[1;31mValueError\u001b[0m: Invalid format specifier"
     ]
    }
   ],
   "source": [
    "j = '['\n",
    "\n",
    "for bank in banks:\n",
    "\n",
    "    j += f'{{\"model\": \"third_parties_app.bank\",\"pk\":\"{banks[bank][\"oib\"]}\", \"fields\": {\"mib\":\"{banks[bank][\"mib\"]}\",\"bank_name\":\"{bank}\",\"address\":\"{banks[bank][\"address\"]}\",\"city\":{banks[bank][\"city\"]}}}},'\n",
    "\n",
    "j = j[:-1] + ']'"
   ]
  },
  {
   "cell_type": "code",
   "execution_count": null,
   "metadata": {},
   "outputs": [],
   "source": []
  }
 ]
}