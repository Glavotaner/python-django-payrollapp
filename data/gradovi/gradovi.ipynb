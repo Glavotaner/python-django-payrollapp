{
 "metadata": {
  "language_info": {
   "codemirror_mode": {
    "name": "ipython",
    "version": 3
   },
   "file_extension": ".py",
   "mimetype": "text/x-python",
   "name": "python",
   "nbconvert_exporter": "python",
   "pygments_lexer": "ipython3",
   "version": "3.7.8-final"
  },
  "orig_nbformat": 2,
  "kernelspec": {
   "name": "python37864bit4e0604fcefbf4dd2a8c0e08824751fcb",
   "display_name": "Python 3.7.8 64-bit"
  }
 },
 "nbformat": 4,
 "nbformat_minor": 2,
 "cells": [
  {
   "cell_type": "code",
   "execution_count": 1,
   "metadata": {},
   "outputs": [],
   "source": [
    "gradovi = open('gradovi.txt', 'r', encoding='UTF-8')\n",
    "\n",
    "gradovi = gradovi.read()\n",
    "\n",
    "gradovi = gradovi.split(' ')\n",
    "\n",
    "while '' in gradovi:\n",
    "    gradovi.remove('')\n"
   ]
  },
  {
   "cell_type": "code",
   "execution_count": 2,
   "metadata": {},
   "outputs": [],
   "source": [
    "gradovi_dict = {}\n",
    "grad = ''\n",
    "\n",
    "for i, item in enumerate(gradovi):\n",
    "\n",
    "    if i < 2:\n",
    "        continue\n",
    "\n",
    "    if not item[-1].isdigit():\n",
    "        if gradovi[i-1].isdigit():\n",
    "            sifra = gradovi[i-1]\n",
    "        grad += item + ' '\n",
    "    \n",
    "    if not item[0].isdigit() and item[-1].isdigit():\n",
    "        if grad != '':\n",
    "            grad += item[:-3]\n",
    "\n",
    "            gradovi_dict[grad] = [sifra]\n",
    "\n",
    "            grad = ''\n",
    "            sifra = 0\n",
    "        \n",
    "        else:\n",
    "            gradovi_dict[item[:-3]] = [gradovi[i-1]]\n",
    "\n",
    "for key, val in gradovi_dict.items():\n",
    "    gradovi_dict[key.strip()] = gradovi_dict[key]\n",
    "\n",
    "gradovi_dict['ZAGREB'] = gradovi_dict.pop('GRAD ZAGREB')\n"
   ]
  },
  {
   "cell_type": "code",
   "execution_count": 4,
   "metadata": {},
   "outputs": [
    {
     "output_type": "stream",
     "name": "stdout",
     "text": [
      "Problem kod Andrijaševci\t8\n\nProblem kod Antunovac\t10\n\nProblem kod Babina Greda\t5\n\nProblem kod Bale\t1\n\nProblem kod Barban\t5\n\nProblem kod Bedenica\t3\n\nProblem kod Bednja\t10\n\nProblem kod Beli Manastir\t5\n\nProblem kod Belica\t0\n\nProblem kod Belišće\t7\n\nProblem kod Benkovac\t5\n\nProblem kod Beretinec\t7\n\nProblem kod Bilice\t10\n\nProblem kod Bilje\t5\n\nProblem kod Biograd na Moru\t12\n\nProblem kod Biskupija\t4\n\nProblem kod Bistra\t10\n\nProblem kod Bizovac\t3\n\nProblem kod Bjelovar\t0\n\nProblem kod Blato\t10\n\nProblem kod Bol\t10\n\nProblem kod Borovo\t6\n\nProblem kod Bošnjaci\t5\n\nProblem kod Brckovljani\t3\n\nProblem kod Brdovec\t10\n\nProblem kod Brela\t5\n\nProblem kod Brestovac\t5\n\nProblem kod Breznica\t10\n\nProblem kod Breznički Hum\t3\n\nProblem kod Brinje\t10\n\nProblem kod Brodski Stupnik\t10\n\nProblem kod Buje\t6\n\nProblem kod Bukovlje\t10\n\nProblem kod Buzet\t6\n\nProblem kod Cerna\t5\n\nProblem kod Cernik\t10\n\nProblem kod Cerovlje\t2\n\nProblem kod Cestica\t10\n\nProblem kod Cista Provo\t3\n\nProblem kod Civljane\t5\n\nProblem kod Crikvenica\t10\n\nProblem kod Čabar\t5\n\nProblem kod Čaglin\t5\n\nProblem kod Čakovec\t10\n\nProblem kod Čazma\t10\n\nProblem kod Čeminac\t10\n\nProblem kod Čepin\t10\n\nProblem kod Darda\t5\n\nProblem kod Daruvar\t10\n\nProblem kod Davor\t10\n\nProblem kod Delnice\t5\n\nProblem kod Dežanovac\t5\n\nProblem kod Dicmo\t8\n\nProblem kod Donja Stubica\t10\n\nProblem kod Donja Voća\t10\n\nProblem kod Donji Andrijevci\t8\n\nProblem kod Donji Kukuruzari\t6\n\nProblem kod Donji Lapac\t5\n\nProblem kod Donji Martijanec\t5\n\nProblem kod Donji Miholjac\t5\n\nProblem kod Dragalić\t10\n\nProblem kod Draž\t2\n\nProblem kod Drenovci\t5\n\nProblem kod Drniš\t5\n\nProblem kod Dubrava\t6\n\nProblem kod Dubravica\t10\n\nProblem kod Dubrovačko primorje\t10\n\nProblem kod Dubrovnik\t10\n\nProblem kod Duga Resa\t10\n\nProblem kod Dugo Selo\t9\n\nProblem kod Dugopolje\t0\n\nProblem kod Dvor\t5\n\nProblem kod Đakovo\t10\n\nProblem kod Đurđenovac\t10\n\nProblem kod Erdut\t5\n\nProblem kod Ernestinovo\t10\n\nProblem kod Ervenik\t3\n\nProblem kod Farkaševac\t3\n\nProblem kod Fažana\t3\n\nProblem kod Feričanci\t10\n\nProblem kod Fužine\t5\n\nProblem kod Garčin\t10\n\nProblem kod Garešnica\t10\n\nProblem kod Gornji Bogićevci\t5\n\nProblem kod Gornji Kneginec\t10\n\nProblem kod Gospić\t10\n\nProblem kod Gračac\t7\n\nProblem kod Gračišće\t5\n\nProblem kod Gradec\t5\n\nProblem kod Grubišno Polje\t5\n\nProblem kod Gunja\t5\n\nProblem kod Hrašćina\t5\n\nProblem kod Hrvace\t10\n\nProblem kod Hrvatska Dubica\t3\n\nProblem kod Hrvatska Kostajnica\t6\n\nProblem kod Ilok\t0\n\nProblem kod Imotski\t12\n\nProblem kod Ivanec\t10\n\nProblem kod Ivanić grad\t6\n\nProblem kod Ivankovo\t10\n\nProblem kod Jagodnjak\t3\n\nProblem kod Jakovlje\t5\n\nProblem kod Jakšić\t5\n\nProblem kod Jastrebarsko\t9\n\nProblem kod Jelsa\t10\n\nProblem kod Kamanje\t10\n\nProblem kod Kanfanar\t3\n\nProblem kod Kapela\t8\n\nProblem kod Kaptol\t10\n\nProblem kod Karlovac\t12\n\nProblem kod Karojba\t5\n\nProblem kod Kaštela\t12\n\nProblem kod Kaštelir-Labinci\t5\n\nProblem kod Kijevo\t5\n\nProblem kod Kistanje\t3\n\nProblem kod Klanjec\t12\n\nProblem kod Klenovnik\t7\n\nProblem kod Klinča Sela\t10\n\nProblem kod Klis\t10\n\nProblem kod Kloštar Ivanić\t2\n\nProblem kod Kloštar Podravski\t5\n\nProblem kod Kneževi Vinogradi\t4\n\nProblem kod Knin\t10\n\nProblem kod Komiža\t5\n\nProblem kod Konavle\t10\n\nProblem kod Končanica\t5\n\nProblem kod Konjšćina\t10\n\nProblem kod Korčula\t6\n\nProblem kod Kraljevica\t5\n\nProblem kod Krašić\t6\n\nProblem kod Kravarsko\t5\n\nProblem kod Križ\t2\n\nProblem kod Križevci\t10\n\nProblem kod Krnjak\t8\n\nProblem kod Kula Norinska\t10\n\nProblem kod Kutina\t12\n\nProblem kod Labin\t6\n\nProblem kod Lanišće\t5\n\nProblem kod Lasinja\t10\n\nProblem kod Lastovo\t10\n\nProblem kod Lepoglava\t8\n\nProblem kod Lipik\t10\n\nProblem kod Lipovljani\t6\n\nProblem kod Lišane Ostrovičke\t6\n\nProblem kod Ližnjan\t5\n\nProblem kod Lokvičići\t7\n\nProblem kod Lovas\t5\n\nProblem kod Lovinac\t8\n\nProblem kod Ludbreg\t12\n\nProblem kod Luka\t5\n\nProblem kod Lukač\t8\n\nProblem kod Lumbarda\t5\n\nProblem kod Lupoglav\t1\n\nProblem kod Ljubešćica\t10\n\nProblem kod Magadenovac\t2\n\nProblem kod Majur\t5\n\nProblem kod Makarska\t10\n\nProblem kod Mali Bukovec\t10\n\nProblem kod Marčana\t5\n\nProblem kod Marija Gorica\t10\n\nProblem kod Marijanci\t5\n\nProblem kod Markušica\t5\n\nProblem kod Maruševec\t5\n\nProblem kod Matulji\t10\n\nProblem kod Medulin\t5\n\nProblem kod Metković\t8\n\nProblem kod Milna\t3\n\nProblem kod Mljet\t10\n\nProblem kod Motovun\t0\n\nProblem kod Mrkopalj\t7\n\nProblem kod Muć\t7\n\nProblem kod Murter-Kornati\t8\n\nProblem kod Našice\t8\n\nProblem kod Negoslavci\t5\n\nProblem kod Nova Gradiška\t12\n\nProblem kod Nova Kapela\t10\n\nProblem kod Novi Marof\t10\n\nProblem kod Novi Vinodolski\t7\n\nProblem kod Novska\t10\n\nProblem kod Nuštar\t6\n\nProblem kod Ogulin\t5\n\nProblem kod Okučani\t10\n\nProblem kod Omiš\t8\n\nProblem kod Opatija\t7.5\n\nProblem kod Opuzen\t10\n\nProblem kod Orle\t5\n\nProblem kod Osijek\t13\n\nProblem kod Otočac\t9\n\nProblem kod Otok (Sinj)\t5\n\nProblem kod Otok (Vinkovci)\t10\n\nProblem kod Ozalj\t10\n\nProblem kod Pakrac\t10\n\nProblem kod Pazin\t9\n\nProblem kod Perušić\t8\n\nProblem kod Petlovac\t5\n\nProblem kod Petrijanec\t5\n\nProblem kod Petrijevci\t5\n\nProblem kod Petrinja\t10\n\nProblem kod Pićan\t2\n\nProblem kod Pirovac\t6\n\nProblem kod Pisarovina\t6\n\nProblem kod Pleternica\t10\n\nProblem kod Plitvička jezera\t8\n\nProblem kod Ploče\t10\n\nProblem kod Podbablje\t6\n\nProblem kod Podcrkavlje\t5\n\nProblem kod Podgora\t10\n\nProblem kod Podgorač\t5\n\nProblem kod Podstrana\t10\n\nProblem kod Pokupsko\t5\n\nProblem kod Polača\t10\n\nProblem kod Popovac\t3\n\nProblem kod Popovača\t6\n\nProblem kod Požega\t7\n\nProblem kod Pregrada\t10\n\nProblem kod Preseka\t5\n\nProblem kod Primošten\t10\n\nProblem kod Proložac\t5\n\nProblem kod Promina\t0\n\nProblem kod Pučišća\t5\n\nProblem kod Pula\t12\n\nProblem kod Pušća\t10\n\nProblem kod Radoboj\t8\n\nProblem kod Rakovec\t3\n\nProblem kod Rakovica\t8\n\nProblem kod Raša\t6\n\nProblem kod Ravna Gora\t7.5\n\nProblem kod Rešetari\t10\n\nProblem kod Ribnik\t5\n\nProblem kod Rijeka\t15\n\nProblem kod Rovinj\t6\n\nProblem kod Rugvica\t0\n\nProblem kod Runovići\t6\n\nProblem kod Ružić\t5\n\nProblem kod Senj\t10\n\nProblem kod Sibinj\t10\n\nProblem kod Sinj\t0\n\nProblem kod Sisak\t10\n\nProblem kod Skradin\t5\n\nProblem kod Slatina\t6\n\nProblem kod Slavonski Brod\t12\n\nProblem kod Slunj\t5\n\nProblem kod Solin\t10\n\nProblem kod Split\t15\n\nProblem kod Sračinec\t5\n\nProblem kod Stara Gradiška\t5\n\nProblem kod Stari Grad\t10\n\nProblem kod Stari Mikanovci\t10\n\nProblem kod Staro Petrovo Selo\t10\n\nProblem kod Stupnik\t6\n\nProblem kod Supetar\t10\n\nProblem kod Sutivan\t10\n\nProblem kod Sveta Nedelja (Labin)\t6\n\nProblem kod Sveta Nedelja (Samobor)\t0\n\nProblem kod Sveti Đurđ\t5\n\nProblem kod Sveti Filip i Jakov\t10\n\nProblem kod Sveti Ilija\t10\n\nProblem kod Sveti Ivan Zelina\t12\n\nProblem kod Sveti Lovreč\t5\n\nProblem kod Sveti Petar u Šumi\t7\n\nProblem kod Svetvinčenat\t5\n\nProblem kod Šibenik\t10\n\nProblem kod Škabrnja\t10\n\nProblem kod Špišić Bukovica\t9\n\nProblem kod Štefanje\t0\n\nProblem kod Štitar\t5\n\nProblem kod Tinjan\t5\n\nProblem kod Tisno\t9\n\nProblem kod Tordinci\t5\n\nProblem kod Tribunj\t6\n\nProblem kod Trnovec Bartolovečki\t7\n\nProblem kod Trogir\t8\n\nProblem kod Trpanj\t10\n\nProblem kod Tučepi\t10\n\nProblem kod Udbina\t5\n\nProblem kod Umag\t6\n\nProblem kod Unešić\t5\n\nProblem kod Valpovo\t0\n\nProblem kod Varaždin\t10\n\nProblem kod Varaždinske Toplice\t10\n\nProblem kod Vela Luka\t9\n\nProblem kod Velika Gorica\t12\n\nProblem kod Velika Kopanica\t7\n\nProblem kod Veliki Bukovec\t5\n\nProblem kod Veliko Trgovišće\t7.5\n\nProblem kod Vidovec\t10\n\nProblem kod Vinica\t5\n\nProblem kod Vinkovci\t13\n\nProblem kod Virovitica\t10\n\nProblem kod Vis\t3\n\nProblem kod Visoko\t10\n\nProblem kod Višnjan\t5\n\nProblem kod Vižinada\t3\n\nProblem kod Vladislavci\t10\n\nProblem kod Vodice\t6\n\nProblem kod Vodnjan\t7.5\n\nProblem kod Vođinci\t10\n\nProblem kod Vojnić\t7.5\n\nProblem kod Vrbanja\t5\n\nProblem kod Vrbje\t3\n\nProblem kod Vrbovec\t12\n\nProblem kod Vrbovsko\t10\n\nProblem kod Vrgorac\t10\n\nProblem kod Vrhovine\t5\n\nProblem kod Vrlika\t7\n\nProblem kod Zadar\t12\n\nProblem kod Zadvarje\t1\n\nProblem kod Zagreb\t18\n\nProblem kod Zagvozd\t6\n\nProblem kod Zaprešić\t12\n\nProblem kod Zlatar\t10\n\nProblem kod Zlatar Bistrica\t5\n\nProblem kod Zmijavci\t8\n\nProblem kod Žakanje\t0\n\nProblem kod Žminj\t5\n\nProblem kod Žumberak\t3\n\nProblem kod Župa Dubrovačka\t10\n\nProblem kod Županja\t12\n"
     ]
    }
   ],
   "source": [
    "racuni = open('racuni.txt', 'r', encoding='UTF-8')\n",
    "\n",
    "lst = []\n",
    "racuni_dict = {}\n",
    "\n",
    "for line in racuni:\n",
    "    try:\n",
    "        grad = \" \".join(line.split()[:-1])\n",
    "        iban = line.split()[-1]\n",
    "\n",
    "        racuni_dict[grad] = iban\n",
    "\n",
    "        lst.append([grad, iban])\n",
    "    except:\n",
    "        continue\n",
    "prirez = open('stope.txt', 'r', encoding='UTF-8')\n",
    "\n",
    "prirez_dict = {}\n",
    "\n",
    "for line in prirez:\n",
    "    try:\n",
    "        grad = \" \".join(line.split()[:-1])\n",
    "        stopa = float(line.split()[-1])\n",
    "\n",
    "        prirez_dict[grad.upper()] = stopa\n",
    "\n",
    "        lst2.append([grad.upper(), stopa])\n",
    "    except:\n",
    "        continue\n",
    "\n",
    "for grad, joppd in gradovi_dict.items():\n",
    "    for i, item in enumerate(lst):\n",
    "        if item[0] == grad:\n",
    "            gradovi_dict[grad].append(item[1])\n",
    "    \n",
    "    if len(gradovi_dict[grad]) < 2:\n",
    "        gradovi_dict[grad].append(None)\n",
    "    \n",
    "        \n",
    "\n",
    "\n",
    "\n"
   ]
  },
  {
   "cell_type": "code",
   "execution_count": 10,
   "metadata": {},
   "outputs": [],
   "source": [
    "from pandas import DataFrame"
   ]
  },
  {
   "cell_type": "code",
   "execution_count": 11,
   "metadata": {},
   "outputs": [],
   "source": [
    "df_cities = DataFrame.from_dict(gradovi_dict, orient='index')\n",
    "\n",
    "df_cities.reset_index(inplace=True)\n",
    "df_cities.rename(columns={'index': 'city_name', 0: 'pk', 1: 'IBAN', 2: 'stopa'}, inplace=True)"
   ]
  },
  {
   "cell_type": "code",
   "execution_count": 13,
   "metadata": {},
   "outputs": [],
   "source": [
    "from bs4 import BeautifulSoup\n",
    "from requests import get\n",
    "\n",
    "banks_page = get('https://tockanai.hr/banke/')\n",
    "\n",
    "soup = BeautifulSoup(banks_page.content, 'html.parser')\n",
    "\n",
    "div = soup.find_all(\"div\", attrs={\"class\": \"vc_tta-panels-container\"})\n",
    "\n"
   ]
  },
  {
   "cell_type": "code",
   "execution_count": 15,
   "metadata": {},
   "outputs": [],
   "source": [
    "banks = {}\n",
    "\n",
    "for item in div:\n",
    "\n",
    "    bank = str(item.find_next('h3'))\n",
    "    \n",
    "    bank_name = bank[4:-5].strip()\n",
    "\n",
    "    p = str(item.findChildren('p'))\n",
    "\n",
    "    try:\n",
    "        s = p.index('Poštanski broj i grad')\n",
    "        e = p.index('<br/>', s+len('Poštanski broj i grad'))\n",
    "\n",
    "        res = p[s+len('Poštanski broj i grad:')+7:e]\n",
    "\n",
    "        if ', ' in p[s+len('Poštanski broj i grad:')+7:e]:   \n",
    "            res = res.replace(',', '') \n",
    "\n",
    "        city = res.strip()\n",
    "\n",
    "    except ValueError:\n",
    "        city = ''\n",
    "\n",
    "\n",
    "    try:\n",
    "        s = p.index('Adresa')\n",
    "        e = p.index('<br/>', s+7)\n",
    "\n",
    "        address = p[s+7:e].strip()\n",
    "        \n",
    "    except ValueError:\n",
    "        address = ''\n",
    "\n",
    "    try:\n",
    "        s = p.index('OIB')\n",
    "        e = p.index('<br/>', s+4)\n",
    "\n",
    "        oib = p[s+4:e].strip()\n",
    "\n",
    "    except ValueError:\n",
    "        oib = ''\n",
    "    \n",
    "    try:\n",
    "        s = p.index('Matični broj')\n",
    "        e = p.index('<br/>', s+len('Matični broj'))\n",
    "\n",
    "        mib = p[s+len('Matični broj:'):e].strip()\n",
    "  \n",
    "    except ValueError:\n",
    "        mib = ''\n",
    "\n",
    "    try:\n",
    "        s = p.index('IBAN')\n",
    "        e = p.index('<br/>', s+len('IBAN'))\n",
    "\n",
    "        iban = p[s+len('IBAN:'):e].strip()\n",
    "  \n",
    "    except ValueError:\n",
    "        iban = ''\n",
    "    \n",
    "    banks[bank_name] = {'oib': oib, 'mib': mib, 'address': address, 'city': city, 'iban': iban}\n",
    "\n",
    "for podaci in banks.values():\n",
    "    podaci['city'] = podaci['city'].upper()\n",
    "\n",
    "    "
   ]
  },
  {
   "cell_type": "code",
   "execution_count": 16,
   "metadata": {},
   "outputs": [],
   "source": [
    "df_banks = DataFrame.from_dict(banks)\n",
    "\n",
    "df_banks = df_banks.T\n",
    "df_banks.reset_index(inplace=True)\n",
    "\n",
    "df_banks.rename(columns={'index': 'bank_name', 'city': 'city_name'}, inplace=True)"
   ]
  },
  {
   "cell_type": "code",
   "execution_count": 17,
   "metadata": {},
   "outputs": [],
   "source": [
    "df_cities = df_cities[['city_name', 'pk', 'stopa']]"
   ]
  },
  {
   "cell_type": "code",
   "execution_count": 18,
   "metadata": {},
   "outputs": [],
   "source": [
    "df = DataFrame.merge(df_cities, df_banks, on='city_name', how='right')\n",
    "\n",
    "df = df[['bank_name', 'oib', 'mib', 'iban', 'address', 'pk']]\n",
    "df.rename(columns={'pk': 'city', 'oib': 'pk'}, inplace=True)"
   ]
  },
  {
   "cell_type": "code",
   "execution_count": 19,
   "metadata": {},
   "outputs": [],
   "source": [
    "banks_dict = df.to_dict(orient='index')"
   ]
  },
  {
   "cell_type": "code",
   "execution_count": 22,
   "metadata": {},
   "outputs": [],
   "source": [
    "bank_name = 'bank_name'\n",
    "pk = 'pk'\n",
    "mib = 'mib'\n",
    "address = 'address'\n",
    "city = 'city'\n",
    "iban = 'iban'"
   ]
  },
  {
   "cell_type": "code",
   "execution_count": 24,
   "metadata": {},
   "outputs": [],
   "source": [
    "j = '['\n",
    "\n",
    "for data in banks_dict.values():\n",
    "    j += f'{{\"model\": \"third_parties.bank\", \"pk\": \"{data[pk]}\", \"fields\": {{\"bank_name\": \"{data[bank_name]}\", \"mib\": \"{data[mib]}\", \"iban\": \"{data[iban]}\", \"address\": \"{data[address]}\", \"city\": \"{data[city]}\"}}}},\\n'\n",
    "\n",
    "j = j[:-1] + ']'"
   ]
  },
  {
   "cell_type": "code",
   "execution_count": 25,
   "metadata": {},
   "outputs": [
    {
     "output_type": "execute_result",
     "data": {
      "text/plain": [
       "'[{\"model\": \"third_parties.bank\", \"pk\": \"14036333877\", fields: {\"bank_name\": \"ADDIKO BANK d.d.\", \"mib\": \"1198947\", \"iban\": \"HR6025000091000000013\", \"address\": Slavonska avenija 6, \"city\": \"01333\"}},\\n{\"model\": \"third_parties.bank\", \"pk\": \"70663193635\", fields: {\"bank_name\": \"AGRAM BANKA d.d. Zagreb\", \"mib\": \"80003981\", \"iban\": \"HR4424810001011111116\", \"address\": Ulica grada Vukovara 74, \"city\": \"01333\"}},\\n{\"model\": \"third_parties.bank\", \"pk\": \"32247795989\", fields: {\"bank_name\": \"CROATIA BANKA d.d.\", \"mib\": \"03467988\", \"iban\": \"HR0324850031000009027\", \"address\": Roberta Frangeša Mihanovića 9, \"city\": \"01333\"}},\\n{\"model\": \"third_parties.bank\", \"pk\": \"87939104217\", fields: {\"bank_name\": \"HRVATSKA POŠTANSKA BANKA d.d. Zagreb\", \"mib\": \"3777928\", \"iban\": \"HR4623900011070000029\", \"address\": Jurišićeva 4, \"city\": \"01333\"}},\\n{\"model\": \"third_parties.bank\", \"pk\": \"73656725926\", fields: {\"bank_name\": \"KENTBANK d.d. Zagreb\", \"mib\": \"1263986\", \"iban\": \"HR5741240031011111116\", \"address\": Gundulićeva 1, \"city\": \"01333\"}},\\n{\"model\": \"third_parties.bank\", \"pk\": \"71221608291\", fields: {\"bank_name\": \"PARTNER BANKA d.d. Zagreb\", \"mib\": \"3726177\", \"iban\": \"HR9424080021000002870\", \"address\": Vončinina 2, \"city\": \"01333\"}},\\n{\"model\": \"third_parties.bank\", \"pk\": \"02535697732\", fields: {\"bank_name\": \"PRIVREDNA BANKA ZAGREB d.d. Zagreb\", \"mib\": \"3269841\", \"iban\": \"HR6423400091000000013\", \"address\": Radnička cesta 50, \"city\": \"01333\"}},\\n{\"model\": \"third_parties.bank\", \"pk\": \"53056966535\", fields: {\"bank_name\": \"RAIFFEISENBANK AUSTRIA d.d. Zagreb\", \"mib\": \"80002366\", \"iban\": \"HR0624840081000000013\", \"address\": Magazinska cesta 69, \"city\": \"01333\"}},\\n{\"model\": \"third_parties.bank\", \"pk\": \"78427478595\", fields: {\"bank_name\": \"SBERBANK d.d. Zagreb\", \"mib\": \"1260405\", \"iban\": \"HR1225030071011111116\", \"address\": Varšavska 9, \"city\": \"01333\"}},\\n{\"model\": \"third_parties.bank\", \"pk\": \"58063088591\", fields: {\"bank_name\": \"ŠTEDBANKA d.d. u likvidaciji\", \"mib\": \"813737\", \"iban\": \"HR9724020061100854774\", \"address\": Slavonska avenija 3, \"city\": \"01333\"}},\\n{\"model\": \"third_parties.bank\", \"pk\": \"82901735413\", fields: {\"bank_name\": \"TESLA ŠTEDNA BANKA d.d. Zagreb u stečaju\", \"mib\": \"02500256\", \"iban\": \"HR0367170021000000013\", \"address\": Trg J. F. Kennedyja 6 B, \"city\": \"01333\"}},\\n{\"model\": \"third_parties.bank\", \"pk\": \"81712716992\", fields: {\"bank_name\": \"VENETO BANKA d.d. Zagreb\", \"mib\": \"3917185\", \"iban\": \"\", \"address\": Draškovićeva 58a, \"city\": \"01333\"}},\\n{\"model\": \"third_parties.bank\", \"pk\": \"92963223473\", fields: {\"bank_name\": \"ZAGREBAČKA BANKA d.d. Zagreb\", \"mib\": \"3234495\", \"iban\": \"HR8823600001000000013\", \"address\": Trg bana Josipa Jelačića 10, \"city\": \"01333\"}},\\n{\"model\": \"third_parties.bank\", \"pk\": \"33039197637\", fields: {\"bank_name\": \"BANKA KOVANICA d.d.\", \"mib\": \"1326287\", \"iban\": \"HR0941330061011111116\", \"address\": Petra Preradovića 29, \"city\": \"04723\"}},\\n{\"model\": \"third_parties.bank\", \"pk\": \"38182927268\", fields: {\"bank_name\": \"J&amp;T BANKA d.d. Varaždin\", \"mib\": \"0675539\", \"iban\": \"HR7724890041006755391\", \"address\": Aleja kralja Zvonimira 1, \"city\": \"04723\"}},\\n{\"model\": \"third_parties.bank\", \"pk\": \"02138784111\", fields: {\"bank_name\": \"BKS BANK AG\", \"mib\": \"40364313\", \"iban\": \"HR5724880011011111116\", \"address\": Mljekarski trg 3, \"city\": \"03735\"}},\\n{\"model\": \"third_parties.bank\", \"pk\": \"23057039320\", fields: {\"bank_name\": \"ERSTE &amp; STEIERMÄRKISCHE BANK d.d.\", \"mib\": \"3337367\", \"iban\": \"HR9524020061031262160\", \"address\": Jadranski trg 3A, \"city\": \"03735\"}},\\n{\"model\": \"third_parties.bank\", \"pk\": \"96675880337\", fields: {\"bank_name\": \"PRIMORSKA BANKA d.d. Rijeka u likvidaciji\", \"mib\": \"1318942\", \"iban\": \"HR1841320031011111116\", \"address\": Scarpina 7, \"city\": \"03735\"}},\\n{\"model\": \"third_parties.bank\", \"pk\": \"99326633206\", fields: {\"bank_name\": \"IMEX BANKA d.d. Split\", \"mib\": \"0971359\", \"iban\": \"HR4024920081011111116\", \"address\": Tolstojeva 6, \"city\": \"04090\"}},\\n{\"model\": \"third_parties.bank\", \"pk\": \"69326397242\", fields: {\"bank_name\": \"SPLITSKA BANKA d.d. Split (OTP Grupa)\", \"mib\": \"60000488\", \"iban\": \"HR2423300031000000013\", \"address\": Ulica Domovinskog rata 61, \"city\": \"04090\"}},\\n{\"model\": \"third_parties.bank\", \"pk\": \"65723536010\", fields: {\"bank_name\": \"ISTARSKA KREDITNA BANKA UMAG d.d. Umag\", \"mib\": \"3463958\", \"iban\": \"HR7723800061000000005\", \"address\": Ernesta Miloša 1, \"city\": \"04685\"}},\\n{\"model\": \"third_parties.bank\", \"pk\": \"02899494784\", fields: {\"bank_name\": \"JADRANSKA BANKA d.d. Šibenik\", \"mib\": \"3019349\", \"iban\": \"HR8624110061011111116\", \"address\": Ante Starčevića 4, \"city\": \"04448\"}},\\n{\"model\": \"third_parties.bank\", \"pk\": \"08106331075\", fields: {\"bank_name\": \"KARLOVAČKA BANKA d.d. Karlovac\", \"mib\": \"3123014\", \"iban\": \"HR5224000081011111116\", \"address\": Ivana Gorana Kovačića 1, \"city\": \"01791\"}},\\n{\"model\": \"third_parties.bank\", \"pk\": \"52508873833\", fields: {\"bank_name\": \"OTP BANKA HRVATSKA d.d. Zadar\", \"mib\": \"60000531\", \"iban\": \"HR5324070001024070003\", \"address\": Domovinskog rata 3, \"city\": \"05207\"}},\\n{\"model\": \"third_parties.bank\", \"pk\": \"97326283154\", fields: {\"bank_name\": \"PODRAVSKA BANKA d.d. Koprivnica\", \"mib\": \"3015904\", \"iban\": \"HR6323860021000010160\", \"address\": Opatička 3, \"city\": \"02011\"}},\\n{\"model\": \"third_parties.bank\", \"pk\": \"13806526186\", fields: {\"bank_name\": \"SAMOBORSKA BANKA d.d. Samobor\", \"mib\": \"3113680\", \"iban\": \"HR3624030091011111116\", \"address\": Trg kralja Tomislava 8, \"city\": \"03808\"}},\\n{\"model\": \"third_parties.bank\", \"pk\": \"42252496579\", fields: {\"bank_name\": \"SLATINSKA BANKA d.d. Slatina\", \"mib\": \"3999092\", \"iban\": \"HR2324120091039990928\", \"address\": V.Nazora 2, \"city\": \"03956\"}},]'"
      ]
     },
     "metadata": {},
     "execution_count": 25
    }
   ],
   "source": [
    "banks_json = open('banks_fixtures.json', 'w', encoding='UTF-8')\n",
    "\n",
    "banks_json.write(j)\n",
    "\n",
    "banks_json.close()"
   ]
  },
  {
   "cell_type": "code",
   "execution_count": 5,
   "metadata": {},
   "outputs": [],
   "source": [
    "from bs4 import BeautifulSoup\n",
    "from requests import get, post"
   ]
  },
  {
   "cell_type": "code",
   "execution_count": null,
   "metadata": {},
   "outputs": [],
   "source": [
    "from bs4 import BeautifulSoup\n",
    "from requests import get\n",
    "\n",
    "page: int = 1\n",
    "\n",
    "while True:\n",
    "    query: str = f'https://www.posta.hr/pretrazivanje-postanskih-ureda/263?pojam=&page={page}'\n",
    "\n",
    "    try:\n",
    "        postal_codes_page = get(query)\n",
    "    except IndexError:\n",
    "        print('kraj')\n",
    "        return\n",
    "    else:\n",
    "\n",
    "        soup = BeautifulSoup(banks_page.content, 'html.parser')\n",
    "\n",
    "        div = soup.find_all(\"div\", attrs={\"class\": \"vc_tta-panels-container\"})"
   ]
  }
 ]
}