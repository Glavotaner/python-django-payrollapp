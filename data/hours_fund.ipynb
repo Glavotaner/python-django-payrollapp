{
 "metadata": {
  "language_info": {
   "codemirror_mode": {
    "name": "ipython",
    "version": 3
   },
   "file_extension": ".py",
   "mimetype": "text/x-python",
   "name": "python",
   "nbconvert_exporter": "python",
   "pygments_lexer": "ipython3",
   "version": "3.8.5-final"
  },
  "orig_nbformat": 2,
  "kernelspec": {
   "name": "python3",
   "display_name": "Python 3.8.5 64-bit",
   "metadata": {
    "interpreter": {
     "hash": "31f2aee4e71d21fbe5cf8b01ff0e069b9275f58929596ceb00d14d90e3e16cd6"
    }
   }
  }
 },
 "nbformat": 4,
 "nbformat_minor": 2,
 "cells": [
  {
   "cell_type": "code",
   "execution_count": 1,
   "metadata": {},
   "outputs": [],
   "source": [
    "from pandas import read_csv"
   ]
  },
  {
   "cell_type": "code",
   "execution_count": 2,
   "metadata": {},
   "outputs": [],
   "source": [
    "hours = read_csv('Hour fund 2020.csv', ',', encoding='latin1')\n",
    "\n",
    "hours = hours.to_dict()"
   ]
  },
  {
   "cell_type": "code",
   "execution_count": 18,
   "metadata": {},
   "outputs": [],
   "source": [
    "s = '['\n",
    "\n",
    "period = 202101\n",
    "counter = 1\n",
    "\n",
    "for value in hours['Fond radnih sati'].values():\n",
    "    \n",
    "    s += f'{{\"model\": \"calculation_data_app.HourFund\",\\n\"pk\": {period},\\n\"fields\": {{\\n\"year\": 2021,\\n\"month\": {counter},\\n\"total_hours\": {value}}}}},\\n'\n",
    "    counter += 1\n",
    "    period += 1\n",
    "\n",
    "\n",
    "s = s[:-1] + ']'\n",
    "\n"
   ]
  },
  {
   "cell_type": "code",
   "execution_count": 19,
   "metadata": {},
   "outputs": [],
   "source": [
    "hour_fund = open('hour_fund_fixtures.json', 'w')\n",
    "hour_fund.write(s)\n",
    "hour_fund.close()"
   ]
  },
  {
   "cell_type": "code",
   "execution_count": null,
   "metadata": {},
   "outputs": [],
   "source": []
  }
 ]
}