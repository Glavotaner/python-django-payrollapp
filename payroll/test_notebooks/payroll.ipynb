{
 "metadata": {
  "language_info": {
   "codemirror_mode": {
    "name": "ipython",
    "version": 3
   },
   "file_extension": ".py",
   "mimetype": "text/x-python",
   "name": "python",
   "nbconvert_exporter": "python",
   "pygments_lexer": "ipython3",
   "version": "3.7.8-final"
  },
  "orig_nbformat": 2,
  "kernelspec": {
   "name": "python37864bit4e0604fcefbf4dd2a8c0e08824751fcb",
   "display_name": "Python 3.7.8 64-bit"
  }
 },
 "nbformat": 4,
 "nbformat_minor": 2,
 "cells": [
  {
   "cell_type": "code",
   "execution_count": 1,
   "metadata": {
    "tags": []
   },
   "outputs": [],
   "source": [
    "regularHours = 120\n",
    "wage = 25\n",
    "healthInsurancePerc = 0.165\n",
    "retirement = {\"First stage\" : 0.15, \"Second stage\" : 0.05}\n",
    "baseDeductible = 2500\n",
    "personalDeductible = 4000\n",
    "dependentDeductible = 2500 * 0.7\n",
    "incomeTax = {\"<= 30 000\" : 0.24, \"> 30 000\" : 0.36}\n",
    "cityTax = 0.13"
   ]
  },
  {
   "cell_type": "code",
   "execution_count": 2,
   "metadata": {},
   "outputs": [],
   "source": [
    "def calculate_salary(hours, wage):\n",
    "\n",
    "    global healthInsurancePerc\n",
    "    global retirement\n",
    "    global baseDeductible\n",
    "    global personalDeductible\n",
    "    global dependentDeductible\n",
    "    global incomeTax\n",
    "    global cityTax\n",
    "\n",
    "    contributionsCalcBase = hours * wage\n",
    "    \n",
    "    income = contributionsCalcBase - ((contributionsCalcBase * retirement.get(\"First stage\")) + (contributionsCalcBase * retirement.get(\"Second stage\")))\n",
    "\n",
    "    deductibleAmount = personalDeductible + dependentDeductible\n",
    "    \n",
    "    if income - deductibleAmount <= 0:\n",
    "        taxBase = 0\n",
    "    else:\n",
    "        taxBase = income - deductibleAmount\n",
    "\n",
    "    if taxBase <= 30000:\n",
    "        bracket = \"<= 30 000\" \n",
    "    else:\n",
    "        bracket = \"> 30 000\"\n",
    "        tax_amount = taxBase \n",
    "\n",
    "    netIncome = income - (taxBase - ((taxBase * incomeTax.get(bracket)) * cityTax))\n",
    "    \n",
    "    return netIncome"
   ]
  },
  {
   "cell_type": "code",
   "execution_count": 3,
   "metadata": {
    "tags": []
   },
   "outputs": [
    {
     "output_type": "stream",
     "name": "stdout",
     "text": "726.8000000000002\n"
    },
    {
     "output_type": "execute_result",
     "data": {
      "text/plain": "5772.67616"
     },
     "metadata": {},
     "execution_count": 3
    }
   ],
   "source": [
    "calculate_salary(176, 46)"
   ]
  },
  {
   "cell_type": "code",
   "execution_count": 13,
   "metadata": {
    "tags": []
   },
   "outputs": [
    {
     "output_type": "stream",
     "name": "stdout",
     "text": "500\nTrue\n"
    }
   ],
   "source": [
    "PERSONAL_DEDUCTIBLE = 4000\n",
    "BASE_DEDUCTIBLE = 2500\n",
    "\n",
    "DEPENDENT = 1750\n",
    "\n",
    "CHILDREN_DEDUCTIBLES = [1750, 2500, 3500, 4750, 6250, 8000, 10000, 12250, 14750]\n",
    "\n",
    "def over_9_children_amount(no_children):\n",
    "    base_coef = 1.0\n",
    "    pass\n",
    "\n",
    "\n",
    "def calc_base(income, no_dep, no_dep_dis):\n",
    "    calculation_passed = False\n",
    "    while income > 0:\n",
    "        \n",
    "        income -= 4000\n",
    "        income -= no_dep * 1750\n",
    "        income -= no_dep_dis * 1000\n",
    "    \n",
    "        if income <= 0:\n",
    "            income = 0\n",
    "            calculation_passed = False\n",
    "            break\n",
    "        calculation_passed = True\n",
    "        print(income)\n",
    "        break\n",
    "\n",
    "    return calculation_passed\n",
    "\n",
    "print(calc_base(9000, 2, 1)) \n",
    "    \n",
    "\n",
    "DISABLED_DEDUCTIBLE = 1000\n",
    "DISABLED_100_DEDUCTIBLE = 3750"
   ]
  },
  {
   "cell_type": "code",
   "execution_count": 21,
   "metadata": {},
   "outputs": [],
   "source": [
    "child_coefs = [0.7, 1.0, 1.4, 1.9, 2.5, 3.2, 4.0, 4.9, 5.9, 7]\n",
    "\n",
    "\n",
    "\n",
    "def coef_calc(no_child):\n",
    "    global child_coefs\n",
    "\n",
    "    if no_child < 10:\n",
    "        return child_coefs[no_child - 1] * 2500\n",
    "    elif no_child < 0:\n",
    "        return 0\n",
    "    else:\n",
    "        return ((no_child - 9) * 1.1 + 7) * 2500"
   ]
  },
  {
   "cell_type": "code",
   "execution_count": 22,
   "metadata": {
    "tags": []
   },
   "outputs": [
    {
     "output_type": "stream",
     "name": "stdout",
     "text": "23000.0\n"
    }
   ],
   "source": [
    "coef_calc(9)\n",
    "print(9.2 * 2500)"
   ]
  },
  {
   "cell_type": "code",
   "execution_count": 23,
   "metadata": {
    "tags": []
   },
   "outputs": [
    {
     "output_type": "stream",
     "name": "stdout",
     "text": "17500\n1750.0\n2500.0\n3500.0\n4750.0\n6250.0\n8000.0\n10000.0\n12250.0\n14750.0\n20250.0\n23000.0\n"
    }
   ],
   "source": [
    "for i, value in enumerate(range(12)):\n",
    "    print(coef_calc(i))"
   ]
  },
  {
   "cell_type": "code",
   "execution_count": 1,
   "metadata": {},
   "outputs": [
    {
     "output_type": "execute_result",
     "data": {
      "text/plain": "42"
     },
     "metadata": {},
     "execution_count": 1
    }
   ],
   "source": [
    "wages = {'SUPPORT_EMPLOYEE': 42, 'DEVELOPER': 50, 'PROJECT_MANAGER': 60}\n",
    "        \n",
    "wages.get('SUPPORT_EMPLOYEE')"
   ]
  },
  {
   "cell_type": "code",
   "execution_count": null,
   "metadata": {},
   "outputs": [],
   "source": []
  }
 ]
}