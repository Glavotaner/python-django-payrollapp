{
 "metadata": {
  "language_info": {
   "codemirror_mode": {
    "name": "ipython",
    "version": 3
   },
   "file_extension": ".py",
   "mimetype": "text/x-python",
   "name": "python",
   "nbconvert_exporter": "python",
   "pygments_lexer": "ipython3",
   "version": "3.7.8-final"
  },
  "orig_nbformat": 2,
  "kernelspec": {
   "name": "python37864bitenvvenv44c0b1118a5e4d87a8266863ec612987",
   "display_name": "Python 3.7.8 64-bit ('env': venv)"
  }
 },
 "nbformat": 4,
 "nbformat_minor": 2,
 "cells": [
  {
   "cell_type": "code",
   "execution_count": 1,
   "metadata": {
    "tags": []
   },
   "outputs": [],
   "source": [
    "regularHours = 120\n",
    "wage = 25\n",
    "healthInsurancePerc = 0.165\n",
    "retirement = {\"First stage\" : 0.15, \"Second stage\" : 0.05}\n",
    "baseDeductible = 2500\n",
    "personalDeductible = 4000\n",
    "dependentDeductible = 2500 * 0.7\n",
    "incomeTax = {\"<= 30 000\" : 0.24, \"> 30 000\" : 0.36}\n",
    "cityTax = 0.13"
   ]
  },
  {
   "cell_type": "code",
   "execution_count": 2,
   "metadata": {},
   "outputs": [],
   "source": [
    "def calculate_salary(hours, wage):\n",
    "\n",
    "    global healthInsurancePerc\n",
    "    global retirement\n",
    "    global baseDeductible\n",
    "    global personalDeductible\n",
    "    global dependentDeductible\n",
    "    global incomeTax\n",
    "    global cityTax\n",
    "\n",
    "    contributionsCalcBase = hours * wage\n",
    "    \n",
    "    income = contributionsCalcBase - ((contributionsCalcBase * retirement.get(\"First stage\")) + (contributionsCalcBase * retirement.get(\"Second stage\")))\n",
    "\n",
    "    deductibleAmount = personalDeductible + dependentDeductible\n",
    "    \n",
    "    if income - deductibleAmount <= 0:\n",
    "        taxBase = 0\n",
    "    else:\n",
    "        taxBase = income - deductibleAmount\n",
    "\n",
    "    if taxBase <= 30000:\n",
    "        bracket = \"<= 30 000\" \n",
    "    else:\n",
    "        bracket = \"> 30 000\"\n",
    "        tax_amount = taxBase \n",
    "\n",
    "    netIncome = income - (taxBase - ((taxBase * incomeTax.get(bracket)) * cityTax))\n",
    "    \n",
    "    return netIncome"
   ]
  },
  {
   "cell_type": "code",
   "execution_count": 3,
   "metadata": {
    "tags": []
   },
   "outputs": [
    {
     "output_type": "stream",
     "name": "stdout",
     "text": "726.8000000000002\n"
    },
    {
     "output_type": "execute_result",
     "data": {
      "text/plain": "5772.67616"
     },
     "metadata": {},
     "execution_count": 3
    }
   ],
   "source": [
    "calculate_salary(176, 46)"
   ]
  },
  {
   "cell_type": "code",
   "execution_count": null,
   "metadata": {},
   "outputs": [],
   "source": []
  }
 ]
}